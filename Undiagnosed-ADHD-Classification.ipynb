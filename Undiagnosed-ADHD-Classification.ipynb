{
 "cells": [
  {
   "cell_type": "markdown",
   "metadata": {
    "collapsed": true,
    "pycharm": {
     "name": "#%% md\n"
    }
   },
   "source": [
    "# Undiagnosed ADHD Classification\n",
    "by [Matthew Turner](https://www.linkedin.com/in/matthew-turner-a5649a21b/)"
   ]
  },
  {
   "cell_type": "markdown",
   "source": [
    "# Introduction\n",
    "\n",
    "ADHD is a developmental disorder associated with an ongoing pattern of inattention, hyperactivity, and/or impulsivity.\n",
    "The symptoms of ADHD can interfere significantly with an individual’s daily activities and relationships.\n",
    "ADHD symptoms begin in childhood [and worsen in the teen years and adulthood](https://www.nimh.nih.gov/health/publications/adhd-what-you-need-to-know#part_6209).\n",
    "\n",
    "People with ADHD experience an ongoing pattern of the following types of symptoms:\n",
    "\n",
    "- Inattention–having difficulty paying attention\n",
    "- Hyperactivity–having too much energy or moving and talking too much\n",
    "- Impulsivity–acting without thinking or having difficulty with self-control\n",
    "\n",
    "Some people with ADHD mainly have symptoms of inattention. Others mostly have symptoms of hyperactivity-impulsivity.\n",
    "Some people have both types of symptoms.\n",
    "\n",
    "ADHD comes in many forms and severities, and teenagers and adults who are undiagnosed often don't even consider they may\n",
    "have ADHD if their symptoms don't perfectly match stereotypes of ADHD in the media."
   ],
   "metadata": {
    "collapsed": false,
    "pycharm": {
     "name": "#%% md\n"
    }
   }
  },
  {
   "cell_type": "markdown",
   "source": [
    "\n",
    "## Problem\n",
    "\n",
    "As established above, Undiagnosed ADHD can be difficult for those with it. But why is it [so common](https://www.singlecare.com/blog/news/adhd-statistics/#adult-adhd-statistics) for ADHD to go undiagnosed?\n",
    "\n",
    "Personally, I think this is a multi-pronged issue:\n",
    "\n",
    "**ADHD is not well understood.**\n",
    "ADHD is still a [subject of heavy research](https://www.cdc.gov/ncbddd/adhd/research.html) in the science/medical field. Currently, we do not know what causes ADHD, but we know there is some genetic component involved. There is no blood test or any kind of empirical way to test for ADHD; it can only be diagnosed through observation of its symptoms.\n",
    "\n",
    "**The way ADHD is Diagnosed.**\n",
    "To be diagnosed with ADHD, you would have to specifically bring it up with your doctor; this means that if you don't suspect you have it, you may never bring it up to your doctor on your own. ADHD is diagnosed by a doctor [asking a series of questions](https://www.cdc.gov/ncbddd/adhd/diagnosis.html) relating to long-term behavioral patterns at home, so it would be difficult for a doctor to notice ADHD symptoms during a regular visit.\n",
    "\n",
    "**The way ADHD is portrayed**\n",
    "People with ADHD are typically portrayed as young kids, who are extremely hyper-active and disobedient. However, hyperactivity is only one component of ADHD, and it expresses itself in various ways. Especially as kids grow older, hyperactivity can [look very different](https://www.nytimes.com/2010/12/14/health/14klass.html) from what is portrayed in media/pop culture. This results in individuals rejecting the idea that they, or someone they know, has ADHD because their symptoms don't look like stereotypical ADHD symptoms.\n",
    "\n",
    "So, is there a solution that can be reliably used that **doesn't require a deep understanding of ADHD**, and could help spread awareness that a person may have ADHD regardless of any **personal** or **societal** bias towards what ADHD looks like?\n",
    "\n",
    "Such a solution would greatly benefit individuals with undiagnosed ADHD, and help push people towards getting a diagnoses. There are lots of \"ADHD self-tests\" on the internet, but they are questionable at best, and misleading at worst. If our hypothetical solution also used **real data** from those diagnosed with ADHD, it would definitely give it more weight as a solution.\n",
    "\n",
    "\n",
    "\n"
   ],
   "metadata": {
    "collapsed": false
   }
  },
  {
   "cell_type": "markdown",
   "source": [
    "# Data Understanding\n",
    "\n",
    "The NSCH is a household survey that produces national and state-level data on the physical and emotional health of\n",
    "children 0 - 17 years old in the United States. Since 2016, the NSCH has been an annual survey. The survey supports national estimates every year and state-level\n",
    "estimates by combining 2 or 3 years of data. In this project I would primarily look at the 2020 data.\n",
    "\n",
    "The survey collects information related to the health and well-being of\n",
    "children, including access to and use of health care, family interactions, parental health, school and after-school\n",
    "experiences, and neighborhood characteristics. A parent or other adult caregiver with knowledge of the sampled child’s health and health care filled out the topical\n",
    "questionnaire.\n",
    "\n",
    "Survey topics include:\n",
    "- Child and family characteristics\n",
    "- **Physical and mental health status, including current conditions and functional difficulties**\n",
    "- Health insurance status, type, and adequacy\n",
    "- Access and use of health care services\n",
    "- Medical, dental, and specialty care needed and received\n",
    "- Family health and activities\n",
    "- Impact of child’s health on family\n",
    "- Neighborhood characteristics\n",
    "\n",
    "It will be important to explore the relationships between some of these categories as well. For example, there are other\n",
    "questions about ADHD that will need to be removed, since a child who has not been diagnosed with ADHD won't answer\n",
    "those questions. Another example is the gender category, boys are more likely to be diagnosed with ADHD than girls\n",
    "by 12.9% compared to 5.6%. It is unlikely that this is because boys actually are more likely to have ADHD, but rather\n",
    "girls just dont get **diagnosed** as often as boys do due to cultural stereotypes. Visualising these things with graphs,\n",
    "and using metaphors and stories is going to be extremely important in this project. There is a lot of data here, and it\n",
    "will be easy to forget that these are all real people.\n",
    "\n",
    "Data sourced from the [National Survey of Children's Health](https://www.census.gov/programs-surveys/nsch/data/datasets.html) obtained by the United States Census Bureau\n",
    "\n",
    "As far as I'm aware, no other projects have been done on this data, however, there have been a few attempts at [using\n",
    "machine learning to diagnose ADHD](https://www.sciencedaily.com/releases/2021/01/210127171838.htm). There has also been\n",
    "extensive, ongoing research into ADHD, that I will be heavily relying upon to guide my understanding of the model's results.\n",
    "I also have personal experience with ADHD, and have researched the subject myself quite heavily."
   ],
   "metadata": {
    "collapsed": false
   }
  },
  {
   "cell_type": "markdown",
   "source": [
    "# Data Cleaning"
   ],
   "metadata": {
    "collapsed": false
   }
  },
  {
   "cell_type": "markdown",
   "source": [
    "# Modeling"
   ],
   "metadata": {
    "collapsed": false
   }
  },
  {
   "cell_type": "markdown",
   "source": [
    "# Results"
   ],
   "metadata": {
    "collapsed": false
   }
  },
  {
   "cell_type": "markdown",
   "source": [
    "# Conclusion"
   ],
   "metadata": {
    "collapsed": false
   }
  },
  {
   "cell_type": "markdown",
   "source": [
    "# Next Steps"
   ],
   "metadata": {
    "collapsed": false,
    "pycharm": {
     "name": "#%% md\n"
    }
   }
  }
 ],
 "metadata": {
  "kernelspec": {
   "display_name": "Python 3",
   "language": "python",
   "name": "python3"
  },
  "language_info": {
   "codemirror_mode": {
    "name": "ipython",
    "version": 2
   },
   "file_extension": ".py",
   "mimetype": "text/x-python",
   "name": "python",
   "nbconvert_exporter": "python",
   "pygments_lexer": "ipython2",
   "version": "2.7.6"
  }
 },
 "nbformat": 4,
 "nbformat_minor": 0
}