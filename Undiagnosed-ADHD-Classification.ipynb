{
 "cells": [
  {
   "cell_type": "markdown",
   "metadata": {
    "collapsed": true,
    "pycharm": {
     "name": "#%% md\n"
    }
   },
   "source": [
    "# Undiagnosed ADHD Classification\n",
    "by [Matthew Turner](https://www.linkedin.com/in/matthew-turner-a5649a21b/)"
   ]
  },
  {
   "cell_type": "markdown",
   "source": [
    "# Introduction\n",
    "\n",
    "ADHD is a developmental disorder associated with an ongoing pattern of inattention, hyperactivity, and/or impulsivity.\n",
    "The symptoms of ADHD can interfere significantly with an individual’s daily activities and relationships.\n",
    "ADHD symptoms begin in childhood [and worsen in the teen years and adulthood](https://www.nimh.nih.gov/health/publications/adhd-what-you-need-to-know#part_6209).\n",
    "\n",
    "People with ADHD experience an ongoing pattern of the following types of symptoms:\n",
    "\n",
    "- Inattention–having difficulty paying attention\n",
    "- Hyperactivity–having too much energy or moving and talking too much\n",
    "- Impulsivity–acting without thinking or having difficulty with self-control\n",
    "\n",
    "Some people with ADHD mainly have symptoms of inattention. Others mostly have symptoms of hyperactivity-impulsivity.\n",
    "Some people have both types of symptoms.\n",
    "\n",
    "ADHD comes in many forms and severities, and teenagers and adults who are undiagnosed often don't even consider they may\n",
    "have ADHD if their symptoms don't perfectly match stereotypes of ADHD in the media."
   ],
   "metadata": {
    "collapsed": false,
    "pycharm": {
     "name": "#%% md\n"
    }
   }
  },
  {
   "cell_type": "markdown",
   "source": [
    "\n",
    "## Problem\n",
    "\n",
    "As established above, Undiagnosed ADHD can be difficult for those with it. But why is it [so common](https://www.singlecare.com/blog/news/adhd-statistics/#adult-adhd-statistics) for ADHD to go undiagnosed?\n",
    "\n",
    "Personally, I think this is a multi-pronged issue:\n",
    "\n",
    "**ADHD is not well understood.**\n",
    "ADHD is still a [subject of heavy research](https://www.cdc.gov/ncbddd/adhd/research.html) in the science/medical field. Currently, we do not know what causes ADHD, but we know there is some genetic component involved. There is no blood test or any kind of empirical way to test for ADHD; it can only be diagnosed through observation of its symptoms.\n",
    "\n",
    "**The way ADHD is Diagnosed.**\n",
    "To be diagnosed with ADHD, you would have to specifically bring it up with your doctor; this means that if you don't suspect you have it, you may never bring it up to your doctor on your own. ADHD is diagnosed by a doctor [asking a series of questions](https://www.cdc.gov/ncbddd/adhd/diagnosis.html) relating to long-term behavioral patterns at home, so it would be difficult for a doctor to notice ADHD symptoms during a regular visit.\n",
    "\n",
    "**The way ADHD is portrayed**\n",
    "People with ADHD are typically portrayed as young kids, who are extremely hyper-active and disobedient. However, hyperactivity is only one component of ADHD, and it expresses itself in various ways. Especially as kids grow older, hyperactivity can [look very different](https://www.nytimes.com/2010/12/14/health/14klass.html) from what is portrayed in media/pop culture. This results in individuals rejecting the idea that they, or someone they know, has ADHD because their symptoms don't look like stereotypical ADHD symptoms.\n",
    "\n",
    "So, is there a solution that can be reliably used that **doesn't require a deep understanding of ADHD**, and could help spread awareness that a person may have ADHD regardless of any **personal** or **societal** bias towards what ADHD looks like?\n",
    "\n",
    "\n",
    "Such a solution would greatly benefit individuals with undiagnosed ADHD, and help push people towards getting a diagnoses. There are lots of \"ADHD self-tests\" on the internet, but they are questionable at best, and misleading at worst. If our hypothetical solution also used **real data** from those diagnosed with ADHD, it would definitely give it more weight as a solution.\n",
    "\n",
    "Where human perception fails, a machine can excel. Machine learning is the perfect solution for this kind of problem. An AI **doesn't need a deep understanding** of a subject to recognize underlying patterns, and **it doesn't care** about any personal bias, or what ADHD \"should\" look like according to society. The nature of machine learning also means it would **need to use real data**, But does a data source like that even exist?"
   ],
   "metadata": {
    "collapsed": false
   }
  },
  {
   "cell_type": "markdown",
   "source": [
    "## Data\n",
    "\n",
    "The [NSCH](https://www.census.gov/programs-surveys/nsch/data/datasets.html) is a household survey that produces national and state-level data on the physical and emotional health of children 0 - 17 years old in the United States. Since 2016, the NSCH has been an annual survey. The survey supports national estimates every year and state-level estimates by combining 2 or 3 years of data. In this project I would primarily look at the 2020 data.\n",
    "\n",
    "The survey collects information related to the health and well-being of children, including access to and use of health care, family interactions, parental health, school and after-school experiences, and neighborhood characteristics. A parent or other adult caregiver with knowledge of the sampled child’s health and health care filled out the topical questionnaire.\n",
    "\n",
    "Survey topics include:\n",
    "- Child and family characteristics\n",
    "- **Physical and mental health status, including current conditions and functional difficulties**\n",
    "- Health insurance status, type, and adequacy\n",
    "- Access and use of health care services\n",
    "- Medical, dental, and specialty care needed and received\n",
    "- Family health and activities\n",
    "- Impact of child’s health on family\n",
    "- Neighborhood characteristics"
   ],
   "metadata": {
    "collapsed": false
   }
  },
  {
   "cell_type": "markdown",
   "source": [
    "## Goal\n",
    "In the NSCH data is a question that asks:\n",
    "- Has a doctor or other health care provider EVER told you that this child has…\n",
    "   Attention Deficit Disorder or Attention-Deficit/Hyperactivity Disorder, that is, ADD or ADHD?\n",
    "\n",
    "For this project, I'm going create a tool that can give the probability that a child from the survey has ADHD, **but is undiagnosed**.\n",
    "\n",
    "One distinction I'd like to make: **This project is not about diagnosing kids with ADHD**. Only a trained medical professional can diagnose someone with ADHD. This project and it's results are about spreading awareness.\n"
   ],
   "metadata": {
    "collapsed": false,
    "pycharm": {
     "name": "#%% md\n"
    }
   }
  },
  {
   "cell_type": "markdown",
   "source": [
    "# Data Understanding\n",
    "As mentioned above, the [NSCH](https://www.census.gov/programs-surveys/nsch/data/datasets.html) is a household survey that produces national and state-level data on the physical and emotional health of children 0 - 17 years old in the United States. It is performed by the US Census Bureau, and an extremely detailed [methodology report](https://www2.census.gov/programs-surveys/nsch/technical-documentation/methodology/2020-NSCH-Methodology-Report.pdf) is included with the data.\n",
    "\n",
    "As a Data scientist I need to ask myself:\n",
    "\n",
    "**Is this data suitable for our goal, and what kind of limitations does it have?**\n",
    "\n",
    "The most important thing about this data, is that it is representative of the population as a whole. Starting on page 8 of the methodology report, there is a detailed explanation of the collection methods used to gather this data. In summary, modifications were made to this data to ensure it was representative of the overall population.\n",
    "\n",
    "Let's begin taking a look at the data, with the knowledge that it accurately represents the population as a whole."
   ],
   "metadata": {
    "collapsed": false
   }
  },
  {
   "cell_type": "markdown",
   "source": [
    "## Exploratory Data Analysis\n",
    "The following section is a shortened version of this [notebook](/Notebooks/EDA.ipynb).\n",
    "\n",
    "Lets investigate and visualize some aspects of our data to help our understanding:\n",
    "\n",
    "- Distribution of kids Diagnosed with ADHD\n",
    "- Distribution of gender/sex among children diagnosed with ADHD\n",
    "- Distribution of race/ethnicity of children diagnosed with ADHD\n",
    "- Age/age groups of kids diagnosed with ADHD\n",
    "- Correlations of the target column to other columns in the dataset"
   ],
   "metadata": {
    "collapsed": false,
    "pycharm": {
     "name": "#%% md\n"
    }
   }
  },
  {
   "cell_type": "markdown",
   "source": [
    "\n",
    "### Loading and Exploring the Data\n",
    "Lets first load and explore the data, and confirm its size and shape."
   ],
   "metadata": {
    "collapsed": false
   }
  },
  {
   "cell_type": "code",
   "execution_count": 41,
   "outputs": [],
   "source": [
    "# Import statements\n",
    "import pandas as pd\n",
    "import matplotlib.pyplot as plt\n",
    "import seaborn as sns\n",
    "\n",
    "# Setting Seaborn's visual style\n",
    "sns.set_style('white')"
   ],
   "metadata": {
    "collapsed": false,
    "pycharm": {
     "name": "#%%\n"
    }
   }
  },
  {
   "cell_type": "code",
   "execution_count": 42,
   "outputs": [
    {
     "name": "stderr",
     "output_type": "stream",
     "text": [
      "/Users/matthewturner/opt/anaconda3/envs/Capstone/lib/python3.9/site-packages/pandas/io/sas/sas7bdat.py:800: PerformanceWarning: DataFrame is highly fragmented.  This is usually the result of calling `frame.insert` many times, which has poor performance.  Consider joining all columns at once using pd.concat(axis=1) instead.  To get a de-fragmented frame, use `newframe = frame.copy()`\n",
      "  rslt[name] = self._byte_chunk[jb, :].view(dtype=self.byte_order + \"d\")\n"
     ]
    },
    {
     "data": {
      "text/plain": "  FIPSST STRATUM         HHID FORMTYPE  TOTKIDS_R  TENURE  HHLANGUAGE  \\\n0  b'17'    b'1'  b'20000003'    b'T1'        2.0     1.0         1.0   \n1  b'29'   b'2A'  b'20000004'    b'T3'        1.0     1.0         1.0   \n2  b'47'    b'1'  b'20000005'    b'T1'        1.0     1.0         1.0   \n3  b'28'    b'1'  b'20000014'    b'T3'        2.0     1.0         1.0   \n4  b'55'    b'1'  b'20000015'    b'T3'        2.0     2.0         1.0   \n\n   SC_AGE_YEARS  SC_SEX  K2Q35A_1_YEARS  ...  BIRTH_YR_F  BMICLASS  \\\n0           3.0     1.0             NaN  ...         0.0       NaN   \n1          14.0     2.0             NaN  ...         0.0       2.0   \n2           1.0     2.0             NaN  ...         0.0       NaN   \n3          15.0     2.0             NaN  ...         0.0       2.0   \n4          16.0     2.0             NaN  ...         0.0       3.0   \n\n   HHCOUNT_IF  FPL_I1  FPL_I2  FPL_I3  FPL_I4  FPL_I5  FPL_I6          FWC  \n0         0.0   400.0   400.0   400.0   400.0   400.0   400.0  3296.080092  \n1         0.0   400.0   400.0   400.0   400.0   400.0   400.0  2888.545330  \n2         0.0   400.0   400.0   400.0   400.0   400.0   400.0  1016.682730  \n3         0.0   143.0   143.0   143.0   143.0   143.0   143.0  1042.091065  \n4         0.0   400.0   400.0   400.0   400.0   400.0   400.0   402.372392  \n\n[5 rows x 443 columns]",
      "text/html": "<div>\n<style scoped>\n    .dataframe tbody tr th:only-of-type {\n        vertical-align: middle;\n    }\n\n    .dataframe tbody tr th {\n        vertical-align: top;\n    }\n\n    .dataframe thead th {\n        text-align: right;\n    }\n</style>\n<table border=\"1\" class=\"dataframe\">\n  <thead>\n    <tr style=\"text-align: right;\">\n      <th></th>\n      <th>FIPSST</th>\n      <th>STRATUM</th>\n      <th>HHID</th>\n      <th>FORMTYPE</th>\n      <th>TOTKIDS_R</th>\n      <th>TENURE</th>\n      <th>HHLANGUAGE</th>\n      <th>SC_AGE_YEARS</th>\n      <th>SC_SEX</th>\n      <th>K2Q35A_1_YEARS</th>\n      <th>...</th>\n      <th>BIRTH_YR_F</th>\n      <th>BMICLASS</th>\n      <th>HHCOUNT_IF</th>\n      <th>FPL_I1</th>\n      <th>FPL_I2</th>\n      <th>FPL_I3</th>\n      <th>FPL_I4</th>\n      <th>FPL_I5</th>\n      <th>FPL_I6</th>\n      <th>FWC</th>\n    </tr>\n  </thead>\n  <tbody>\n    <tr>\n      <th>0</th>\n      <td>b'17'</td>\n      <td>b'1'</td>\n      <td>b'20000003'</td>\n      <td>b'T1'</td>\n      <td>2.0</td>\n      <td>1.0</td>\n      <td>1.0</td>\n      <td>3.0</td>\n      <td>1.0</td>\n      <td>NaN</td>\n      <td>...</td>\n      <td>0.0</td>\n      <td>NaN</td>\n      <td>0.0</td>\n      <td>400.0</td>\n      <td>400.0</td>\n      <td>400.0</td>\n      <td>400.0</td>\n      <td>400.0</td>\n      <td>400.0</td>\n      <td>3296.080092</td>\n    </tr>\n    <tr>\n      <th>1</th>\n      <td>b'29'</td>\n      <td>b'2A'</td>\n      <td>b'20000004'</td>\n      <td>b'T3'</td>\n      <td>1.0</td>\n      <td>1.0</td>\n      <td>1.0</td>\n      <td>14.0</td>\n      <td>2.0</td>\n      <td>NaN</td>\n      <td>...</td>\n      <td>0.0</td>\n      <td>2.0</td>\n      <td>0.0</td>\n      <td>400.0</td>\n      <td>400.0</td>\n      <td>400.0</td>\n      <td>400.0</td>\n      <td>400.0</td>\n      <td>400.0</td>\n      <td>2888.545330</td>\n    </tr>\n    <tr>\n      <th>2</th>\n      <td>b'47'</td>\n      <td>b'1'</td>\n      <td>b'20000005'</td>\n      <td>b'T1'</td>\n      <td>1.0</td>\n      <td>1.0</td>\n      <td>1.0</td>\n      <td>1.0</td>\n      <td>2.0</td>\n      <td>NaN</td>\n      <td>...</td>\n      <td>0.0</td>\n      <td>NaN</td>\n      <td>0.0</td>\n      <td>400.0</td>\n      <td>400.0</td>\n      <td>400.0</td>\n      <td>400.0</td>\n      <td>400.0</td>\n      <td>400.0</td>\n      <td>1016.682730</td>\n    </tr>\n    <tr>\n      <th>3</th>\n      <td>b'28'</td>\n      <td>b'1'</td>\n      <td>b'20000014'</td>\n      <td>b'T3'</td>\n      <td>2.0</td>\n      <td>1.0</td>\n      <td>1.0</td>\n      <td>15.0</td>\n      <td>2.0</td>\n      <td>NaN</td>\n      <td>...</td>\n      <td>0.0</td>\n      <td>2.0</td>\n      <td>0.0</td>\n      <td>143.0</td>\n      <td>143.0</td>\n      <td>143.0</td>\n      <td>143.0</td>\n      <td>143.0</td>\n      <td>143.0</td>\n      <td>1042.091065</td>\n    </tr>\n    <tr>\n      <th>4</th>\n      <td>b'55'</td>\n      <td>b'1'</td>\n      <td>b'20000015'</td>\n      <td>b'T3'</td>\n      <td>2.0</td>\n      <td>2.0</td>\n      <td>1.0</td>\n      <td>16.0</td>\n      <td>2.0</td>\n      <td>NaN</td>\n      <td>...</td>\n      <td>0.0</td>\n      <td>3.0</td>\n      <td>0.0</td>\n      <td>400.0</td>\n      <td>400.0</td>\n      <td>400.0</td>\n      <td>400.0</td>\n      <td>400.0</td>\n      <td>400.0</td>\n      <td>402.372392</td>\n    </tr>\n  </tbody>\n</table>\n<p>5 rows × 443 columns</p>\n</div>"
     },
     "execution_count": 42,
     "metadata": {},
     "output_type": "execute_result"
    }
   ],
   "source": [
    "# Loading data into pandas dateframe\n",
    "nsch = pd.read_sas('Data/nsch_2020_topical_SAS/nsch_2020_topical.sas7bdat')\n",
    "\n",
    "# Visually checking successful loading of dataframe\n",
    "nsch.head()"
   ],
   "metadata": {
    "collapsed": false,
    "pycharm": {
     "name": "#%%\n"
    }
   }
  },
  {
   "cell_type": "markdown",
   "source": [
    "### Data Shape"
   ],
   "metadata": {
    "collapsed": false,
    "pycharm": {
     "name": "#%% md\n"
    }
   }
  },
  {
   "cell_type": "code",
   "execution_count": 43,
   "outputs": [
    {
     "name": "stdout",
     "output_type": "stream",
     "text": [
      "There are 42777 completed surveys\n",
      "There are 443 questions in the survey\n"
     ]
    }
   ],
   "source": [
    "# Getting shape of data frame and assigning to variables\n",
    "total_rows, total_columns = nsch.shape\n",
    "\n",
    "print(f'There are {total_rows} completed surveys')\n",
    "print(f'There are {total_columns} questions in the survey')"
   ],
   "metadata": {
    "collapsed": false,
    "pycharm": {
     "name": "#%%\n"
    }
   }
  },
  {
   "cell_type": "markdown",
   "source": [
    "The [Methodology Report](https://www2.census.gov/programs-surveys/nsch/technical-documentation/methodology/2020-NSCH-Methodology-Report.pdf) for this survey states that they ***reached out to 240,000 house holds, and 93,000 completed a screener survey**.\n",
    "\n",
    "They also state that **of those 93,000 households, 51,107 are included in the public use file**, however, of the 51,107 households **only 42,777 submitted a complete survey**. So our numbers match up with what is in the report."
   ],
   "metadata": {
    "collapsed": false,
    "pycharm": {
     "name": "#%% md\n"
    }
   }
  },
  {
   "cell_type": "markdown",
   "source": [
    "### ADHD Distribution\n",
    "\n",
    "Our target column for prediction will be \"K2Q31A\", which says:\n",
    "\n",
    "\n",
    "> \"Has a doctor or other health care provider EVER told you that this child has Attention Deficit Disorder or Attention-Deficit/Hyperactivity Disorder, that is, ADD or ADHD?\"\n",
    "\n",
    "Lets visualize its distribution."
   ],
   "metadata": {
    "collapsed": false
   }
  },
  {
   "cell_type": "code",
   "execution_count": 44,
   "outputs": [
    {
     "name": "stdout",
     "output_type": "stream",
     "text": [
      "90% of kids in this sample have not been diagnosed ADHD.\n",
      "10% of kids in this sample have been diagnosed ADHD.\n"
     ]
    },
    {
     "name": "stderr",
     "output_type": "stream",
     "text": [
      "/Users/matthewturner/opt/anaconda3/envs/Capstone/lib/python3.9/site-packages/seaborn/_decorators.py:36: FutureWarning: Pass the following variable as a keyword arg: x. From version 0.12, the only valid positional argument will be `data`, and passing other arguments without an explicit keyword will result in an error or misinterpretation.\n",
      "  warnings.warn(\n"
     ]
    },
    {
     "data": {
      "text/plain": "<Figure size 576x432 with 1 Axes>",
      "image/png": "[encoded data removed]"
     },
     "metadata": {},
     "output_type": "display_data"
    }
   ],
   "source": [
    "# Replacing numbers with words for easier plotting\n",
    "adhd_yn = nsch['K2Q31A'].replace({1: 'Yes', 2: 'No'})\n",
    "\n",
    "# Plotting\n",
    "fig, ax = plt.subplots(figsize=(8, 6))\n",
    "adhd_figure = sns.countplot(adhd_yn, ax=ax, edgecolor='black', order=['Yes', 'No'])\n",
    "plt.suptitle('Has a doctor diagnosed the child with ADHD?')\n",
    "adhd_figure.set(xlabel='Response')\n",
    "\n",
    "\n",
    "# Percentages of kids with ADHD\n",
    "no_adhd_p, yes_adhd_p = adhd_yn.value_counts(normalize=True)\n",
    "\n",
    "print(f'{no_adhd_p*100:.0f}% of kids in this sample have not been diagnosed ADHD.')\n",
    "print(f'{yes_adhd_p*100:.0f}% of kids in this sample have been diagnosed ADHD.')\n"
   ],
   "metadata": {
    "collapsed": false,
    "pycharm": {
     "name": "#%%\n"
    }
   }
  },
  {
   "cell_type": "markdown",
   "source": [
    "#### Analysis\n",
    "It is hard to try and compare this to an overall estimate of ADHD among the overall population, since most studies use this survey as a basis for estimation. It is important to note that kids with special health care needs have been super-sampled when the data was collected. The actual population of kids diagnosed with ADHD, most likely, does not look like this. We have an incredibly small amount of kida actually diagnosed with ADHD, and this lack of data may prove a challenge later when modeling.\n",
    "\n",
    "Now that we have this information, let's look into these 4306 kids and look at some relationships between other columns"
   ],
   "metadata": {
    "collapsed": false
   }
  },
  {
   "cell_type": "markdown",
   "source": [
    "### ADHD Diagnoses and Gender\n",
    "Lets investigate the relationship between a child's sex and ADHD diagnoses"
   ],
   "metadata": {
    "collapsed": false
   }
  },
  {
   "cell_type": "code",
   "execution_count": 45,
   "outputs": [
    {
     "name": "stderr",
     "output_type": "stream",
     "text": [
      "/var/folders/y8/vq429chs6djb0hl0y0zp5fg00000gn/T/ipykernel_31032/1839714010.py:5: SettingWithCopyWarning: \n",
      "A value is trying to be set on a copy of a slice from a DataFrame.\n",
      "Try using .loc[row_indexer,col_indexer] = value instead\n",
      "\n",
      "See the caveats in the documentation: https://pandas.pydata.org/pandas-docs/stable/user_guide/indexing.html#returning-a-view-versus-a-copy\n",
      "  adhd_df['SC_SEX'] = adhd_df['SC_SEX'].replace({1: 'Male', 2: 'Female'})\n",
      "/Users/matthewturner/opt/anaconda3/envs/Capstone/lib/python3.9/site-packages/seaborn/_decorators.py:36: FutureWarning: Pass the following variable as a keyword arg: x. From version 0.12, the only valid positional argument will be `data`, and passing other arguments without an explicit keyword will result in an error or misinterpretation.\n",
      "  warnings.warn(\n"
     ]
    },
    {
     "data": {
      "text/plain": "<Figure size 576x432 with 1 Axes>",
      "image/png": "[encoded data removed]"
     },
     "metadata": {},
     "output_type": "display_data"
    }
   ],
   "source": [
    "# Grab a dataframe with only ADHD diagnosed kids\n",
    "adhd_df = nsch[nsch['K2Q31A'] == 1]\n",
    "\n",
    "# Replace numbers with \"Male\" and \"Female\" for easier plotting\n",
    "adhd_df['SC_SEX'] = adhd_df['SC_SEX'].replace({1: 'Male', 2: 'Female'})\n",
    "\n",
    "# Plotting\n",
    "sex_fig, sex_ax = plt.subplots(figsize=(8, 6))\n",
    "adhd_sex_figure = sns.countplot(adhd_df['SC_SEX'], ax=sex_ax, edgecolor='black', order=['Male', 'Female'])\n",
    "plt.suptitle('Sex of Kids Diagnosed with ADHD')\n",
    "adhd_sex_figure.set(xlabel='Sex');"
   ],
   "metadata": {
    "collapsed": false,
    "pycharm": {
     "name": "#%%\n"
    }
   }
  },
  {
   "cell_type": "code",
   "execution_count": 46,
   "outputs": [
    {
     "name": "stdout",
     "output_type": "stream",
     "text": [
      " Of all the kids with ADHD in our sample 69% are male, and 31% are female\n"
     ]
    }
   ],
   "source": [
    "# Get normalized value counts of Sex\n",
    "male_p, female_p = adhd_df['SC_SEX'].value_counts(normalize=True)\n",
    "\n",
    "# Print percentages rounded to the nearest whole number.\n",
    "print(f' Of all the kids with ADHD in our sample {male_p*100:.0f}% are male, and {female_p*100:.0f}% are female')"
   ],
   "metadata": {
    "collapsed": false,
    "pycharm": {
     "name": "#%%\n"
    }
   }
  },
  {
   "cell_type": "markdown",
   "source": [
    "### Analysis\n",
    "These results match up with the Census Bueraus findings that males are more likley to be diagnosed with ADHD then females are. ADHD and sex is a subject of ongoing research, and I highly suggest reading [this](https://www.ncbi.nlm.nih.gov/pmc/articles/PMC6923191/) study on the subject matter for an in-depth look on the matter."
   ],
   "metadata": {
    "collapsed": false
   }
  },
  {
   "cell_type": "markdown",
   "source": [
    "### ADHD and Age\n",
    "Now to investigate the ages of those with ADHD."
   ],
   "metadata": {
    "collapsed": false
   }
  },
  {
   "cell_type": "code",
   "execution_count": 47,
   "outputs": [
    {
     "name": "stderr",
     "output_type": "stream",
     "text": [
      "/var/folders/y8/vq429chs6djb0hl0y0zp5fg00000gn/T/ipykernel_31032/2208899985.py:2: SettingWithCopyWarning: \n",
      "A value is trying to be set on a copy of a slice from a DataFrame.\n",
      "Try using .loc[row_indexer,col_indexer] = value instead\n",
      "\n",
      "See the caveats in the documentation: https://pandas.pydata.org/pandas-docs/stable/user_guide/indexing.html#returning-a-view-versus-a-copy\n",
      "  adhd_df['FORMTYPE'] = adhd_df['FORMTYPE'].astype('str').replace({\"b'T1'\": 'Group 1 (0-5)', \"b'T2'\": 'Group 2 (6-11)', \"b'T3'\": 'Group 3 (12-17)'})\n"
     ]
    },
    {
     "data": {
      "text/plain": "<Figure size 1296x720 with 2 Axes>",
      "image/png": "[encoded data removed]"
     },
     "metadata": {},
     "output_type": "display_data"
    }
   ],
   "source": [
    "# Replacing formtype category names for more readable graphs\n",
    "adhd_df['FORMTYPE'] = adhd_df['FORMTYPE'].astype('str').replace({\"b'T1'\": 'Group 1 (0-5)', \"b'T2'\": 'Group 2 (6-11)', \"b'T3'\": 'Group 3 (12-17)'})\n",
    "nsch['FORMTYPE'] = nsch['FORMTYPE'].astype('str').replace({\"b'T1'\": 'Group 1 (0-5)', \"b'T2'\": 'Group 2 (6-11)', \"b'T3'\": 'Group 3 (12-17)'})\n",
    "\n",
    "# Set figure and axis\n",
    "agefig, (ageax, realax) = plt.subplots(1, 2, figsize=(18, 10))\n",
    "\n",
    "# Plot figure with 18 bins (ages go from 1-17) with an extra bin for aesthetic reasons\n",
    "age_figure = sns.histplot(data=adhd_df, x='SC_AGE_YEARS', ax=ageax, bins=18, hue='FORMTYPE', hue_order=['Group 1 (0-5)', 'Group 2 (6-11)', 'Group 3 (12-17)'])\n",
    "real_figure = sns.histplot(data=nsch, x='SC_AGE_YEARS', ax=realax, bins=18, hue='FORMTYPE', hue_order=['Group 1 (0-5)', 'Group 2 (6-11)', 'Group 3 (12-17)'])\n",
    "\n",
    "# Setting labels, title, and ticks.\n",
    "age_figure.set(title='Ages of Kids Diagnosed with ADHD', xlabel='Age', xticks=list(range(1, 17)))\n",
    "real_figure.set(title='Ages of All Kids in Sample', xlabel='Age', xticks=list(range(1, 17)));\n"
   ],
   "metadata": {
    "collapsed": false,
    "pycharm": {
     "name": "#%%\n"
    }
   }
  },
  {
   "cell_type": "markdown",
   "source": [
    "#### Analysis\n",
    "The above graphs make sense to me in context of our data, ADHD is more easily noticeable as children are asked to perform more complex tasks in school. Though it will be important to remember that the resulting model will have a harder time with children in group 1 since there are far less of them."
   ],
   "metadata": {
    "collapsed": false
   }
  },
  {
   "cell_type": "markdown",
   "source": [
    "### Racial Distribution of ADHD Diagnoses"
   ],
   "metadata": {
    "collapsed": false
   }
  },
  {
   "cell_type": "code",
   "execution_count": 48,
   "outputs": [
    {
     "name": "stderr",
     "output_type": "stream",
     "text": [
      "/var/folders/y8/vq429chs6djb0hl0y0zp5fg00000gn/T/ipykernel_31032/2575209394.py:2: SettingWithCopyWarning: \n",
      "A value is trying to be set on a copy of a slice from a DataFrame.\n",
      "Try using .loc[row_indexer,col_indexer] = value instead\n",
      "\n",
      "See the caveats in the documentation: https://pandas.pydata.org/pandas-docs/stable/user_guide/indexing.html#returning-a-view-versus-a-copy\n",
      "  adhd_df['SC_RACE_R'] = adhd_df['SC_RACE_R'].replace({ 1: 'White', 2: 'Black', 3: 'Native Amer.', 4: 'Asian', 5:'Hawaiian', 7: 'Mixed'})\n"
     ]
    },
    {
     "data": {
      "text/plain": "<Figure size 1296x720 with 2 Axes>",
      "image/png": "[encoded data removed]"
     },
     "metadata": {},
     "output_type": "display_data"
    }
   ],
   "source": [
    "# Replacing formtype category names for more readable graphs\n",
    "adhd_df['SC_RACE_R'] = adhd_df['SC_RACE_R'].replace({ 1: 'White', 2: 'Black', 3: 'Native Amer.', 4: 'Asian', 5:'Hawaiian', 7: 'Mixed'})\n",
    "nsch['SC_RACE_R'] = nsch['SC_RACE_R'].replace({ 1: 'White', 2: 'Black', 3: 'Native Amer.', 4: 'Asian', 5:'Hawaiian', 7: 'Mixed'})\n",
    "\n",
    "# Creating figure and axes\n",
    "racefig, (adhd_race_ax, sample_race_ax) = plt.subplots(1, 2, figsize=(18, 10))\n",
    "\n",
    "# Plotting racial distribution of kids diagnosed with ADHD\n",
    "adhd_race_figure = sns.histplot(adhd_df.sort_values('SC_RACE_R'), x='SC_RACE_R', ax=adhd_race_ax, edgecolor='black')\n",
    "\n",
    "# Setting xlabel and title\n",
    "adhd_race_figure.set(xlabel='Race of Child', title='Race Distribution of Children Diagnosed ADHD')\n",
    "\n",
    "# Plotting racial distribution of sample\n",
    "sample_race_figure = sns.histplot(nsch.sort_values('SC_RACE_R'), x='SC_RACE_R', ax=sample_race_ax, color='orange', edgecolor='black')\n",
    "\n",
    "# Setting xlabel and title\n",
    "sample_race_figure.set(xlabel='Race of Child', title='Race Distribution of All Children in Sample');"
   ],
   "metadata": {
    "collapsed": false,
    "pycharm": {
     "name": "#%%\n"
    }
   }
  },
  {
   "cell_type": "markdown",
   "source": [
    "#### Analysis\n",
    "The distributions seem to match except for one small quirk, there are only about half the amount of asian kids we would expect. I will refrain from simply guessing why this could be, but it will be important to note this aspect of the data. It is also important to note that the distribution of our overall data does not match the [overall estimates](https://www.census.gov/quickfacts/fact/table/US/PST045219) for the United States. This will be another limitation of my data."
   ],
   "metadata": {
    "collapsed": false
   }
  },
  {
   "cell_type": "markdown",
   "source": [
    "\n",
    "### EDA Summary\n",
    "\n",
    "The limitations of this data are:\n",
    "\n",
    "There are **4306 children** in this sample have been **diagnosed** with ADHD.\n",
    "<br>\n",
    "\n",
    "**10%** of kids in this sample have been **diagnosed** ADHD.\n",
    "<br>\n",
    "\n",
    "Of these kids, **69% are male**, and **31% are female**\n",
    "<br>\n",
    "\n",
    "of the kids diagnosed with ADHD,\n",
    "   - **61%** are between the ages of **12-17**\n",
    "   - **36%** are between the ages of **6-11**\n",
    "   - **3%** are between the ages of **0-5**\n",
    "\n",
    "The Racial/Ethnic distribution of children with ADHD is:\n",
    "\n",
    "| Race        | Percentage  |\n",
    "| ----------- | ----------- |\n",
    "| White       | 80%         |\n",
    "| Black       | 8%          |\n",
    "| Asian       | 2%          |\n",
    "| Mixed       | 8%          |\n",
    "| Native Am.  | 0.009%      |\n",
    "| Hawaiian    | 0.006%      |\n",
    "\n",
    "<br>\n",
    "\n",
    "#### Why These Things Matter\n",
    "This data is important, because my model is only as good as my data. These are some clear, defined limitations of my data. When modeling it will be important to remember that my model will be good at diagnosing white males between the ages of 12-17. This is because that is what I have the most data for. My model may struggle to correctly classify female, or non-white kids when it comes to ADHD. It's important to be transparent about these things, and also to remember that using the data as it is will mean reinforcing any bias that is already present in the data."
   ],
   "metadata": {
    "collapsed": false
   }
  },
  {
   "cell_type": "markdown",
   "source": [
    "# Data Cleaning\n",
    "Data file can specifically be found [here](https://www.census.gov/programs-surveys/nsch/data/datasets.html)\n",
    "\n",
    "To prepare the data for cleaning I will:\n",
    "- Remove columns related to ADHD\n",
    "- Ensure all NaN values present in the dataset are addressed\n",
    "- Perform a train-test split on the data and create a holdout set as well.\n",
    "- Save transformed/cleaned data as CSV files.\n",
    "\n",
    "The full cleaning notebook can be found [here](/Notebooks/Data_Cleaning.ipynb)"
   ],
   "metadata": {
    "collapsed": false
   }
  },
  {
   "cell_type": "code",
   "execution_count": 49,
   "outputs": [],
   "source": [
    "# Imports for this section\n",
    "from sklearn.model_selection import train_test_split\n",
    "from sklearn.impute import SimpleImputer"
   ],
   "metadata": {
    "collapsed": false,
    "pycharm": {
     "name": "#%%\n"
    }
   }
  },
  {
   "cell_type": "code",
   "execution_count": 50,
   "outputs": [
    {
     "name": "stderr",
     "output_type": "stream",
     "text": [
      "/Users/matthewturner/opt/anaconda3/envs/Capstone/lib/python3.9/site-packages/pandas/io/sas/sas7bdat.py:800: PerformanceWarning: DataFrame is highly fragmented.  This is usually the result of calling `frame.insert` many times, which has poor performance.  Consider joining all columns at once using pd.concat(axis=1) instead.  To get a de-fragmented frame, use `newframe = frame.copy()`\n",
      "  rslt[name] = self._byte_chunk[jb, :].view(dtype=self.byte_order + \"d\")\n"
     ]
    },
    {
     "data": {
      "text/plain": "  FIPSST STRATUM         HHID FORMTYPE  TOTKIDS_R  TENURE  HHLANGUAGE  \\\n0  b'17'    b'1'  b'20000003'    b'T1'        2.0     1.0         1.0   \n1  b'29'   b'2A'  b'20000004'    b'T3'        1.0     1.0         1.0   \n2  b'47'    b'1'  b'20000005'    b'T1'        1.0     1.0         1.0   \n3  b'28'    b'1'  b'20000014'    b'T3'        2.0     1.0         1.0   \n4  b'55'    b'1'  b'20000015'    b'T3'        2.0     2.0         1.0   \n\n   SC_AGE_YEARS  SC_SEX  K2Q35A_1_YEARS  ...  BIRTH_YR_F  BMICLASS  \\\n0           3.0     1.0             NaN  ...         0.0       NaN   \n1          14.0     2.0             NaN  ...         0.0       2.0   \n2           1.0     2.0             NaN  ...         0.0       NaN   \n3          15.0     2.0             NaN  ...         0.0       2.0   \n4          16.0     2.0             NaN  ...         0.0       3.0   \n\n   HHCOUNT_IF  FPL_I1  FPL_I2  FPL_I3  FPL_I4  FPL_I5  FPL_I6          FWC  \n0         0.0   400.0   400.0   400.0   400.0   400.0   400.0  3296.080092  \n1         0.0   400.0   400.0   400.0   400.0   400.0   400.0  2888.545330  \n2         0.0   400.0   400.0   400.0   400.0   400.0   400.0  1016.682730  \n3         0.0   143.0   143.0   143.0   143.0   143.0   143.0  1042.091065  \n4         0.0   400.0   400.0   400.0   400.0   400.0   400.0   402.372392  \n\n[5 rows x 443 columns]",
      "text/html": "<div>\n<style scoped>\n    .dataframe tbody tr th:only-of-type {\n        vertical-align: middle;\n    }\n\n    .dataframe tbody tr th {\n        vertical-align: top;\n    }\n\n    .dataframe thead th {\n        text-align: right;\n    }\n</style>\n<table border=\"1\" class=\"dataframe\">\n  <thead>\n    <tr style=\"text-align: right;\">\n      <th></th>\n      <th>FIPSST</th>\n      <th>STRATUM</th>\n      <th>HHID</th>\n      <th>FORMTYPE</th>\n      <th>TOTKIDS_R</th>\n      <th>TENURE</th>\n      <th>HHLANGUAGE</th>\n      <th>SC_AGE_YEARS</th>\n      <th>SC_SEX</th>\n      <th>K2Q35A_1_YEARS</th>\n      <th>...</th>\n      <th>BIRTH_YR_F</th>\n      <th>BMICLASS</th>\n      <th>HHCOUNT_IF</th>\n      <th>FPL_I1</th>\n      <th>FPL_I2</th>\n      <th>FPL_I3</th>\n      <th>FPL_I4</th>\n      <th>FPL_I5</th>\n      <th>FPL_I6</th>\n      <th>FWC</th>\n    </tr>\n  </thead>\n  <tbody>\n    <tr>\n      <th>0</th>\n      <td>b'17'</td>\n      <td>b'1'</td>\n      <td>b'20000003'</td>\n      <td>b'T1'</td>\n      <td>2.0</td>\n      <td>1.0</td>\n      <td>1.0</td>\n      <td>3.0</td>\n      <td>1.0</td>\n      <td>NaN</td>\n      <td>...</td>\n      <td>0.0</td>\n      <td>NaN</td>\n      <td>0.0</td>\n      <td>400.0</td>\n      <td>400.0</td>\n      <td>400.0</td>\n      <td>400.0</td>\n      <td>400.0</td>\n      <td>400.0</td>\n      <td>3296.080092</td>\n    </tr>\n    <tr>\n      <th>1</th>\n      <td>b'29'</td>\n      <td>b'2A'</td>\n      <td>b'20000004'</td>\n      <td>b'T3'</td>\n      <td>1.0</td>\n      <td>1.0</td>\n      <td>1.0</td>\n      <td>14.0</td>\n      <td>2.0</td>\n      <td>NaN</td>\n      <td>...</td>\n      <td>0.0</td>\n      <td>2.0</td>\n      <td>0.0</td>\n      <td>400.0</td>\n      <td>400.0</td>\n      <td>400.0</td>\n      <td>400.0</td>\n      <td>400.0</td>\n      <td>400.0</td>\n      <td>2888.545330</td>\n    </tr>\n    <tr>\n      <th>2</th>\n      <td>b'47'</td>\n      <td>b'1'</td>\n      <td>b'20000005'</td>\n      <td>b'T1'</td>\n      <td>1.0</td>\n      <td>1.0</td>\n      <td>1.0</td>\n      <td>1.0</td>\n      <td>2.0</td>\n      <td>NaN</td>\n      <td>...</td>\n      <td>0.0</td>\n      <td>NaN</td>\n      <td>0.0</td>\n      <td>400.0</td>\n      <td>400.0</td>\n      <td>400.0</td>\n      <td>400.0</td>\n      <td>400.0</td>\n      <td>400.0</td>\n      <td>1016.682730</td>\n    </tr>\n    <tr>\n      <th>3</th>\n      <td>b'28'</td>\n      <td>b'1'</td>\n      <td>b'20000014'</td>\n      <td>b'T3'</td>\n      <td>2.0</td>\n      <td>1.0</td>\n      <td>1.0</td>\n      <td>15.0</td>\n      <td>2.0</td>\n      <td>NaN</td>\n      <td>...</td>\n      <td>0.0</td>\n      <td>2.0</td>\n      <td>0.0</td>\n      <td>143.0</td>\n      <td>143.0</td>\n      <td>143.0</td>\n      <td>143.0</td>\n      <td>143.0</td>\n      <td>143.0</td>\n      <td>1042.091065</td>\n    </tr>\n    <tr>\n      <th>4</th>\n      <td>b'55'</td>\n      <td>b'1'</td>\n      <td>b'20000015'</td>\n      <td>b'T3'</td>\n      <td>2.0</td>\n      <td>2.0</td>\n      <td>1.0</td>\n      <td>16.0</td>\n      <td>2.0</td>\n      <td>NaN</td>\n      <td>...</td>\n      <td>0.0</td>\n      <td>3.0</td>\n      <td>0.0</td>\n      <td>400.0</td>\n      <td>400.0</td>\n      <td>400.0</td>\n      <td>400.0</td>\n      <td>400.0</td>\n      <td>400.0</td>\n      <td>402.372392</td>\n    </tr>\n  </tbody>\n</table>\n<p>5 rows × 443 columns</p>\n</div>"
     },
     "execution_count": 50,
     "metadata": {},
     "output_type": "execute_result"
    }
   ],
   "source": [
    "# reloading data into pandas dateframe to undo any previous changes.\n",
    "nsch = pd.read_sas('Data/nsch_2020_topical_SAS/nsch_2020_topical.sas7bdat')\n",
    "\n",
    "# Visually checking successful loading of dataframe\n",
    "nsch.head()"
   ],
   "metadata": {
    "collapsed": false,
    "pycharm": {
     "name": "#%%\n"
    }
   }
  },
  {
   "cell_type": "markdown",
   "source": [
    "## ADHD Columns\n",
    "\n",
    "Along with our target column, 'K2Q31A' there are multiple other columns that relate to ADHD that need to be removed. These columns are closely tied to ADHD so they need to be removed so the model doesn't take them into account when making predictions. Column descriptions can be found in the [EDA notebook](https://github.com/austint1121/Undiagnosed-ADHD-Identification/blob/main/Notebooks/EDA.ipynb). We will also save our target column, and remove any rows with null values in that column"
   ],
   "metadata": {
    "collapsed": false
   }
  },
  {
   "cell_type": "code",
   "execution_count": 51,
   "outputs": [
    {
     "name": "stdout",
     "output_type": "stream",
     "text": [
      "<class 'pandas.core.frame.DataFrame'>\n",
      "Int64Index: 42589 entries, 0 to 42776\n",
      "Columns: 426 entries, FIPSST to FWC\n",
      "dtypes: float64(422), object(4)\n",
      "memory usage: 138.7+ MB\n"
     ]
    }
   ],
   "source": [
    "# Creating list of columns to be dropped\n",
    "related_ADHD = [\n",
    "    'K2Q31A',\n",
    "    'K2Q31B',\n",
    "    'K2Q31C',\n",
    "    'K2Q31D',\n",
    "    'K4Q23',\n",
    "    'SC_K2Q10',\n",
    "    'SC_K2Q11',\n",
    "    'SC_K2Q12',\n",
    "    'ADDTREAT',\n",
    "    'SC_CSHCN',\n",
    "    'SC_K2Q22',\n",
    "    'SC_K2Q10',\n",
    "    'K4Q22_R',\n",
    "    'K6Q15',\n",
    "    'SC_K2Q20',\n",
    "    'K4Q36',\n",
    "    'TOTNONSHCN',\n",
    "    'K4Q28X04',\n",
    "]\n",
    "\n",
    "# Dropping rows with NAN values in target column\n",
    "dropped_adhd = nsch.dropna(subset=['K2Q31A'])\n",
    "\n",
    "# Saving Target column\n",
    "target = dropped_adhd['K2Q31A']\n",
    "\n",
    "# Creating new dataframe without columns from above\n",
    "dropped_adhd = dropped_adhd.drop(columns=related_ADHD)\n",
    "\n",
    "# Confirming expected results\n",
    "dropped_adhd.info()"
   ],
   "metadata": {
    "collapsed": false,
    "pycharm": {
     "name": "#%%\n"
    }
   }
  },
  {
   "cell_type": "markdown",
   "source": [
    "### Binarizing Target Values\n",
    "Currently in our target column a \"1\" means that the child has been diagnosed with ADHD and a 2 means they haven't been. This will cause problems down the road later, so I'm going to manually replace them with 0's and 1's."
   ],
   "metadata": {
    "collapsed": false
   }
  },
  {
   "cell_type": "code",
   "execution_count": 52,
   "outputs": [
    {
     "data": {
      "text/plain": "0.0    38283\n1.0     4306\nName: K2Q31A, dtype: int64"
     },
     "execution_count": 52,
     "metadata": {},
     "output_type": "execute_result"
    }
   ],
   "source": [
    "# Dictionary for replacement\n",
    "testing = {2: 0, 1: 1}\n",
    "\n",
    "# Preforming replacement\n",
    "target = target.replace(testing)\n",
    "\n",
    "# Visually confirming expected change\n",
    "target.value_counts()"
   ],
   "metadata": {
    "collapsed": false,
    "pycharm": {
     "name": "#%%\n"
    }
   }
  },
  {
   "cell_type": "markdown",
   "source": [
    "### Dropping Object Columns\n"
   ],
   "metadata": {
    "collapsed": false
   }
  },
  {
   "cell_type": "code",
   "execution_count": 53,
   "outputs": [
    {
     "name": "stdout",
     "output_type": "stream",
     "text": [
      "<class 'pandas.core.frame.DataFrame'>\n",
      "Int64Index: 42589 entries, 0 to 42776\n",
      "Columns: 426 entries, FIPSST to FWC\n",
      "dtypes: float64(422), object(4)\n",
      "memory usage: 138.7+ MB\n"
     ]
    }
   ],
   "source": [
    "# Checking the column types\n",
    "dropped_adhd.info()"
   ],
   "metadata": {
    "collapsed": false,
    "pycharm": {
     "name": "#%%\n"
    }
   }
  },
  {
   "cell_type": "code",
   "execution_count": 54,
   "outputs": [
    {
     "data": {
      "text/plain": "      FIPSST STRATUM         HHID FORMTYPE\n0      b'17'    b'1'  b'20000003'    b'T1'\n1      b'29'   b'2A'  b'20000004'    b'T3'\n2      b'47'    b'1'  b'20000005'    b'T1'\n3      b'28'    b'1'  b'20000014'    b'T3'\n4      b'55'    b'1'  b'20000015'    b'T3'\n...      ...     ...          ...      ...\n42772  b'26'    b'1'  b'20239975'    b'T3'\n42773  b'54'    b'1'  b'20239979'    b'T2'\n42774  b'54'    b'1'  b'20239980'    b'T3'\n42775  b'15'    b'1'  b'20239994'    b'T2'\n42776  b'28'    b'1'  b'20239999'    b'T3'\n\n[42589 rows x 4 columns]",
      "text/html": "<div>\n<style scoped>\n    .dataframe tbody tr th:only-of-type {\n        vertical-align: middle;\n    }\n\n    .dataframe tbody tr th {\n        vertical-align: top;\n    }\n\n    .dataframe thead th {\n        text-align: right;\n    }\n</style>\n<table border=\"1\" class=\"dataframe\">\n  <thead>\n    <tr style=\"text-align: right;\">\n      <th></th>\n      <th>FIPSST</th>\n      <th>STRATUM</th>\n      <th>HHID</th>\n      <th>FORMTYPE</th>\n    </tr>\n  </thead>\n  <tbody>\n    <tr>\n      <th>0</th>\n      <td>b'17'</td>\n      <td>b'1'</td>\n      <td>b'20000003'</td>\n      <td>b'T1'</td>\n    </tr>\n    <tr>\n      <th>1</th>\n      <td>b'29'</td>\n      <td>b'2A'</td>\n      <td>b'20000004'</td>\n      <td>b'T3'</td>\n    </tr>\n    <tr>\n      <th>2</th>\n      <td>b'47'</td>\n      <td>b'1'</td>\n      <td>b'20000005'</td>\n      <td>b'T1'</td>\n    </tr>\n    <tr>\n      <th>3</th>\n      <td>b'28'</td>\n      <td>b'1'</td>\n      <td>b'20000014'</td>\n      <td>b'T3'</td>\n    </tr>\n    <tr>\n      <th>4</th>\n      <td>b'55'</td>\n      <td>b'1'</td>\n      <td>b'20000015'</td>\n      <td>b'T3'</td>\n    </tr>\n    <tr>\n      <th>...</th>\n      <td>...</td>\n      <td>...</td>\n      <td>...</td>\n      <td>...</td>\n    </tr>\n    <tr>\n      <th>42772</th>\n      <td>b'26'</td>\n      <td>b'1'</td>\n      <td>b'20239975'</td>\n      <td>b'T3'</td>\n    </tr>\n    <tr>\n      <th>42773</th>\n      <td>b'54'</td>\n      <td>b'1'</td>\n      <td>b'20239979'</td>\n      <td>b'T2'</td>\n    </tr>\n    <tr>\n      <th>42774</th>\n      <td>b'54'</td>\n      <td>b'1'</td>\n      <td>b'20239980'</td>\n      <td>b'T3'</td>\n    </tr>\n    <tr>\n      <th>42775</th>\n      <td>b'15'</td>\n      <td>b'1'</td>\n      <td>b'20239994'</td>\n      <td>b'T2'</td>\n    </tr>\n    <tr>\n      <th>42776</th>\n      <td>b'28'</td>\n      <td>b'1'</td>\n      <td>b'20239999'</td>\n      <td>b'T3'</td>\n    </tr>\n  </tbody>\n</table>\n<p>42589 rows × 4 columns</p>\n</div>"
     },
     "execution_count": 54,
     "metadata": {},
     "output_type": "execute_result"
    }
   ],
   "source": [
    "# We have 422 float64 and 4 object types. Lets investigate those 4 objects\n",
    "dropped_adhd.select_dtypes('object')"
   ],
   "metadata": {
    "collapsed": false,
    "pycharm": {
     "name": "#%%\n"
    }
   }
  },
  {
   "cell_type": "markdown",
   "source": [
    "**FIPSST** - State FIPS code\n",
    "**STRATUM** - Sampling Stratum\n",
    "**HHID** - Unique Household ID\n",
    "**FORMTYPE** - A proxy for age, kids are given a form base on age ranges (T1: 0-5, T2: 6-11, T3:12-17)\n",
    "\n",
    "All of these columns can be dropped as they should have an effect on whether a child has ADHD, or they are a proxy for an already present variable."
   ],
   "metadata": {
    "collapsed": false,
    "pycharm": {
     "name": "#%% md\n"
    }
   }
  },
  {
   "cell_type": "code",
   "execution_count": 55,
   "outputs": [
    {
     "name": "stdout",
     "output_type": "stream",
     "text": [
      "<class 'pandas.core.frame.DataFrame'>\n",
      "Int64Index: 42589 entries, 0 to 42776\n",
      "Columns: 422 entries, TOTKIDS_R to FWC\n",
      "dtypes: float64(422)\n",
      "memory usage: 137.4 MB\n"
     ]
    }
   ],
   "source": [
    "# Dropping object columns\n",
    "dropped_final = dropped_adhd.drop(columns=['FIPSST', 'STRATUM', 'HHID', 'FORMTYPE'])\n",
    "# Confirming expected column count\n",
    "dropped_final.info()"
   ],
   "metadata": {
    "collapsed": false,
    "pycharm": {
     "name": "#%%\n"
    }
   }
  },
  {
   "cell_type": "markdown",
   "source": [
    "## Train Test Split\n",
    "Before doing any transformations it will be necessary to perform the train test split beforehand to prevent data leakage."
   ],
   "metadata": {
    "collapsed": false
   }
  },
  {
   "cell_type": "code",
   "execution_count": 56,
   "outputs": [
    {
     "name": "stdout",
     "output_type": "stream",
     "text": [
      "Training set is 31941 entries\n",
      "Testing set is 7986 entries\n",
      "Validation set is 2662 entries\n"
     ]
    }
   ],
   "source": [
    "# Split into train and test sets\n",
    "X_train, X_test, y_train, y_test = train_test_split(dropped_final, target, random_state=15, stratify=target)\n",
    "\n",
    "# Split test into a testing and final holdout/validation set\n",
    "X_test, X_val, y_test, y_val = train_test_split(X_test, y_test, random_state=15, stratify=y_test)\n",
    "\n",
    "# Printing total rows in each set\n",
    "print(f'Training set is {len(X_train)} entries')\n",
    "print(f'Testing set is {len(X_test)} entries')\n",
    "print(f'Validation set is {len(X_val)} entries')"
   ],
   "metadata": {
    "collapsed": false,
    "pycharm": {
     "name": "#%%\n"
    }
   }
  },
  {
   "cell_type": "code",
   "execution_count": 57,
   "outputs": [
    {
     "name": "stdout",
     "output_type": "stream",
     "text": [
      "There are 3229 kids with ADHD in the training set\n",
      "There are 808 kids with ADHD in the testing set\n",
      "There are 269 kids with ADHD in the validation set\n"
     ]
    }
   ],
   "source": [
    "# Printing the amount of kids diagnosed with ADHD in each split\n",
    "print(f'There are {y_train.value_counts().values[1]} kids with ADHD in the training set')\n",
    "print(f'There are {y_test.value_counts().values[1]} kids with ADHD in the testing set')\n",
    "print(f'There are {y_val.value_counts().values[1]} kids with ADHD in the validation set')"
   ],
   "metadata": {
    "collapsed": false,
    "pycharm": {
     "name": "#%%\n"
    }
   }
  },
  {
   "cell_type": "markdown",
   "source": [
    "## Handling Missing Values\n",
    "There are multiple strategies to handling missing values, normally I would love to use Sklearns experimental [Iterative Imputer](https://scikit-learn.org/stable/modules/generated/sklearn.impute.IterativeImputer.html) however, in this survey some questions are sub questions of others, and can be left blank as a result of the answer to the parent question.\n",
    "<br>\n",
    "An example of this is the \"ADDTREAT\" column we dropped earlier. This column is left blank if \"K2Q31A\" (our target) is answered \"No\". Instead, I'll use a simple imputer to fill in the null values with ones that will make it clear to the model that they are null values."
   ],
   "metadata": {
    "collapsed": false
   }
  },
  {
   "cell_type": "code",
   "execution_count": 58,
   "outputs": [
    {
     "data": {
      "text/plain": "   TOTKIDS_R  TENURE  HHLANGUAGE  SC_AGE_YEARS  SC_SEX  K2Q35A_1_YEARS  \\\n0        1.0     1.0         1.0           8.0     2.0           999.0   \n1        2.0     1.0         1.0          17.0     1.0           999.0   \n2        2.0     1.0         1.0          16.0     1.0             2.0   \n3        2.0     1.0         1.0           1.0     1.0           999.0   \n4        4.0     2.0         1.0          16.0     2.0           999.0   \n\n   BIRTH_MO  BIRTH_YR  MOMAGE  K6Q41R_STILL  ...  BIRTH_YR_F  BMICLASS  \\\n0      10.0    2011.0    39.0         999.0  ...         0.0     999.0   \n1       4.0    2003.0    25.0         999.0  ...         0.0       4.0   \n2       7.0    2004.0    34.0         999.0  ...         0.0       4.0   \n3       8.0    2019.0    36.0         999.0  ...         0.0     999.0   \n4       5.0    2004.0    40.0         999.0  ...         0.0       2.0   \n\n   HHCOUNT_IF  FPL_I1  FPL_I2  FPL_I3  FPL_I4  FPL_I5  FPL_I6          FWC  \n0         0.0   400.0   400.0   400.0   400.0   400.0   400.0  2691.769960  \n1         1.0   400.0   400.0   400.0   400.0   319.0   400.0  3094.739915  \n2         1.0   249.0   170.0   400.0   400.0   244.0   372.0  1557.804645  \n3         0.0   231.0   231.0   231.0   231.0   231.0   231.0  8553.637678  \n4         0.0   223.0   223.0   223.0   223.0   223.0   223.0   106.781469  \n\n[5 rows x 422 columns]",
      "text/html": "<div>\n<style scoped>\n    .dataframe tbody tr th:only-of-type {\n        vertical-align: middle;\n    }\n\n    .dataframe tbody tr th {\n        vertical-align: top;\n    }\n\n    .dataframe thead th {\n        text-align: right;\n    }\n</style>\n<table border=\"1\" class=\"dataframe\">\n  <thead>\n    <tr style=\"text-align: right;\">\n      <th></th>\n      <th>TOTKIDS_R</th>\n      <th>TENURE</th>\n      <th>HHLANGUAGE</th>\n      <th>SC_AGE_YEARS</th>\n      <th>SC_SEX</th>\n      <th>K2Q35A_1_YEARS</th>\n      <th>BIRTH_MO</th>\n      <th>BIRTH_YR</th>\n      <th>MOMAGE</th>\n      <th>K6Q41R_STILL</th>\n      <th>...</th>\n      <th>BIRTH_YR_F</th>\n      <th>BMICLASS</th>\n      <th>HHCOUNT_IF</th>\n      <th>FPL_I1</th>\n      <th>FPL_I2</th>\n      <th>FPL_I3</th>\n      <th>FPL_I4</th>\n      <th>FPL_I5</th>\n      <th>FPL_I6</th>\n      <th>FWC</th>\n    </tr>\n  </thead>\n  <tbody>\n    <tr>\n      <th>0</th>\n      <td>1.0</td>\n      <td>1.0</td>\n      <td>1.0</td>\n      <td>8.0</td>\n      <td>2.0</td>\n      <td>999.0</td>\n      <td>10.0</td>\n      <td>2011.0</td>\n      <td>39.0</td>\n      <td>999.0</td>\n      <td>...</td>\n      <td>0.0</td>\n      <td>999.0</td>\n      <td>0.0</td>\n      <td>400.0</td>\n      <td>400.0</td>\n      <td>400.0</td>\n      <td>400.0</td>\n      <td>400.0</td>\n      <td>400.0</td>\n      <td>2691.769960</td>\n    </tr>\n    <tr>\n      <th>1</th>\n      <td>2.0</td>\n      <td>1.0</td>\n      <td>1.0</td>\n      <td>17.0</td>\n      <td>1.0</td>\n      <td>999.0</td>\n      <td>4.0</td>\n      <td>2003.0</td>\n      <td>25.0</td>\n      <td>999.0</td>\n      <td>...</td>\n      <td>0.0</td>\n      <td>4.0</td>\n      <td>1.0</td>\n      <td>400.0</td>\n      <td>400.0</td>\n      <td>400.0</td>\n      <td>400.0</td>\n      <td>319.0</td>\n      <td>400.0</td>\n      <td>3094.739915</td>\n    </tr>\n    <tr>\n      <th>2</th>\n      <td>2.0</td>\n      <td>1.0</td>\n      <td>1.0</td>\n      <td>16.0</td>\n      <td>1.0</td>\n      <td>2.0</td>\n      <td>7.0</td>\n      <td>2004.0</td>\n      <td>34.0</td>\n      <td>999.0</td>\n      <td>...</td>\n      <td>0.0</td>\n      <td>4.0</td>\n      <td>1.0</td>\n      <td>249.0</td>\n      <td>170.0</td>\n      <td>400.0</td>\n      <td>400.0</td>\n      <td>244.0</td>\n      <td>372.0</td>\n      <td>1557.804645</td>\n    </tr>\n    <tr>\n      <th>3</th>\n      <td>2.0</td>\n      <td>1.0</td>\n      <td>1.0</td>\n      <td>1.0</td>\n      <td>1.0</td>\n      <td>999.0</td>\n      <td>8.0</td>\n      <td>2019.0</td>\n      <td>36.0</td>\n      <td>999.0</td>\n      <td>...</td>\n      <td>0.0</td>\n      <td>999.0</td>\n      <td>0.0</td>\n      <td>231.0</td>\n      <td>231.0</td>\n      <td>231.0</td>\n      <td>231.0</td>\n      <td>231.0</td>\n      <td>231.0</td>\n      <td>8553.637678</td>\n    </tr>\n    <tr>\n      <th>4</th>\n      <td>4.0</td>\n      <td>2.0</td>\n      <td>1.0</td>\n      <td>16.0</td>\n      <td>2.0</td>\n      <td>999.0</td>\n      <td>5.0</td>\n      <td>2004.0</td>\n      <td>40.0</td>\n      <td>999.0</td>\n      <td>...</td>\n      <td>0.0</td>\n      <td>2.0</td>\n      <td>0.0</td>\n      <td>223.0</td>\n      <td>223.0</td>\n      <td>223.0</td>\n      <td>223.0</td>\n      <td>223.0</td>\n      <td>223.0</td>\n      <td>106.781469</td>\n    </tr>\n  </tbody>\n</table>\n<p>5 rows × 422 columns</p>\n</div>"
     },
     "execution_count": 58,
     "metadata": {},
     "output_type": "execute_result"
    }
   ],
   "source": [
    "# Simple Imputer filling values with something that vill obviously be a nan value, in this case, 999\n",
    "SI_imputer = SimpleImputer(strategy='constant', fill_value=999)\n",
    "# Fitting the imputer to training data / transforming the training data\n",
    "transformed_X_train = SI_imputer.fit_transform(X_train, y_train)\n",
    "\n",
    "# Creating a dataframe and re-adding the column names to the data\n",
    "transformed_X_train = pd.DataFrame(transformed_X_train, columns=X_train.columns)\n",
    "\n",
    "# Visually confirming transformation\n",
    "transformed_X_train.head()"
   ],
   "metadata": {
    "collapsed": false,
    "pycharm": {
     "name": "#%%\n"
    }
   }
  },
  {
   "cell_type": "code",
   "execution_count": 59,
   "outputs": [],
   "source": [
    "# Transforming test and validation set\n",
    "transformed_X_test = SI_imputer.transform(X_test)\n",
    "\n",
    "# Creating a dataframe and re-adding the column names to the data\n",
    "transformed_X_test= pd.DataFrame(transformed_X_test, columns=X_test.columns)\n",
    "\n",
    "# Transforming Validation set\n",
    "transformed_X_val = SI_imputer.transform(X_val)\n",
    "\n",
    "# Creating a dataframe and re-adding the column names to the data\n",
    "transformed_X_val= pd.DataFrame(transformed_X_val, columns=X_val.columns)"
   ],
   "metadata": {
    "collapsed": false,
    "pycharm": {
     "name": "#%%\n"
    }
   }
  },
  {
   "cell_type": "markdown",
   "source": [
    "## Saving the Clean Data"
   ],
   "metadata": {
    "collapsed": false
   }
  },
  {
   "cell_type": "code",
   "execution_count": 60,
   "outputs": [],
   "source": [
    "# Saving the transformed dataframes\n",
    "\n",
    "# Training Data\n",
    "transformed_X_train.to_csv('Data/train/X_train.csv')\n",
    "y_train.to_csv('Data/train/y_train.csv')\n",
    "\n",
    "# Testing Data\n",
    "transformed_X_test.to_csv('Data/test/X_test.csv')\n",
    "y_test.to_csv('Data/test/y_test.csv')\n",
    "\n",
    "# Validation Data\n",
    "transformed_X_val.to_csv('Data/val/X_val.csv')\n",
    "y_val.to_csv('Data/val/y_val.csv')"
   ],
   "metadata": {
    "collapsed": false,
    "pycharm": {
     "name": "#%%\n"
    }
   }
  },
  {
   "cell_type": "markdown",
   "source": [
    "From this point forward, any more cleaning would be model specific. I could also clean the data more to improve the overall quality, but I think this will be a good “baseline” starting point for the modeling process. The next step is to begin the modeling process"
   ],
   "metadata": {
    "collapsed": false
   }
  },
  {
   "cell_type": "markdown",
   "source": [
    "# Modeling\n",
    "Now its time to get modeling, I created 3 different types of models: [Sklearn decision tree](Notebooks/Modeling-Decision_Tree.ipynb), [Catboost](Notebooks/Modeling-Catboost.ipynb), and a [Keras neural network](Notebooks/Modeling-Keras.ipynb). To keep this notebook from being too long, I'm only going to go over the process of modeling my [final model](Notebooks/Modeling-Catboost-Tuning.ipynb): Catboost."
   ],
   "metadata": {
    "collapsed": false
   }
  },
  {
   "cell_type": "code",
   "execution_count": 70,
   "outputs": [],
   "source": [
    "# Importing relevant package for this sections\n",
    "from catboost import CatBoostClassifier,metrics\n",
    "from functions import metrics as custom_score\n",
    "from sklearn.metrics import ConfusionMatrixDisplay\n",
    "from functions import improvement as custom_change\n",
    "from imblearn.over_sampling import RandomOverSampler, SMOTEN"
   ],
   "metadata": {
    "collapsed": false,
    "pycharm": {
     "name": "#%%\n"
    }
   }
  },
  {
   "cell_type": "code",
   "execution_count": 71,
   "outputs": [],
   "source": [
    "# Load in cleaned data.\n",
    "\n",
    "# Training Data\n",
    "X_train = pd.read_csv('Data/train/X_train.csv', index_col=0)\n",
    "y_train = pd.read_csv('Data/train/y_train.csv', index_col=0)\n",
    "\n",
    "# Testing Data\n",
    "X_test = pd.read_csv('Data/test/X_test.csv', index_col=0)\n",
    "y_test = pd.read_csv('Data/test/y_test.csv', index_col=0)\n"
   ],
   "metadata": {
    "collapsed": false,
    "pycharm": {
     "name": "#%%\n"
    }
   }
  },
  {
   "cell_type": "markdown",
   "source": [
    "# First Simple Model\n",
    "I'll now create a first \"simple\" model to compare to, and iterate from moving forward. This model will be the simplest model I can make with Catboost; there will be no tuning at all."
   ],
   "metadata": {
    "collapsed": false
   }
  },
  {
   "cell_type": "code",
   "execution_count": null,
   "outputs": [],
   "source": [
    "\n",
    "# Setting up the model\n",
    "model = CatBoostClassifier(\n",
    "    # Adding Accuracy as a metric\n",
    "    custom_loss=[metrics.Accuracy()],\n",
    "    random_seed=15,\n",
    "    logging_level='Silent'\n",
    ")\n",
    "# Fitting the model to training data\n",
    "model.fit(\n",
    "    X_train, y_train,\n",
    "    # Using X/y test as eval set\n",
    "    eval_set=(X_test, y_test),\n",
    "    # Plot the learning of the model\n",
    "    plot=True\n",
    ");"
   ],
   "metadata": {
    "collapsed": false,
    "pycharm": {
     "name": "#%%\n"
    }
   }
  },
  {
   "cell_type": "code",
   "execution_count": 66,
   "outputs": [
    {
     "name": "stdout",
     "output_type": "stream",
     "text": [
      "Training Scores\n",
      "Model Results\n",
      "Accuracy: 0.97\n",
      "Precision: 0.97\n",
      "Recall: 0.77\n",
      "F1: 0.86\n",
      "ROC AUC: 0.88\n",
      "\t\n",
      "Testing Scores\n",
      "Model Results\n",
      "Accuracy: 0.94\n",
      "Precision: 0.74\n",
      "Recall: 0.56\n",
      "F1: 0.64\n",
      "ROC AUC: 0.77\n"
     ]
    }
   ],
   "source": [
    "# Printing training and testing scores.\n",
    "print(\"Training Scores\")\n",
    "custom_score(y_train, model.predict(X_train))\n",
    "print('\\t')\n",
    "print('Testing Scores')\n",
    "FSM_results = custom_score(y_test, model.predict(X_test))"
   ],
   "metadata": {
    "collapsed": false,
    "pycharm": {
     "name": "#%%\n"
    }
   }
  },
  {
   "cell_type": "code",
   "execution_count": 65,
   "outputs": [
    {
     "data": {
      "text/plain": "<Figure size 432x288 with 2 Axes>",
      "image/png": "[encoded data removed]"
     },
     "metadata": {},
     "output_type": "display_data"
    }
   ],
   "source": [
    "# Creating a confusion matrix for the base model\n",
    "base_matrix = ConfusionMatrixDisplay.from_predictions(y_test, model.predict(X_test), display_labels=['Undiagnosed','Diagnosed' ])"
   ],
   "metadata": {
    "collapsed": false,
    "pycharm": {
     "name": "#%%\n"
    }
   }
  },
  {
   "cell_type": "markdown",
   "source": [
    "#### Analysis\n",
    "Catboost has done quite well for a baseline model! The training set has higher scores then the test set, meaning there is some overfitting occurring here. There is a very large drop in recall between the training and test set.\n",
    "\n",
    "The model has a precision of 0.74 —in other words, **when it predicts a child is diagnosed with ADHD, it is correct 74% of the time**.\n",
    "\n",
    "Our model has a recall of 0.56—in other words, **it correctly identifies 56% of all children with ADHD**.\n",
    "\n",
    "The recall score, in particular needs to be improved. The class imbalance needs to be addressed before tuning. Some options:\n",
    "   - Class weights\n",
    "   - Over/Undersampling\n",
    "   - SMOTE (Make more samples)\n",
    "\n",
    "Catboost does support class weights, so that will be first since it is the simplest to implement."
   ],
   "metadata": {
    "collapsed": false,
    "pycharm": {
     "name": "#%% md\n"
    }
   }
  },
  {
   "cell_type": "markdown",
   "source": [
    "# Addressing Class Imbalance"
   ],
   "metadata": {
    "collapsed": false,
    "pycharm": {
     "name": "#%% md\n"
    }
   }
  },
  {
   "cell_type": "markdown",
   "source": [
    "## Catboost - Class Weights"
   ],
   "metadata": {
    "collapsed": false,
    "pycharm": {
     "name": "#%% md\n"
    }
   }
  },
  {
   "cell_type": "code",
   "execution_count": 67,
   "outputs": [
    {
     "name": "stdout",
     "output_type": "stream",
     "text": [
      "Model Results\n",
      "Accuracy: 0.89\n",
      "Precision: 0.48\n",
      "Recall: 0.85\n",
      "F1: 0.61\n",
      "ROC AUC: 0.87\n"
     ]
    }
   ],
   "source": [
    "# Setting up the model\n",
    "weighted_cat = CatBoostClassifier(\n",
    "    # Adding Accuracy as a metric\n",
    "    custom_loss=[metrics.Accuracy(), metrics.Recall(), metrics.Precision()],\n",
    "    random_seed=15,\n",
    "    logging_level='Silent',\n",
    "    # Setting class weights to 'balanced'\n",
    "    auto_class_weights='Balanced'\n",
    ")\n",
    "\n",
    "weighted_cat.fit(\n",
    "    X_train, y_train,\n",
    "    # Using X/y test as eval set\n",
    "    eval_set=(X_test, y_test),\n",
    "    # Uncomment below line to plot the learning of the model\n",
    "    # plot=True\n",
    ");\n",
    "# Results on test set\n",
    "weighted_results = custom_score(y_test, weighted_cat.predict(X_test))"
   ],
   "metadata": {
    "collapsed": false,
    "pycharm": {
     "name": "#%%\n"
    }
   }
  },
  {
   "cell_type": "code",
   "execution_count": 68,
   "outputs": [
    {
     "name": "stdout",
     "output_type": "stream",
     "text": [
      "Change in Results\n",
      "Accuracy        -0.05\n",
      "Precision       -0.26\n",
      "Recall          +0.29\n",
      "F1              -0.03\n",
      "ROCAUC          +0.10\n"
     ]
    }
   ],
   "source": [
    "# Printing changes between base model and weighted model\n",
    "custom_change(FSM_results, weighted_results)"
   ],
   "metadata": {
    "collapsed": false,
    "pycharm": {
     "name": "#%%\n"
    }
   }
  },
  {
   "cell_type": "markdown",
   "source": [
    "### Analysis\n",
    "Adding the weights flipped our model around, now precision has dropped, and recall has improved significantly. For this project, I’d prefer recall over precision because I don’t want the model to be missing kids that may have, potentially, already been passed over/ignored by doctors. I think the gain in recall and ROC/AUC is well worth the loss of precision, but let’s see the results of the other methods."
   ],
   "metadata": {
    "collapsed": false
   }
  },
  {
   "cell_type": "markdown",
   "source": [
    "## Random Oversampling\n",
    "I’m going to use the imbalanced-learn library to perform oversampling/ SMOTE techniques."
   ],
   "metadata": {
    "collapsed": false,
    "pycharm": {
     "name": "#%% md\n"
    }
   }
  },
  {
   "cell_type": "code",
   "execution_count": 72,
   "outputs": [],
   "source": [
    "# Initiate Over sampler\n",
    "ros = RandomOverSampler(random_state=15)\n",
    "\n",
    "# Applying ONLY to training set to prevent data leakage.\n",
    "X_train_os, y_train_os = ros.fit_resample(X_train, y_train)"
   ],
   "metadata": {
    "collapsed": false,
    "pycharm": {
     "name": "#%%\n"
    }
   }
  },
  {
   "cell_type": "code",
   "execution_count": 73,
   "outputs": [],
   "source": [
    "# Setting up the model\n",
    "over_cat = CatBoostClassifier(\n",
    "    # Adding Accuracy as a metric\n",
    "    custom_loss=[metrics.Accuracy(), metrics.Recall(), metrics.Precision()],\n",
    "    random_seed=15,\n",
    "    logging_level='Silent',\n",
    ")\n",
    "\n",
    "over_cat.fit(\n",
    "    X_train_os, y_train_os,\n",
    "    # Using X/y test as eval set\n",
    "    eval_set=(X_test, y_test),\n",
    "    # Uncomment below line to plot the learning of the model\n",
    "    # plot=True\n",
    ");"
   ],
   "metadata": {
    "collapsed": false,
    "pycharm": {
     "name": "#%%\n"
    }
   }
  },
  {
   "cell_type": "code",
   "execution_count": 74,
   "outputs": [
    {
     "name": "stdout",
     "output_type": "stream",
     "text": [
      "Model Results\n",
      "Accuracy: 0.92\n",
      "Precision: 0.60\n",
      "Recall: 0.72\n",
      "F1: 0.66\n",
      "ROC AUC: 0.83\n"
     ]
    }
   ],
   "source": [
    "# Printing results on test set\n",
    "os_results = custom_score(y_test, over_cat.predict(X_test))"
   ],
   "metadata": {
    "collapsed": false,
    "pycharm": {
     "name": "#%%\n"
    }
   }
  },
  {
   "cell_type": "code",
   "execution_count": 75,
   "outputs": [
    {
     "name": "stdout",
     "output_type": "stream",
     "text": [
      "Difference between Base model and model with oversampling \n",
      "Change in Results\n",
      "Accuracy        -0.01\n",
      "Precision       -0.13\n",
      "Recall          +0.15\n",
      "F1              +0.02\n",
      "ROCAUC          +0.06\n"
     ]
    }
   ],
   "source": [
    "# Printing the difference between BASE and os_results\n",
    "print('Difference between Base model and model with oversampling ')\n",
    "custom_change(FSM_results, os_results)"
   ],
   "metadata": {
    "collapsed": false,
    "pycharm": {
     "name": "#%%\n"
    }
   }
  },
  {
   "cell_type": "code",
   "execution_count": 76,
   "outputs": [
    {
     "name": "stdout",
     "output_type": "stream",
     "text": [
      "Difference between Weighted model and model with oversampling \n",
      "Change in Results\n",
      "Accuracy        +0.03\n",
      "Precision       +0.13\n",
      "Recall          -0.13\n",
      "F1              +0.04\n",
      "ROCAUC          -0.04\n"
     ]
    }
   ],
   "source": [
    "print('Difference between Weighted model and model with oversampling ')\n",
    "custom_change(weighted_results, os_results)"
   ],
   "metadata": {
    "collapsed": false,
    "pycharm": {
     "name": "#%%\n"
    }
   }
  },
  {
   "cell_type": "markdown",
   "source": [
    "### Analysis\n",
    "This model seems to be a \"middle ground\" between the weighted model and the base model. Rather then having really high recall or precision, it has a decent score on both, and still manages to maintain a high ROC/AUC score. There is one more technique I'll try before iterating on one of these models"
   ],
   "metadata": {
    "collapsed": false,
    "pycharm": {
     "name": "#%% md\n"
    }
   }
  },
  {
   "cell_type": "markdown",
   "source": [
    "## SMOTEN\n",
    "I'll be using the SMOTEN variant of SMOTE since it is designed specifically for categorical data."
   ],
   "metadata": {
    "collapsed": false
   }
  },
  {
   "cell_type": "code",
   "execution_count": 77,
   "outputs": [],
   "source": [
    "# Create SMOTE object\n",
    "smote = SMOTEN(random_state=15)\n",
    "\n",
    "# Smite that training data\n",
    "X_smote, y_smote = smote.fit_resample(X_train, y_train)"
   ],
   "metadata": {
    "collapsed": false,
    "pycharm": {
     "name": "#%%\n"
    }
   }
  },
  {
   "cell_type": "code",
   "execution_count": 78,
   "outputs": [],
   "source": [
    "# Setting up the model\n",
    "smote_cat = CatBoostClassifier(\n",
    "    custom_loss=[metrics.Accuracy(), metrics.Recall(), metrics.Precision()],\n",
    "    random_seed=15,\n",
    "    logging_level='Silent',\n",
    ")\n",
    "\n",
    "smote_cat.fit(\n",
    "    X_smote, y_smote,\n",
    "    # Using X/y test as eval set\n",
    "    eval_set=(X_test, y_test),\n",
    "    # Uncomment below line to plot the learning of the model\n",
    "    # plot=True\n",
    ");"
   ],
   "metadata": {
    "collapsed": false,
    "pycharm": {
     "name": "#%%\n"
    }
   }
  },
  {
   "cell_type": "code",
   "execution_count": 79,
   "outputs": [
    {
     "name": "stdout",
     "output_type": "stream",
     "text": [
      "Model Results\n",
      "Accuracy: 0.93\n",
      "Precision: 0.68\n",
      "Recall: 0.57\n",
      "F1: 0.62\n",
      "ROC AUC: 0.77\n"
     ]
    }
   ],
   "source": [
    "# Printing results on test set\n",
    "smote_results = custom_score(y_test, smote_cat.predict(X_test))"
   ],
   "metadata": {
    "collapsed": false,
    "pycharm": {
     "name": "#%%\n"
    }
   }
  },
  {
   "cell_type": "code",
   "execution_count": 81,
   "outputs": [
    {
     "name": "stdout",
     "output_type": "stream",
     "text": [
      "Difference between Base model and model with oversampling \n",
      "Change in Results\n",
      "Accuracy        -0.01\n",
      "Precision       -0.05\n",
      "Recall          +0.01\n",
      "F1              -0.02\n",
      "ROCAUC          -0.00\n"
     ]
    }
   ],
   "source": [
    "# Printing the difference between FSM and os_results\n",
    "print('Difference between Base model and SMOTEN model ')\n",
    "custom_change(FSM_results, smote_results)"
   ],
   "metadata": {
    "collapsed": false,
    "pycharm": {
     "name": "#%%\n"
    }
   }
  },
  {
   "cell_type": "code",
   "execution_count": 80,
   "outputs": [
    {
     "name": "stdout",
     "output_type": "stream",
     "text": [
      "Change in Results\n",
      "Accuracy        +0.01\n",
      "Precision       +0.08\n",
      "Recall          -0.15\n",
      "F1              -0.03\n",
      "ROCAUC          -0.06\n"
     ]
    }
   ],
   "source": [
    "# Compare to Oversampling results\n",
    "print('Difference between random oversampling model and SMOTEN model')\n",
    "custom_change(os_results, smote_results)"
   ],
   "metadata": {
    "collapsed": false,
    "pycharm": {
     "name": "#%%\n"
    }
   }
  },
  {
   "cell_type": "markdown",
   "source": [
    "## Smote Analysis\n",
    "Smote performs slightly worse then both of the other options, in almost every way. It even manages to do worse then our first simple model. it has an advantage in precision when compared to the oversampling model, but I think SMOTEN is struggling with creating survey data.\n",
    "# Class Imbalance Analysis\n",
    "After checking the three suggested methods: Class weights, oversampling, and SMOTE, I'm going to use **Random Over Sampling** since it gave the most balanced results. I could try playing with the class weights a bit more, but I think it would require a lot more time, and probably won't result in an equally large increase to performance. Now, I'll perform oversampling and start the process of tuning the model."
   ],
   "metadata": {
    "collapsed": false,
    "pycharm": {
     "name": "#%% md\n"
    }
   }
  },
  {
   "cell_type": "markdown",
   "source": [
    "# Hyper-parameter tuning with Optima\n",
    "From here, I will be tuning our Catboost model using the [Optuna](https://optuna.readthedocs.io/en/stable/index.html) library. The library will allow me to easily test many hyper-parameters to find the optimal configuration."
   ],
   "metadata": {
    "collapsed": false,
    "pycharm": {
     "name": "#%% md\n"
    }
   }
  },
  {
   "cell_type": "code",
   "execution_count": 82,
   "outputs": [],
   "source": [
    "# Importing packages needed for this section\n",
    "from sklearn.metrics import roc_auc_score, f1_score, recall_score, accuracy_score\n",
    "import optuna"
   ],
   "metadata": {
    "collapsed": false,
    "pycharm": {
     "name": "#%%\n"
    }
   }
  },
  {
   "cell_type": "code",
   "execution_count": 83,
   "outputs": [],
   "source": [
    "# Optuna requires us to define the \"objective function\". Which will be called upon each iteration during our \"trials\"\n",
    "def objective(trial):\n",
    "    # Dict of Parameters to check\n",
    "    param = {\n",
    "        # Metric used for model optimization\n",
    "        'loss_function': trial.suggest_categorical('loss_function', ['Logloss', 'CrossEntropy']),\n",
    "\n",
    "        # The maximum number of trees that can be built.\n",
    "        'iterations': trial.suggest_categorical('iterations', [100, 200, 300, 500, 1000]),\n",
    "\n",
    "        # learning rate for gradient descent calculations.\n",
    "        'learning_rate': trial.suggest_float(\"learning_rate\", 0.001, 0.3),\n",
    "\n",
    "        # Coefficient at the L2 regularization term of the cost function.\n",
    "        'l2_leaf_reg': trial.suggest_loguniform(\"l2_leaf_reg\", 1e-8, 100),\n",
    "\n",
    "        # Affects the speed and regularization of tree\n",
    "        'bootstrap_type': trial.suggest_categorical('bootstrap_type', ['Bayesian', 'Bernoulli', 'MVS']),\n",
    "\n",
    "        # The amount of randomness to use for scoring splits.\n",
    "        'random_strength': trial.suggest_int(\"random_strength\", 1, 10),\n",
    "\n",
    "        # The number of splits for numerical features.\n",
    "        'max_bin': trial.suggest_categorical('max_bin', [4, 5, 6, 8, 10, 20, 30]),\n",
    "\n",
    "        # Allowed depth of tree.\n",
    "        \"depth\": trial.suggest_int(\"max_depth\", 2, 16),\n",
    "\n",
    "        # Defines how to perform greedy tree construction.\n",
    "        'grow_policy': trial.suggest_categorical('grow_policy', ['SymmetricTree', 'Depthwise', 'Lossguide']),\n",
    "\n",
    "        # The minimum number of training samples in a leaf.\n",
    "        'min_data_in_leaf': trial.suggest_int(\"min_data_in_leaf\", 1, 10),\n",
    "\n",
    "        # Only OHE encodes features if the number of unique values will be <= the parameter vale.\n",
    "        'one_hot_max_size': trial.suggest_categorical('one_hot_max_size', [5, 10, 12, 100]),\n",
    "    }\n",
    "\n",
    "    # Certain parameters are \"subparameters\" and can only be set if their parent parameter has a certain value.\n",
    "\n",
    "    # Bootstrap types\n",
    "    if param['bootstrap_type'] == \"Bayesian\":\n",
    "\n",
    "        # Use Baysesian bootstrapping to assign random weights to objects.\n",
    "        param['bagging_temperature'] = trial.suggest_float('bagging_temperature', 0, 10)\n",
    "\n",
    "    elif param['bootstrap_type'] in ['Bernoulli', 'MVS']:\n",
    "        # Sample rate for bagging using Bernoulli/MVS type\n",
    "        param['subsample'] = trial.suggest_float('subsample', 0.1, 1)\n",
    "\n",
    "    # Grow policy params\n",
    "    if param['grow_policy'] != 'SymmetricTree':\n",
    "\n",
    "        # The minimum number of training samples in a leaf.\n",
    "        param['min_data_in_leaf'] = trial.suggest_int('min_data_in_leaf', 1, 10)\n",
    "\n",
    "        if param['grow_policy'] == 'LossGuide':\n",
    "            # The maximum number of leafs in the tree.\n",
    "            param['max_leaves'] = trial.suggest_int('max_leaves', 16, 64)\n",
    "\n",
    "    # Creates the trial model with parameters specified above.\n",
    "    trial_model = CatBoostClassifier(**param)\n",
    "\n",
    "    # Fit the training model on training data\n",
    "    trial_model.fit(X_train_os,\n",
    "                    y_train_os,\n",
    "                    eval_set=[(X_test, y_test)],\n",
    "                    verbose=0,  # Stops Catboost from printing training results.\n",
    "                    early_stopping_rounds=10  # Specify rounds of no improvement needed before stopping\n",
    "                    )\n",
    "\n",
    "    # Create predictions for test set\n",
    "    preds = trial_model.predict(X_test)\n",
    "\n",
    "    # Calculate recall score\n",
    "    roc_auc = roc_auc_score(y_test, preds)\n",
    "\n",
    "    return roc_auc\n"
   ],
   "metadata": {
    "collapsed": false,
    "pycharm": {
     "name": "#%%\n"
    }
   }
  },
  {
   "cell_type": "code",
   "execution_count": 84,
   "outputs": [
    {
     "name": "stderr",
     "output_type": "stream",
     "text": [
      "\u001B[32m[I 2021-12-01 14:56:52,750]\u001B[0m A new study created in memory with name: no-name-fc7ebedc-17ad-441d-b511-828403fe0241\u001B[0m\n",
      "\u001B[32m[I 2021-12-01 14:57:24,571]\u001B[0m Trial 0 finished with value: 0.8618490836963328 and parameters: {'loss_function': 'Logloss', 'iterations': 1000, 'learning_rate': 0.16064576905485917, 'l2_leaf_reg': 0.00018447028325452105, 'bootstrap_type': 'Bayesian', 'random_strength': 1, 'max_bin': 20, 'max_depth': 3, 'grow_policy': 'SymmetricTree', 'min_data_in_leaf': 7, 'one_hot_max_size': 12, 'bagging_temperature': 5.220758625237006}. Best is trial 0 with value: 0.8618490836963328.\u001B[0m\n",
      "\u001B[32m[I 2021-12-01 14:58:32,149]\u001B[0m Trial 1 finished with value: 0.7948734306420332 and parameters: {'loss_function': 'Logloss', 'iterations': 200, 'learning_rate': 0.22540741972196893, 'l2_leaf_reg': 0.12489798575261435, 'bootstrap_type': 'MVS', 'random_strength': 8, 'max_bin': 5, 'max_depth': 9, 'grow_policy': 'Depthwise', 'min_data_in_leaf': 1, 'one_hot_max_size': 100, 'subsample': 0.5563394730991794}. Best is trial 0 with value: 0.8618490836963328.\u001B[0m\n",
      "\u001B[32m[I 2021-12-01 14:58:57,250]\u001B[0m Trial 2 finished with value: 0.8507008143695396 and parameters: {'loss_function': 'CrossEntropy', 'iterations': 100, 'learning_rate': 0.16009285458280753, 'l2_leaf_reg': 1.3449609405438786e-06, 'bootstrap_type': 'Bernoulli', 'random_strength': 6, 'max_bin': 5, 'max_depth': 15, 'grow_policy': 'Lossguide', 'min_data_in_leaf': 10, 'one_hot_max_size': 100, 'subsample': 0.538815036665705}. Best is trial 0 with value: 0.8618490836963328.\u001B[0m\n",
      "Training has stopped (degenerate solution on iteration 51, probably too small l2-regularization, try to increase it)\n",
      "\u001B[32m[I 2021-12-01 14:59:40,499]\u001B[0m Trial 3 finished with value: 0.7995387446239749 and parameters: {'loss_function': 'Logloss', 'iterations': 200, 'learning_rate': 0.1566915004375032, 'l2_leaf_reg': 2.5601478583933393e-05, 'bootstrap_type': 'MVS', 'random_strength': 3, 'max_bin': 5, 'max_depth': 10, 'grow_policy': 'Depthwise', 'min_data_in_leaf': 8, 'one_hot_max_size': 10, 'subsample': 0.8647946069259371}. Best is trial 0 with value: 0.8618490836963328.\u001B[0m\n",
      "\u001B[32m[I 2021-12-01 14:59:59,361]\u001B[0m Trial 4 finished with value: 0.8546923148012768 and parameters: {'loss_function': 'Logloss', 'iterations': 500, 'learning_rate': 0.2135235748649012, 'l2_leaf_reg': 2.924804746776715e-08, 'bootstrap_type': 'Bernoulli', 'random_strength': 6, 'max_bin': 20, 'max_depth': 3, 'grow_policy': 'Depthwise', 'min_data_in_leaf': 10, 'one_hot_max_size': 100, 'subsample': 0.4465003735013572}. Best is trial 0 with value: 0.8618490836963328.\u001B[0m\n",
      "\u001B[32m[I 2021-12-01 15:00:59,316]\u001B[0m Trial 5 finished with value: 0.8687289476370317 and parameters: {'loss_function': 'Logloss', 'iterations': 1000, 'learning_rate': 0.03203600485274493, 'l2_leaf_reg': 0.02674212397672798, 'bootstrap_type': 'Bernoulli', 'random_strength': 1, 'max_bin': 5, 'max_depth': 3, 'grow_policy': 'Depthwise', 'min_data_in_leaf': 4, 'one_hot_max_size': 100, 'subsample': 0.9436279607410641}. Best is trial 5 with value: 0.8687289476370317.\u001B[0m\n",
      "\u001B[32m[I 2021-12-01 15:01:05,909]\u001B[0m Trial 6 finished with value: 0.8453387551070516 and parameters: {'loss_function': 'Logloss', 'iterations': 200, 'learning_rate': 0.017785340567064534, 'l2_leaf_reg': 0.0020205125741060872, 'bootstrap_type': 'MVS', 'random_strength': 10, 'max_bin': 8, 'max_depth': 2, 'grow_policy': 'SymmetricTree', 'min_data_in_leaf': 8, 'one_hot_max_size': 5, 'subsample': 0.8962587073339546}. Best is trial 5 with value: 0.8687289476370317.\u001B[0m\n",
      "\u001B[32m[I 2021-12-01 15:01:31,373]\u001B[0m Trial 7 finished with value: 0.8600704090331016 and parameters: {'loss_function': 'CrossEntropy', 'iterations': 500, 'learning_rate': 0.26757460927946464, 'l2_leaf_reg': 1.0857157216431655e-05, 'bootstrap_type': 'Bayesian', 'random_strength': 6, 'max_bin': 6, 'max_depth': 2, 'grow_policy': 'Lossguide', 'min_data_in_leaf': 2, 'one_hot_max_size': 5, 'bagging_temperature': 9.600669133570657}. Best is trial 5 with value: 0.8687289476370317.\u001B[0m\n",
      "\u001B[32m[I 2021-12-01 15:01:44,431]\u001B[0m Trial 8 finished with value: 0.8044438934698708 and parameters: {'loss_function': 'Logloss', 'iterations': 500, 'learning_rate': 0.08845604975971545, 'l2_leaf_reg': 9.188223262790527e-05, 'bootstrap_type': 'MVS', 'random_strength': 4, 'max_bin': 20, 'max_depth': 10, 'grow_policy': 'SymmetricTree', 'min_data_in_leaf': 8, 'one_hot_max_size': 10, 'subsample': 0.20813256592245627}. Best is trial 5 with value: 0.8687289476370317.\u001B[0m\n",
      "\u001B[32m[I 2021-12-01 15:02:50,514]\u001B[0m Trial 9 finished with value: 0.8301343282140976 and parameters: {'loss_function': 'Logloss', 'iterations': 500, 'learning_rate': 0.22832026962055782, 'l2_leaf_reg': 0.30958566759749395, 'bootstrap_type': 'Bernoulli', 'random_strength': 6, 'max_bin': 20, 'max_depth': 12, 'grow_policy': 'Lossguide', 'min_data_in_leaf': 10, 'one_hot_max_size': 5, 'subsample': 0.7280783720210545}. Best is trial 5 with value: 0.8687289476370317.\u001B[0m\n",
      "\u001B[32m[I 2021-12-01 15:06:38,677]\u001B[0m Trial 10 finished with value: 0.8648815895103024 and parameters: {'loss_function': 'CrossEntropy', 'iterations': 1000, 'learning_rate': 0.003195370412629156, 'l2_leaf_reg': 2.532732682924359, 'bootstrap_type': 'Bernoulli', 'random_strength': 1, 'max_bin': 4, 'max_depth': 6, 'grow_policy': 'Depthwise', 'min_data_in_leaf': 4, 'one_hot_max_size': 12, 'subsample': 0.9822491386633787}. Best is trial 5 with value: 0.8687289476370317.\u001B[0m\n",
      "\u001B[32m[I 2021-12-01 15:09:43,157]\u001B[0m Trial 11 finished with value: 0.8676970197716345 and parameters: {'loss_function': 'CrossEntropy', 'iterations': 1000, 'learning_rate': 0.003985175117118364, 'l2_leaf_reg': 84.94579414654172, 'bootstrap_type': 'Bernoulli', 'random_strength': 1, 'max_bin': 4, 'max_depth': 6, 'grow_policy': 'Depthwise', 'min_data_in_leaf': 4, 'one_hot_max_size': 12, 'subsample': 0.994380294048534}. Best is trial 5 with value: 0.8687289476370317.\u001B[0m\n",
      "\u001B[32m[I 2021-12-01 15:12:39,206]\u001B[0m Trial 12 finished with value: 0.8412438032602368 and parameters: {'loss_function': 'CrossEntropy', 'iterations': 1000, 'learning_rate': 0.06685566108547238, 'l2_leaf_reg': 71.63418223693823, 'bootstrap_type': 'Bernoulli', 'random_strength': 3, 'max_bin': 4, 'max_depth': 6, 'grow_policy': 'Depthwise', 'min_data_in_leaf': 4, 'one_hot_max_size': 12, 'subsample': 0.7378484532420686}. Best is trial 5 with value: 0.8687289476370317.\u001B[0m\n"
     ]
    },
    {
     "name": "stdout",
     "output_type": "stream",
     "text": [
      "Number of finished trials: 13\n",
      "Best trial:\n",
      "  Value: 0.8687289476370317\n",
      "  Params: \n",
      "    loss_function: Logloss\n",
      "    iterations: 1000\n",
      "    learning_rate: 0.03203600485274493\n",
      "    l2_leaf_reg: 0.02674212397672798\n",
      "    bootstrap_type: Bernoulli\n",
      "    random_strength: 1\n",
      "    max_bin: 5\n",
      "    max_depth: 3\n",
      "    grow_policy: Depthwise\n",
      "    min_data_in_leaf: 4\n",
      "    one_hot_max_size: 100\n",
      "    subsample: 0.9436279607410641\n"
     ]
    }
   ],
   "source": [
    "# Instantiate a \"trial\" object and specify we want to MAXIMIZE the value being returned by the obj function\n",
    "study = optuna.create_study(direction=\"maximize\")\n",
    "\n",
    "# Running 100 trials, setting a timeout value of 15 minutes to prevent my computer from exploding.\n",
    "study.optimize(objective, n_trials=100, timeout=900)\n",
    "\n",
    "print(\"Number of finished trials: {}\".format(len(study.trials)))\n",
    "trial = study.best_trial\n",
    "\n",
    "# \"Prettify\" our trial results\n",
    "print(\"Best trial:\")\n",
    "\n",
    "# Print metric value achieved from best trial\n",
    "print(\"  Value: {}\".format(trial.value))\n",
    "\n",
    "# Print all parameters from best trial\n",
    "print(\"  Params: \")\n",
    "for key, value in trial.params.items():\n",
    "    print(\"    {}: {}\".format(key, value))"
   ],
   "metadata": {
    "collapsed": false,
    "pycharm": {
     "name": "#%%\n"
    }
   }
  },
  {
   "cell_type": "code",
   "execution_count": 86,
   "outputs": [
    {
     "data": {
      "text/plain": "<catboost.core.CatBoostClassifier at 0x19b454340>"
     },
     "execution_count": 86,
     "metadata": {},
     "output_type": "execute_result"
    }
   ],
   "source": [
    "# Create a model with the parameters from our best trial\n",
    "final_model = CatBoostClassifier(verbose=False, **trial.params)\n",
    "final_model.fit(X_train_os, y_train_os)"
   ],
   "metadata": {
    "collapsed": false,
    "pycharm": {
     "name": "#%%\n"
    }
   }
  },
  {
   "cell_type": "markdown",
   "source": [
    "# Results\n",
    " Before performing analysis let's look at the results, the confusion matrix, and the ROC Curve."
   ],
   "metadata": {
    "collapsed": false
   }
  },
  {
   "cell_type": "code",
   "execution_count": 87,
   "outputs": [],
   "source": [
    "# Importing required packages for this section\n",
    "from sklearn.metrics import RocCurveDisplay"
   ],
   "metadata": {
    "collapsed": false,
    "pycharm": {
     "name": "#%%\n"
    }
   }
  },
  {
   "cell_type": "code",
   "execution_count": 88,
   "outputs": [
    {
     "name": "stdout",
     "output_type": "stream",
     "text": [
      "Model Results\n",
      "Accuracy: 0.90\n",
      "Precision: 0.49\n",
      "Recall: 0.84\n",
      "F1: 0.62\n",
      "ROC AUC: 0.87\n"
     ]
    }
   ],
   "source": [
    "# Show custom metrics\n",
    "final_results = custom_score(y_test, final_model.predict(X_test))"
   ],
   "metadata": {
    "collapsed": false,
    "pycharm": {
     "name": "#%%\n"
    }
   }
  },
  {
   "cell_type": "code",
   "execution_count": 89,
   "outputs": [
    {
     "name": "stdout",
     "output_type": "stream",
     "text": [
      "Difference between Tuned Model and Un-tuned Model\n",
      "Change in Results\n",
      "Accuracy        -0.03\n",
      "Precision       -0.11\n",
      "Recall          +0.12\n",
      "F1              -0.04\n",
      "ROCAUC          +0.04\n"
     ]
    }
   ],
   "source": [
    "# Printing the difference between the oversample model, and the tuned oversample model.\n",
    "print('Difference between Tuned Model and Un-tuned Model')\n",
    "custom_change(os_results, final_results)"
   ],
   "metadata": {
    "collapsed": false,
    "pycharm": {
     "name": "#%%\n"
    }
   }
  },
  {
   "cell_type": "code",
   "execution_count": 94,
   "outputs": [
    {
     "data": {
      "text/plain": "<Figure size 432x288 with 2 Axes>",
      "image/png": "[encoded data removed]"
     },
     "metadata": {},
     "output_type": "display_data"
    }
   ],
   "source": [
    "# Creating a confusion matrix for the final model\n",
    "final_matrix = ConfusionMatrixDisplay.from_predictions(y_test, final_model.predict(X_test), cmap='Reds')"
   ],
   "metadata": {
    "collapsed": false,
    "pycharm": {
     "name": "#%%\n"
    }
   }
  },
  {
   "cell_type": "code",
   "execution_count": 96,
   "outputs": [
    {
     "data": {
      "text/plain": "<Figure size 432x288 with 1 Axes>",
      "image/png": "[encoded data removed]"
     },
     "metadata": {},
     "output_type": "display_data"
    }
   ],
   "source": [
    "final_roc_curve = RocCurveDisplay.from_predictions(y_test, final_model.predict(X_test))"
   ],
   "metadata": {
    "collapsed": false,
    "pycharm": {
     "name": "#%%\n"
    }
   }
  },
  {
   "cell_type": "markdown",
   "source": [
    "# Conclusion"
   ],
   "metadata": {
    "collapsed": false
   }
  },
  {
   "cell_type": "markdown",
   "source": [
    "# Next Steps"
   ],
   "metadata": {
    "collapsed": false,
    "pycharm": {
     "name": "#%% md\n"
    }
   }
  }
 ],
 "metadata": {
  "kernelspec": {
   "display_name": "Python 3",
   "language": "python",
   "name": "python3"
  },
  "language_info": {
   "codemirror_mode": {
    "name": "ipython",
    "version": 2
   },
   "file_extension": ".py",
   "mimetype": "text/x-python",
   "name": "python",
   "nbconvert_exporter": "python",
   "pygments_lexer": "ipython2",
   "version": "2.7.6"
  }
 },
 "nbformat": 4,
 "nbformat_minor": 0
}