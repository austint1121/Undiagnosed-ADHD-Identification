{
 "cells": [
  {
   "cell_type": "markdown",
   "metadata": {
    "collapsed": true,
    "pycharm": {
     "name": "#%% md\n"
    }
   },
   "source": [
    "# Catboost Tuning with Weighted samples instead of Oversampling\n",
    "## Summary\n",
    "In this notebook I will be tuning a Catboost model using [Optuna](https://optuna.readthedocs.io/en/stable/index.html)\n"
   ]
  },
  {
   "cell_type": "markdown",
   "source": [
    "### Importing Data and Required Packages"
   ],
   "metadata": {
    "collapsed": false,
    "pycharm": {
     "name": "#%% md\n"
    }
   }
  },
  {
   "cell_type": "code",
   "execution_count": 1,
   "outputs": [],
   "source": [
    "# Imports\n",
    "import pandas as pd\n",
    "from imblearn.over_sampling import RandomOverSampler\n",
    "from catboost import CatBoostClassifier, metrics, cv\n",
    "from sklearn.metrics import roc_auc_score, f1_score, recall_score, accuracy_score\n",
    "import optuna\n",
    "\n",
    "from functions import metrics as custom_metric"
   ],
   "metadata": {
    "collapsed": false,
    "pycharm": {
     "name": "#%%\n"
    }
   }
  },
  {
   "cell_type": "code",
   "execution_count": 6,
   "outputs": [],
   "source": [
    "# Training Data\n",
    "X_train = pd.read_csv('../Data/train/X_train_alt.csv', index_col=0)\n",
    "y_train = pd.read_csv('../Data/train/y_train_alt.csv', index_col=0)\n",
    "\n",
    "# Testing Data\n",
    "X_test = pd.read_csv('../Data/test/X_test_alt.csv', index_col=0)\n",
    "y_test = pd.read_csv('../Data/test/y_test_alt.csv', index_col=0)"
   ],
   "metadata": {
    "collapsed": false,
    "pycharm": {
     "name": "#%%\n"
    }
   }
  },
  {
   "cell_type": "markdown",
   "source": [
    "## Optimizing with the Optuna\n",
    "For the hyperparameter tuning process, I'll be using the [Optuna](https://optuna.readthedocs.io/en/stable/index.html) library."
   ],
   "metadata": {
    "collapsed": false,
    "pycharm": {
     "name": "#%% md\n"
    }
   }
  },
  {
   "cell_type": "code",
   "execution_count": 17,
   "outputs": [],
   "source": [
    "# Optuna requires us to define the \"objective function\". Which will be called upon each iteration during our \"trials\"\n",
    "def objective(trial):\n",
    "    # Dict of Parameters to check\n",
    "    param = {\n",
    "        # Metric used for model optimization\n",
    "        # 'loss_function':trial.suggest_categorical('loss_function', ['Logloss', 'CrossEntropy']),\n",
    "\n",
    "        # The maximum number of trees that can be built.\n",
    "        'iterations':trial.suggest_categorical('iterations', [100,200,300,500,1000]),\n",
    "\n",
    "        # learning rate for gradient descent calculations.\n",
    "        'learning_rate':trial.suggest_float(\"learning_rate\", 0.001, 0.3),\n",
    "\n",
    "        # Coefficient at the L2 regularization term of the cost function.\n",
    "        'l2_leaf_reg': trial.suggest_loguniform(\"l2_leaf_reg\", 1e-8, 100),\n",
    "\n",
    "        # Affects the speed and regularization of tree\n",
    "        'bootstrap_type': trial.suggest_categorical('bootstrap_type', ['Bayesian', 'Bernoulli', 'MVS']),\n",
    "\n",
    "        # The amount of randomness to use for scoring splits.\n",
    "        'random_strength':trial.suggest_int(\"random_strength\", 1,10),\n",
    "\n",
    "        # The number of splits for numerical features.\n",
    "        'max_bin':trial.suggest_categorical('max_bin', [4,5,6,8,10,20,30]),\n",
    "\n",
    "        # Allowed depth of tree.\n",
    "        \"depth\": trial.suggest_int(\"max_depth\", 2,16),\n",
    "\n",
    "        # Defines how to perform greedy tree construction.\n",
    "        'grow_policy':trial.suggest_categorical('grow_policy', ['SymmetricTree', 'Depthwise', 'Lossguide']),\n",
    "\n",
    "        # The minimum number of training samples in a leaf.\n",
    "        'min_data_in_leaf':trial.suggest_int(\"min_data_in_leaf\", 1,10),\n",
    "\n",
    "        # Only OHE encodes features if the number of unique values will be <= the parameter vale.\n",
    "        'one_hot_max_size':trial.suggest_categorical('one_hot_max_size', [5,10,12,100]),\n",
    "\n",
    "        # Class weights setting\n",
    "        'auto_class_weights': trial.suggest_categorical('auto_class_weights', ['Balanced', 'SqrtBalanced'])\n",
    "    }\n",
    "\n",
    "    # Certain parameters are \"subparameters\" and can only be set if their parent parameter has a certain value.\n",
    "\n",
    "    # Bootstrap types\n",
    "    if param['bootstrap_type'] == \"Bayesian\":\n",
    "\n",
    "        # Use Baysesian bootstrapping to assign random weights to objects.\n",
    "        param['bagging_temperature'] = trial.suggest_float('bagging_temperature', 0, 10)\n",
    "\n",
    "    elif param['bootstrap_type'] in ['Bernoulli', 'MVS']:\n",
    "        # Sample rate for bagging using Bernoulli/MVS type\n",
    "        param['subsample'] = trial.suggest_float('subsample', 0.1, 1)\n",
    "\n",
    "    # Grow policy params\n",
    "    if param['grow_policy'] != 'SymmetricTree':\n",
    "\n",
    "        # The minimum number of training samples in a leaf.\n",
    "        param['min_data_in_leaf'] = trial.suggest_int('min_data_in_leaf', 1, 10)\n",
    "\n",
    "        if param['grow_policy'] == 'LossGuide':\n",
    "\n",
    "            # The maximum number of leafs in the tree.\n",
    "            param['max_leaves'] = trial.suggest_int('max_leaves', 16, 64)\n",
    "\n",
    "\n",
    "    # Creates the trial model with parameters specified above.\n",
    "    trial_model = CatBoostClassifier(**param)\n",
    "\n",
    "    # Fit the training model on training data\n",
    "    trial_model.fit(X_train,\n",
    "                    y_train,\n",
    "                    eval_set=[(X_test, y_test)],\n",
    "                    verbose=0, # Stops Catboost from printing training results.\n",
    "                    early_stopping_rounds=10 # Specify rounds of no improvement needed before stopping\n",
    "                    )\n",
    "\n",
    "    # Create predictions for test set\n",
    "    preds = trial_model.predict(X_test)\n",
    "\n",
    "    # Calculate recall score\n",
    "    recall = recall_score(y_test, preds)\n",
    "\n",
    "    return recall"
   ],
   "metadata": {
    "collapsed": false,
    "pycharm": {
     "name": "#%%\n"
    }
   }
  },
  {
   "cell_type": "code",
   "execution_count": 18,
   "outputs": [
    {
     "name": "stderr",
     "output_type": "stream",
     "text": [
      "\u001B[32m[I 2021-12-02 14:48:29,094]\u001B[0m A new study created in memory with name: no-name-e6ef0dc4-547b-4d91-85eb-77466f046926\u001B[0m\n",
      "\u001B[32m[I 2021-12-02 14:48:34,784]\u001B[0m Trial 0 finished with value: 0.7178082191780822 and parameters: {'iterations': 100, 'learning_rate': 0.1232319791499092, 'l2_leaf_reg': 8.710220289772402e-08, 'bootstrap_type': 'MVS', 'random_strength': 6, 'max_bin': 10, 'max_depth': 3, 'grow_policy': 'SymmetricTree', 'min_data_in_leaf': 7, 'one_hot_max_size': 100, 'auto_class_weights': 'SqrtBalanced', 'subsample': 0.8689688383326206}. Best is trial 0 with value: 0.7178082191780822.\u001B[0m\n",
      "\u001B[32m[I 2021-12-02 14:48:43,427]\u001B[0m Trial 1 finished with value: 0.836986301369863 and parameters: {'iterations': 300, 'learning_rate': 0.26016856539483757, 'l2_leaf_reg': 32.971469910104446, 'bootstrap_type': 'Bernoulli', 'random_strength': 10, 'max_bin': 4, 'max_depth': 10, 'grow_policy': 'SymmetricTree', 'min_data_in_leaf': 3, 'one_hot_max_size': 5, 'auto_class_weights': 'Balanced', 'subsample': 0.456248487470867}. Best is trial 1 with value: 0.836986301369863.\u001B[0m\n",
      "\u001B[32m[I 2021-12-02 14:48:46,085]\u001B[0m Trial 2 finished with value: 0.7493150684931507 and parameters: {'iterations': 200, 'learning_rate': 0.2110810809441738, 'l2_leaf_reg': 0.7605686556576166, 'bootstrap_type': 'MVS', 'random_strength': 10, 'max_bin': 10, 'max_depth': 2, 'grow_policy': 'SymmetricTree', 'min_data_in_leaf': 3, 'one_hot_max_size': 10, 'auto_class_weights': 'SqrtBalanced', 'subsample': 0.3190717842993761}. Best is trial 1 with value: 0.836986301369863.\u001B[0m\n",
      "\u001B[32m[I 2021-12-02 14:48:54,495]\u001B[0m Trial 3 finished with value: 0.8616438356164383 and parameters: {'iterations': 1000, 'learning_rate': 0.19273003063171323, 'l2_leaf_reg': 1.1175370172062036, 'bootstrap_type': 'Bayesian', 'random_strength': 1, 'max_bin': 10, 'max_depth': 3, 'grow_policy': 'Lossguide', 'min_data_in_leaf': 9, 'one_hot_max_size': 12, 'auto_class_weights': 'Balanced', 'bagging_temperature': 0.4570427596770299}. Best is trial 3 with value: 0.8616438356164383.\u001B[0m\n",
      "\u001B[32m[I 2021-12-02 14:49:32,592]\u001B[0m Trial 4 finished with value: 0.7520547945205479 and parameters: {'iterations': 1000, 'learning_rate': 0.015076043660080592, 'l2_leaf_reg': 0.002213271730186816, 'bootstrap_type': 'Bernoulli', 'random_strength': 4, 'max_bin': 10, 'max_depth': 3, 'grow_policy': 'Depthwise', 'min_data_in_leaf': 1, 'one_hot_max_size': 100, 'auto_class_weights': 'SqrtBalanced', 'subsample': 0.9915131764299046}. Best is trial 3 with value: 0.8616438356164383.\u001B[0m\n",
      "\u001B[32m[I 2021-12-02 14:49:35,444]\u001B[0m Trial 5 finished with value: 0.726027397260274 and parameters: {'iterations': 100, 'learning_rate': 0.171041003209015, 'l2_leaf_reg': 0.0030462771498816397, 'bootstrap_type': 'Bernoulli', 'random_strength': 6, 'max_bin': 30, 'max_depth': 5, 'grow_policy': 'SymmetricTree', 'min_data_in_leaf': 2, 'one_hot_max_size': 5, 'auto_class_weights': 'SqrtBalanced', 'subsample': 0.9152571017920883}. Best is trial 3 with value: 0.8616438356164383.\u001B[0m\n",
      "\u001B[32m[I 2021-12-02 14:49:37,407]\u001B[0m Trial 6 finished with value: 0.8164383561643835 and parameters: {'iterations': 1000, 'learning_rate': 0.12875386121232832, 'l2_leaf_reg': 4.492014737075549e-05, 'bootstrap_type': 'Bayesian', 'random_strength': 1, 'max_bin': 4, 'max_depth': 8, 'grow_policy': 'SymmetricTree', 'min_data_in_leaf': 7, 'one_hot_max_size': 100, 'auto_class_weights': 'Balanced', 'bagging_temperature': 9.973732810261085}. Best is trial 3 with value: 0.8616438356164383.\u001B[0m\n",
      "\u001B[32m[I 2021-12-02 14:49:47,379]\u001B[0m Trial 7 finished with value: 0.7109589041095891 and parameters: {'iterations': 1000, 'learning_rate': 0.10172798139738264, 'l2_leaf_reg': 63.6318325153894, 'bootstrap_type': 'Bayesian', 'random_strength': 6, 'max_bin': 4, 'max_depth': 3, 'grow_policy': 'SymmetricTree', 'min_data_in_leaf': 3, 'one_hot_max_size': 100, 'auto_class_weights': 'SqrtBalanced', 'bagging_temperature': 9.096315929881793}. Best is trial 3 with value: 0.8616438356164383.\u001B[0m\n",
      "\u001B[32m[I 2021-12-02 14:50:17,920]\u001B[0m Trial 8 finished with value: 0.6602739726027397 and parameters: {'iterations': 500, 'learning_rate': 0.09562635444859932, 'l2_leaf_reg': 4.5085634846046725, 'bootstrap_type': 'Bernoulli', 'random_strength': 10, 'max_bin': 20, 'max_depth': 11, 'grow_policy': 'SymmetricTree', 'min_data_in_leaf': 9, 'one_hot_max_size': 10, 'auto_class_weights': 'SqrtBalanced', 'subsample': 0.4889273743758751}. Best is trial 3 with value: 0.8616438356164383.\u001B[0m\n",
      "\u001B[32m[I 2021-12-02 14:50:51,925]\u001B[0m Trial 9 finished with value: 0.6150684931506849 and parameters: {'iterations': 500, 'learning_rate': 0.20073466196739143, 'l2_leaf_reg': 0.00010955501361633539, 'bootstrap_type': 'Bernoulli', 'random_strength': 1, 'max_bin': 30, 'max_depth': 15, 'grow_policy': 'SymmetricTree', 'min_data_in_leaf': 2, 'one_hot_max_size': 100, 'auto_class_weights': 'SqrtBalanced', 'subsample': 0.9047462082607394}. Best is trial 3 with value: 0.8616438356164383.\u001B[0m\n",
      "\u001B[32m[I 2021-12-02 14:50:59,205]\u001B[0m Trial 10 finished with value: 0.8397260273972603 and parameters: {'iterations': 200, 'learning_rate': 0.28900279092084713, 'l2_leaf_reg': 0.10609708899808255, 'bootstrap_type': 'Bayesian', 'random_strength': 3, 'max_bin': 5, 'max_depth': 7, 'grow_policy': 'Lossguide', 'min_data_in_leaf': 10, 'one_hot_max_size': 12, 'auto_class_weights': 'Balanced', 'bagging_temperature': 0.03541597842131505}. Best is trial 3 with value: 0.8616438356164383.\u001B[0m\n",
      "\u001B[32m[I 2021-12-02 14:51:05,426]\u001B[0m Trial 11 finished with value: 0.8561643835616438 and parameters: {'iterations': 200, 'learning_rate': 0.29676144595274395, 'l2_leaf_reg': 0.0935002902939764, 'bootstrap_type': 'Bayesian', 'random_strength': 3, 'max_bin': 5, 'max_depth': 7, 'grow_policy': 'Lossguide', 'min_data_in_leaf': 10, 'one_hot_max_size': 12, 'auto_class_weights': 'Balanced', 'bagging_temperature': 0.029741101844072238}. Best is trial 3 with value: 0.8616438356164383.\u001B[0m\n",
      "\u001B[32m[I 2021-12-02 14:51:13,301]\u001B[0m Trial 12 finished with value: 0.8465753424657534 and parameters: {'iterations': 200, 'learning_rate': 0.26077427367821104, 'l2_leaf_reg': 0.059761205489894616, 'bootstrap_type': 'Bayesian', 'random_strength': 3, 'max_bin': 6, 'max_depth': 7, 'grow_policy': 'Lossguide', 'min_data_in_leaf': 8, 'one_hot_max_size': 12, 'auto_class_weights': 'Balanced', 'bagging_temperature': 0.18373490646600255}. Best is trial 3 with value: 0.8616438356164383.\u001B[0m\n",
      "\u001B[32m[I 2021-12-02 14:51:18,472]\u001B[0m Trial 13 finished with value: 0.8575342465753425 and parameters: {'iterations': 300, 'learning_rate': 0.2991799627159734, 'l2_leaf_reg': 0.07243931098801042, 'bootstrap_type': 'Bayesian', 'random_strength': 2, 'max_bin': 8, 'max_depth': 5, 'grow_policy': 'Lossguide', 'min_data_in_leaf': 10, 'one_hot_max_size': 12, 'auto_class_weights': 'Balanced', 'bagging_temperature': 3.031422629334428}. Best is trial 3 with value: 0.8616438356164383.\u001B[0m\n",
      "\u001B[32m[I 2021-12-02 14:51:23,076]\u001B[0m Trial 14 finished with value: 0.8547945205479452 and parameters: {'iterations': 300, 'learning_rate': 0.22501935411185398, 'l2_leaf_reg': 3.7029112121784933e-06, 'bootstrap_type': 'Bayesian', 'random_strength': 1, 'max_bin': 8, 'max_depth': 5, 'grow_policy': 'Lossguide', 'min_data_in_leaf': 5, 'one_hot_max_size': 12, 'auto_class_weights': 'Balanced', 'bagging_temperature': 3.3464588399468584}. Best is trial 3 with value: 0.8616438356164383.\u001B[0m\n",
      "\u001B[32m[I 2021-12-02 14:51:53,745]\u001B[0m Trial 15 finished with value: 0.8726027397260274 and parameters: {'iterations': 300, 'learning_rate': 0.021088578036290273, 'l2_leaf_reg': 2.2582563339725827, 'bootstrap_type': 'Bayesian', 'random_strength': 8, 'max_bin': 8, 'max_depth': 5, 'grow_policy': 'Lossguide', 'min_data_in_leaf': 6, 'one_hot_max_size': 12, 'auto_class_weights': 'Balanced', 'bagging_temperature': 3.288676779608963}. Best is trial 15 with value: 0.8726027397260274.\u001B[0m\n",
      "\u001B[32m[I 2021-12-02 14:54:44,543]\u001B[0m Trial 16 finished with value: 0.836986301369863 and parameters: {'iterations': 300, 'learning_rate': 0.0011482057866320783, 'l2_leaf_reg': 1.8365737859344269, 'bootstrap_type': 'Bayesian', 'random_strength': 8, 'max_bin': 8, 'max_depth': 12, 'grow_policy': 'Depthwise', 'min_data_in_leaf': 5, 'one_hot_max_size': 12, 'auto_class_weights': 'Balanced', 'bagging_temperature': 6.208048484627148}. Best is trial 15 with value: 0.8726027397260274.\u001B[0m\n",
      "\u001B[32m[I 2021-12-02 14:55:06,046]\u001B[0m Trial 17 finished with value: 0.8534246575342466 and parameters: {'iterations': 1000, 'learning_rate': 0.04394169723683184, 'l2_leaf_reg': 5.477018566690937, 'bootstrap_type': 'MVS', 'random_strength': 8, 'max_bin': 20, 'max_depth': 5, 'grow_policy': 'Lossguide', 'min_data_in_leaf': 6, 'one_hot_max_size': 12, 'auto_class_weights': 'Balanced', 'subsample': 0.11048355128793524}. Best is trial 15 with value: 0.8726027397260274.\u001B[0m\n",
      "\u001B[32m[I 2021-12-02 14:55:29,698]\u001B[0m Trial 18 finished with value: 0.8561643835616438 and parameters: {'iterations': 300, 'learning_rate': 0.05033902685844478, 'l2_leaf_reg': 0.009866784945976845, 'bootstrap_type': 'Bayesian', 'random_strength': 8, 'max_bin': 6, 'max_depth': 16, 'grow_policy': 'Lossguide', 'min_data_in_leaf': 8, 'one_hot_max_size': 12, 'auto_class_weights': 'Balanced', 'bagging_temperature': 2.6538588330794175}. Best is trial 15 with value: 0.8726027397260274.\u001B[0m\n",
      "\u001B[32m[I 2021-12-02 14:55:33,816]\u001B[0m Trial 19 finished with value: 0.8657534246575342 and parameters: {'iterations': 1000, 'learning_rate': 0.15988767771268877, 'l2_leaf_reg': 0.0001474999388261022, 'bootstrap_type': 'Bayesian', 'random_strength': 5, 'max_bin': 10, 'max_depth': 2, 'grow_policy': 'Depthwise', 'min_data_in_leaf': 6, 'one_hot_max_size': 10, 'auto_class_weights': 'Balanced', 'bagging_temperature': 5.31604486129487}. Best is trial 15 with value: 0.8726027397260274.\u001B[0m\n",
      "\u001B[32m[I 2021-12-02 14:55:46,175]\u001B[0m Trial 20 finished with value: 0.8698630136986302 and parameters: {'iterations': 500, 'learning_rate': 0.07126312923203895, 'l2_leaf_reg': 5.816435435614881e-07, 'bootstrap_type': 'MVS', 'random_strength': 5, 'max_bin': 8, 'max_depth': 2, 'grow_policy': 'Depthwise', 'min_data_in_leaf': 6, 'one_hot_max_size': 10, 'auto_class_weights': 'Balanced', 'subsample': 0.5993259932615757}. Best is trial 15 with value: 0.8726027397260274.\u001B[0m\n",
      "\u001B[32m[I 2021-12-02 14:55:58,662]\u001B[0m Trial 21 finished with value: 0.8712328767123287 and parameters: {'iterations': 500, 'learning_rate': 0.05962671454143782, 'l2_leaf_reg': 7.035837697362683e-08, 'bootstrap_type': 'MVS', 'random_strength': 5, 'max_bin': 8, 'max_depth': 2, 'grow_policy': 'Depthwise', 'min_data_in_leaf': 6, 'one_hot_max_size': 10, 'auto_class_weights': 'Balanced', 'subsample': 0.66020541217848}. Best is trial 15 with value: 0.8726027397260274.\u001B[0m\n",
      "\u001B[32m[I 2021-12-02 14:56:11,589]\u001B[0m Trial 22 finished with value: 0.8589041095890411 and parameters: {'iterations': 500, 'learning_rate': 0.061865097940657365, 'l2_leaf_reg': 1.491512303483565e-08, 'bootstrap_type': 'MVS', 'random_strength': 7, 'max_bin': 8, 'max_depth': 4, 'grow_policy': 'Depthwise', 'min_data_in_leaf': 4, 'one_hot_max_size': 10, 'auto_class_weights': 'Balanced', 'subsample': 0.7004102373388962}. Best is trial 15 with value: 0.8726027397260274.\u001B[0m\n",
      "\u001B[32m[I 2021-12-02 14:56:21,054]\u001B[0m Trial 23 finished with value: 0.8684931506849315 and parameters: {'iterations': 500, 'learning_rate': 0.07448110510813225, 'l2_leaf_reg': 7.297407701388312e-07, 'bootstrap_type': 'MVS', 'random_strength': 5, 'max_bin': 8, 'max_depth': 2, 'grow_policy': 'Depthwise', 'min_data_in_leaf': 7, 'one_hot_max_size': 10, 'auto_class_weights': 'Balanced', 'subsample': 0.673616385142026}. Best is trial 15 with value: 0.8726027397260274.\u001B[0m\n",
      "\u001B[32m[I 2021-12-02 14:56:40,586]\u001B[0m Trial 24 finished with value: 0.8657534246575342 and parameters: {'iterations': 500, 'learning_rate': 0.033530571342544536, 'l2_leaf_reg': 1.0764917618360624e-06, 'bootstrap_type': 'MVS', 'random_strength': 7, 'max_bin': 8, 'max_depth': 4, 'grow_policy': 'Depthwise', 'min_data_in_leaf': 5, 'one_hot_max_size': 10, 'auto_class_weights': 'Balanced', 'subsample': 0.6807478514514794}. Best is trial 15 with value: 0.8726027397260274.\u001B[0m\n",
      "\u001B[32m[I 2021-12-02 14:56:57,584]\u001B[0m Trial 25 finished with value: 0.8561643835616438 and parameters: {'iterations': 500, 'learning_rate': 0.02733734303254523, 'l2_leaf_reg': 1.0777276892522693e-08, 'bootstrap_type': 'MVS', 'random_strength': 4, 'max_bin': 8, 'max_depth': 6, 'grow_policy': 'Depthwise', 'min_data_in_leaf': 6, 'one_hot_max_size': 10, 'auto_class_weights': 'Balanced', 'subsample': 0.5872796023282028}. Best is trial 15 with value: 0.8726027397260274.\u001B[0m\n",
      "\u001B[32m[I 2021-12-02 14:57:04,922]\u001B[0m Trial 26 finished with value: 0.8575342465753425 and parameters: {'iterations': 500, 'learning_rate': 0.08025852796130117, 'l2_leaf_reg': 8.164674311938994e-06, 'bootstrap_type': 'MVS', 'random_strength': 4, 'max_bin': 8, 'max_depth': 4, 'grow_policy': 'Depthwise', 'min_data_in_leaf': 4, 'one_hot_max_size': 10, 'auto_class_weights': 'Balanced', 'subsample': 0.3251820808183868}. Best is trial 15 with value: 0.8726027397260274.\u001B[0m\n",
      "\u001B[32m[I 2021-12-02 14:57:12,108]\u001B[0m Trial 27 finished with value: 0.8178082191780822 and parameters: {'iterations': 500, 'learning_rate': 0.1298109265208367, 'l2_leaf_reg': 2.750327141678277e-07, 'bootstrap_type': 'MVS', 'random_strength': 9, 'max_bin': 8, 'max_depth': 9, 'grow_policy': 'Depthwise', 'min_data_in_leaf': 7, 'one_hot_max_size': 5, 'auto_class_weights': 'Balanced', 'subsample': 0.7849374386774121}. Best is trial 15 with value: 0.8726027397260274.\u001B[0m\n",
      "\u001B[32m[I 2021-12-02 14:58:15,684]\u001B[0m Trial 28 finished with value: 0.7972602739726027 and parameters: {'iterations': 100, 'learning_rate': 0.004617513525640049, 'l2_leaf_reg': 4.012693740992939e-08, 'bootstrap_type': 'MVS', 'random_strength': 7, 'max_bin': 8, 'max_depth': 13, 'grow_policy': 'Depthwise', 'min_data_in_leaf': 4, 'one_hot_max_size': 10, 'auto_class_weights': 'Balanced', 'subsample': 0.5542793132212084}. Best is trial 15 with value: 0.8726027397260274.\u001B[0m\n",
      "\u001B[32m[I 2021-12-02 14:58:19,332]\u001B[0m Trial 29 finished with value: 0.8753424657534247 and parameters: {'iterations': 100, 'learning_rate': 0.10951051047555457, 'l2_leaf_reg': 1.3381156972781412e-07, 'bootstrap_type': 'MVS', 'random_strength': 5, 'max_bin': 8, 'max_depth': 2, 'grow_policy': 'Depthwise', 'min_data_in_leaf': 8, 'one_hot_max_size': 10, 'auto_class_weights': 'Balanced', 'subsample': 0.36986116230904154}. Best is trial 29 with value: 0.8753424657534247.\u001B[0m\n",
      "\u001B[32m[I 2021-12-02 14:58:22,982]\u001B[0m Trial 30 finished with value: 0.8698630136986302 and parameters: {'iterations': 100, 'learning_rate': 0.1165743749242269, 'l2_leaf_reg': 1.0375927713977488e-07, 'bootstrap_type': 'MVS', 'random_strength': 6, 'max_bin': 5, 'max_depth': 4, 'grow_policy': 'Depthwise', 'min_data_in_leaf': 8, 'one_hot_max_size': 5, 'auto_class_weights': 'Balanced', 'subsample': 0.3429015351008062}. Best is trial 29 with value: 0.8753424657534247.\u001B[0m\n",
      "\u001B[32m[I 2021-12-02 14:58:24,818]\u001B[0m Trial 31 finished with value: 0.8616438356164383 and parameters: {'iterations': 100, 'learning_rate': 0.06483706968980552, 'l2_leaf_reg': 1.5277481616233208e-07, 'bootstrap_type': 'MVS', 'random_strength': 5, 'max_bin': 8, 'max_depth': 2, 'grow_policy': 'Depthwise', 'min_data_in_leaf': 7, 'one_hot_max_size': 10, 'auto_class_weights': 'Balanced', 'subsample': 0.4263991936813522}. Best is trial 29 with value: 0.8753424657534247.\u001B[0m\n",
      "\u001B[32m[I 2021-12-02 14:58:26,168]\u001B[0m Trial 32 finished with value: 0.8561643835616438 and parameters: {'iterations': 100, 'learning_rate': 0.09099228202229512, 'l2_leaf_reg': 3.939691273452742e-06, 'bootstrap_type': 'MVS', 'random_strength': 5, 'max_bin': 8, 'max_depth': 2, 'grow_policy': 'Depthwise', 'min_data_in_leaf': 6, 'one_hot_max_size': 10, 'auto_class_weights': 'Balanced', 'subsample': 0.18089123881983551}. Best is trial 29 with value: 0.8753424657534247.\u001B[0m\n",
      "\u001B[32m[I 2021-12-02 14:58:34,436]\u001B[0m Trial 33 finished with value: 0.8767123287671232 and parameters: {'iterations': 300, 'learning_rate': 0.04922586124412725, 'l2_leaf_reg': 1.7549284900699275e-05, 'bootstrap_type': 'MVS', 'random_strength': 4, 'max_bin': 8, 'max_depth': 3, 'grow_policy': 'Depthwise', 'min_data_in_leaf': 8, 'one_hot_max_size': 10, 'auto_class_weights': 'Balanced', 'subsample': 0.6141662871526945}. Best is trial 33 with value: 0.8767123287671232.\u001B[0m\n",
      "\u001B[32m[I 2021-12-02 14:58:43,662]\u001B[0m Trial 34 finished with value: 0.8684931506849315 and parameters: {'iterations': 300, 'learning_rate': 0.023890327440521664, 'l2_leaf_reg': 2.1843093087213197e-05, 'bootstrap_type': 'MVS', 'random_strength': 4, 'max_bin': 30, 'max_depth': 3, 'grow_policy': 'Depthwise', 'min_data_in_leaf': 9, 'one_hot_max_size': 10, 'auto_class_weights': 'Balanced', 'subsample': 0.8055280761488349}. Best is trial 33 with value: 0.8767123287671232.\u001B[0m\n",
      "\u001B[32m[I 2021-12-02 14:58:52,108]\u001B[0m Trial 35 finished with value: 0.8589041095890411 and parameters: {'iterations': 300, 'learning_rate': 0.05076516876263065, 'l2_leaf_reg': 0.0006833978608870266, 'bootstrap_type': 'MVS', 'random_strength': 6, 'max_bin': 6, 'max_depth': 6, 'grow_policy': 'Depthwise', 'min_data_in_leaf': 8, 'one_hot_max_size': 10, 'auto_class_weights': 'Balanced', 'subsample': 0.39985622728219555}. Best is trial 33 with value: 0.8767123287671232.\u001B[0m\n",
      "\u001B[32m[I 2021-12-02 14:58:57,947]\u001B[0m Trial 36 finished with value: 0.7465753424657534 and parameters: {'iterations': 300, 'learning_rate': 0.11196535907362012, 'l2_leaf_reg': 4.507384703379234e-08, 'bootstrap_type': 'MVS', 'random_strength': 4, 'max_bin': 20, 'max_depth': 3, 'grow_policy': 'Lossguide', 'min_data_in_leaf': 9, 'one_hot_max_size': 5, 'auto_class_weights': 'SqrtBalanced', 'subsample': 0.2418085998333028}. Best is trial 33 with value: 0.8767123287671232.\u001B[0m\n",
      "\u001B[32m[I 2021-12-02 14:59:07,537]\u001B[0m Trial 37 finished with value: 0.8684931506849315 and parameters: {'iterations': 300, 'learning_rate': 0.0461397374130759, 'l2_leaf_reg': 0.00033989342559841254, 'bootstrap_type': 'Bernoulli', 'random_strength': 2, 'max_bin': 4, 'max_depth': 4, 'grow_policy': 'Depthwise', 'min_data_in_leaf': 8, 'one_hot_max_size': 10, 'auto_class_weights': 'Balanced', 'subsample': 0.4917070898178908}. Best is trial 33 with value: 0.8767123287671232.\u001B[0m\n",
      "\u001B[32m[I 2021-12-02 14:59:10,414]\u001B[0m Trial 38 finished with value: 0.7191780821917808 and parameters: {'iterations': 100, 'learning_rate': 0.13770343258143153, 'l2_leaf_reg': 2.21249728716297e-06, 'bootstrap_type': 'MVS', 'random_strength': 9, 'max_bin': 8, 'max_depth': 3, 'grow_policy': 'Depthwise', 'min_data_in_leaf': 7, 'one_hot_max_size': 100, 'auto_class_weights': 'SqrtBalanced', 'subsample': 0.7594400327720217}. Best is trial 33 with value: 0.8767123287671232.\u001B[0m\n",
      "\u001B[32m[I 2021-12-02 14:59:30,994]\u001B[0m Trial 39 finished with value: 0.8547945205479452 and parameters: {'iterations': 300, 'learning_rate': 0.0866824847931506, 'l2_leaf_reg': 0.009739160185374348, 'bootstrap_type': 'Bernoulli', 'random_strength': 7, 'max_bin': 10, 'max_depth': 6, 'grow_policy': 'Lossguide', 'min_data_in_leaf': 9, 'one_hot_max_size': 10, 'auto_class_weights': 'Balanced', 'subsample': 0.6232427014142563}. Best is trial 33 with value: 0.8767123287671232.\u001B[0m\n",
      "\u001B[32m[I 2021-12-02 14:59:37,782]\u001B[0m Trial 40 finished with value: 0.6301369863013698 and parameters: {'iterations': 100, 'learning_rate': 0.017870281671863268, 'l2_leaf_reg': 1.2787271454268441e-05, 'bootstrap_type': 'MVS', 'random_strength': 6, 'max_bin': 8, 'max_depth': 9, 'grow_policy': 'SymmetricTree', 'min_data_in_leaf': 5, 'one_hot_max_size': 5, 'auto_class_weights': 'SqrtBalanced', 'subsample': 0.5127305502852466}. Best is trial 33 with value: 0.8767123287671232.\u001B[0m\n",
      "\u001B[32m[I 2021-12-02 14:59:46,315]\u001B[0m Trial 41 finished with value: 0.8753424657534247 and parameters: {'iterations': 500, 'learning_rate': 0.10440887249958494, 'l2_leaf_reg': 3.7917894901167263e-07, 'bootstrap_type': 'MVS', 'random_strength': 5, 'max_bin': 8, 'max_depth': 2, 'grow_policy': 'Depthwise', 'min_data_in_leaf': 6, 'one_hot_max_size': 10, 'auto_class_weights': 'Balanced', 'subsample': 0.6133670784157164}. Best is trial 33 with value: 0.8767123287671232.\u001B[0m\n",
      "\u001B[32m[I 2021-12-02 14:59:51,593]\u001B[0m Trial 42 finished with value: 0.8671232876712329 and parameters: {'iterations': 500, 'learning_rate': 0.14233010753195083, 'l2_leaf_reg': 3.13064098242447e-07, 'bootstrap_type': 'MVS', 'random_strength': 4, 'max_bin': 8, 'max_depth': 3, 'grow_policy': 'Depthwise', 'min_data_in_leaf': 7, 'one_hot_max_size': 10, 'auto_class_weights': 'Balanced', 'subsample': 0.6328035452217675}. Best is trial 33 with value: 0.8767123287671232.\u001B[0m\n",
      "\u001B[32m[I 2021-12-02 15:00:00,772]\u001B[0m Trial 43 finished with value: 0.8698630136986302 and parameters: {'iterations': 300, 'learning_rate': 0.1012292234479382, 'l2_leaf_reg': 7.062027496356406e-08, 'bootstrap_type': 'MVS', 'random_strength': 5, 'max_bin': 8, 'max_depth': 2, 'grow_policy': 'Depthwise', 'min_data_in_leaf': 6, 'one_hot_max_size': 10, 'auto_class_weights': 'Balanced', 'subsample': 0.7316715138613044}. Best is trial 33 with value: 0.8767123287671232.\u001B[0m\n",
      "\u001B[32m[I 2021-12-02 15:00:05,815]\u001B[0m Trial 44 finished with value: 0.8561643835616438 and parameters: {'iterations': 200, 'learning_rate': 0.16960869112295462, 'l2_leaf_reg': 7.479274015546185e-05, 'bootstrap_type': 'MVS', 'random_strength': 3, 'max_bin': 30, 'max_depth': 3, 'grow_policy': 'Depthwise', 'min_data_in_leaf': 8, 'one_hot_max_size': 100, 'auto_class_weights': 'Balanced', 'subsample': 0.5392391777911478}. Best is trial 33 with value: 0.8767123287671232.\u001B[0m\n",
      "\u001B[32m[I 2021-12-02 15:00:14,743]\u001B[0m Trial 45 finished with value: 0.8698630136986302 and parameters: {'iterations': 500, 'learning_rate': 0.060734402943375496, 'l2_leaf_reg': 2.9882012907495826e-08, 'bootstrap_type': 'Bernoulli', 'random_strength': 6, 'max_bin': 4, 'max_depth': 3, 'grow_policy': 'SymmetricTree', 'min_data_in_leaf': 5, 'one_hot_max_size': 10, 'auto_class_weights': 'Balanced', 'subsample': 0.3769893973669848}. Best is trial 33 with value: 0.8767123287671232.\u001B[0m\n",
      "\u001B[32m[I 2021-12-02 15:00:23,762]\u001B[0m Trial 46 finished with value: 0.8575342465753425 and parameters: {'iterations': 100, 'learning_rate': 0.10951898386690888, 'l2_leaf_reg': 13.833888654433872, 'bootstrap_type': 'Bayesian', 'random_strength': 4, 'max_bin': 8, 'max_depth': 5, 'grow_policy': 'Depthwise', 'min_data_in_leaf': 7, 'one_hot_max_size': 10, 'auto_class_weights': 'Balanced', 'bagging_temperature': 7.312912181192969}. Best is trial 33 with value: 0.8767123287671232.\u001B[0m\n",
      "\u001B[32m[I 2021-12-02 15:00:38,448]\u001B[0m Trial 47 finished with value: 0.6986301369863014 and parameters: {'iterations': 300, 'learning_rate': 0.03291500255835593, 'l2_leaf_reg': 1.3969312470752943e-06, 'bootstrap_type': 'MVS', 'random_strength': 5, 'max_bin': 5, 'max_depth': 2, 'grow_policy': 'Lossguide', 'min_data_in_leaf': 3, 'one_hot_max_size': 12, 'auto_class_weights': 'SqrtBalanced', 'subsample': 0.455046317292789}. Best is trial 33 with value: 0.8767123287671232.\u001B[0m\n",
      "\u001B[32m[I 2021-12-02 15:00:52,462]\u001B[0m Trial 48 finished with value: 0.873972602739726 and parameters: {'iterations': 200, 'learning_rate': 0.09025787759796428, 'l2_leaf_reg': 0.25210883123286376, 'bootstrap_type': 'Bayesian', 'random_strength': 3, 'max_bin': 20, 'max_depth': 4, 'grow_policy': 'SymmetricTree', 'min_data_in_leaf': 9, 'one_hot_max_size': 100, 'auto_class_weights': 'Balanced', 'bagging_temperature': 2.1693907264099788}. Best is trial 33 with value: 0.8767123287671232.\u001B[0m\n",
      "\u001B[32m[I 2021-12-02 15:01:00,484]\u001B[0m Trial 49 finished with value: 0.8767123287671232 and parameters: {'iterations': 200, 'learning_rate': 0.09204667369888539, 'l2_leaf_reg': 73.57005892792876, 'bootstrap_type': 'Bayesian', 'random_strength': 2, 'max_bin': 20, 'max_depth': 4, 'grow_policy': 'SymmetricTree', 'min_data_in_leaf': 9, 'one_hot_max_size': 100, 'auto_class_weights': 'Balanced', 'bagging_temperature': 1.9705193818021896}. Best is trial 33 with value: 0.8767123287671232.\u001B[0m\n",
      "\u001B[32m[I 2021-12-02 15:01:10,105]\u001B[0m Trial 50 finished with value: 0.8684931506849315 and parameters: {'iterations': 200, 'learning_rate': 0.09821518602522429, 'l2_leaf_reg': 0.4246935206639449, 'bootstrap_type': 'Bayesian', 'random_strength': 2, 'max_bin': 20, 'max_depth': 4, 'grow_policy': 'SymmetricTree', 'min_data_in_leaf': 10, 'one_hot_max_size': 100, 'auto_class_weights': 'Balanced', 'bagging_temperature': 1.6017384368643885}. Best is trial 33 with value: 0.8767123287671232.\u001B[0m\n",
      "\u001B[32m[I 2021-12-02 15:01:24,024]\u001B[0m Trial 51 finished with value: 0.8616438356164383 and parameters: {'iterations': 200, 'learning_rate': 0.08263108063056074, 'l2_leaf_reg': 98.0426358363923, 'bootstrap_type': 'Bayesian', 'random_strength': 3, 'max_bin': 20, 'max_depth': 8, 'grow_policy': 'SymmetricTree', 'min_data_in_leaf': 9, 'one_hot_max_size': 100, 'auto_class_weights': 'Balanced', 'bagging_temperature': 2.261531777130588}. Best is trial 33 with value: 0.8767123287671232.\u001B[0m\n",
      "\u001B[32m[I 2021-12-02 15:01:32,404]\u001B[0m Trial 52 finished with value: 0.852054794520548 and parameters: {'iterations': 200, 'learning_rate': 0.12657023767673847, 'l2_leaf_reg': 16.635943537526657, 'bootstrap_type': 'Bayesian', 'random_strength': 2, 'max_bin': 20, 'max_depth': 6, 'grow_policy': 'SymmetricTree', 'min_data_in_leaf': 10, 'one_hot_max_size': 100, 'auto_class_weights': 'Balanced', 'bagging_temperature': 4.435320020695985}. Best is trial 33 with value: 0.8767123287671232.\u001B[0m\n",
      "\u001B[32m[I 2021-12-02 15:01:38,190]\u001B[0m Trial 53 finished with value: 0.8602739726027397 and parameters: {'iterations': 200, 'learning_rate': 0.14849420509035127, 'l2_leaf_reg': 1.7766137406597609, 'bootstrap_type': 'Bayesian', 'random_strength': 3, 'max_bin': 20, 'max_depth': 5, 'grow_policy': 'SymmetricTree', 'min_data_in_leaf': 9, 'one_hot_max_size': 100, 'auto_class_weights': 'Balanced', 'bagging_temperature': 3.8042917884346483}. Best is trial 33 with value: 0.8767123287671232.\u001B[0m\n",
      "\u001B[32m[I 2021-12-02 15:01:43,235]\u001B[0m Trial 54 finished with value: 0.8643835616438356 and parameters: {'iterations': 200, 'learning_rate': 0.11976867253475305, 'l2_leaf_reg': 0.18880463039683568, 'bootstrap_type': 'Bayesian', 'random_strength': 3, 'max_bin': 20, 'max_depth': 4, 'grow_policy': 'SymmetricTree', 'min_data_in_leaf': 9, 'one_hot_max_size': 100, 'auto_class_weights': 'Balanced', 'bagging_temperature': 1.5967870704974625}. Best is trial 33 with value: 0.8767123287671232.\u001B[0m\n",
      "\u001B[32m[I 2021-12-02 15:01:46,919]\u001B[0m Trial 55 finished with value: 0.873972602739726 and parameters: {'iterations': 200, 'learning_rate': 0.18770044119773976, 'l2_leaf_reg': 34.53857661943376, 'bootstrap_type': 'Bayesian', 'random_strength': 2, 'max_bin': 20, 'max_depth': 5, 'grow_policy': 'SymmetricTree', 'min_data_in_leaf': 1, 'one_hot_max_size': 100, 'auto_class_weights': 'Balanced', 'bagging_temperature': 1.7623371614978343}. Best is trial 33 with value: 0.8767123287671232.\u001B[0m\n",
      "\u001B[32m[I 2021-12-02 15:01:51,578]\u001B[0m Trial 56 finished with value: 0.8643835616438356 and parameters: {'iterations': 200, 'learning_rate': 0.18648057842206192, 'l2_leaf_reg': 18.12797516292292, 'bootstrap_type': 'Bayesian', 'random_strength': 1, 'max_bin': 20, 'max_depth': 4, 'grow_policy': 'SymmetricTree', 'min_data_in_leaf': 8, 'one_hot_max_size': 100, 'auto_class_weights': 'Balanced', 'bagging_temperature': 1.4323998936280242}. Best is trial 33 with value: 0.8767123287671232.\u001B[0m\n",
      "\u001B[32m[I 2021-12-02 15:01:56,826]\u001B[0m Trial 57 finished with value: 0.7452054794520548 and parameters: {'iterations': 200, 'learning_rate': 0.1608300123137278, 'l2_leaf_reg': 34.55107230592039, 'bootstrap_type': 'Bayesian', 'random_strength': 2, 'max_bin': 20, 'max_depth': 3, 'grow_policy': 'SymmetricTree', 'min_data_in_leaf': 1, 'one_hot_max_size': 100, 'auto_class_weights': 'SqrtBalanced', 'bagging_temperature': 2.0783307456744016}. Best is trial 33 with value: 0.8767123287671232.\u001B[0m\n",
      "\u001B[32m[I 2021-12-02 15:02:05,913]\u001B[0m Trial 58 finished with value: 0.8438356164383561 and parameters: {'iterations': 200, 'learning_rate': 0.20837447691523447, 'l2_leaf_reg': 6.69158004096587, 'bootstrap_type': 'Bayesian', 'random_strength': 2, 'max_bin': 20, 'max_depth': 10, 'grow_policy': 'SymmetricTree', 'min_data_in_leaf': 10, 'one_hot_max_size': 100, 'auto_class_weights': 'Balanced', 'bagging_temperature': 0.9988678968272637}. Best is trial 33 with value: 0.8767123287671232.\u001B[0m\n",
      "\u001B[32m[I 2021-12-02 15:02:11,672]\u001B[0m Trial 59 finished with value: 0.8712328767123287 and parameters: {'iterations': 1000, 'learning_rate': 0.10418838183126478, 'l2_leaf_reg': 0.021791427842424143, 'bootstrap_type': 'Bayesian', 'random_strength': 1, 'max_bin': 20, 'max_depth': 5, 'grow_policy': 'SymmetricTree', 'min_data_in_leaf': 2, 'one_hot_max_size': 100, 'auto_class_weights': 'Balanced', 'bagging_temperature': 4.326112367750785}. Best is trial 33 with value: 0.8767123287671232.\u001B[0m\n",
      "\u001B[32m[I 2021-12-02 15:02:13,678]\u001B[0m Trial 60 finished with value: 0.8479452054794521 and parameters: {'iterations': 200, 'learning_rate': 0.23621057802142126, 'l2_leaf_reg': 0.4686805161672787, 'bootstrap_type': 'Bayesian', 'random_strength': 3, 'max_bin': 10, 'max_depth': 7, 'grow_policy': 'SymmetricTree', 'min_data_in_leaf': 2, 'one_hot_max_size': 100, 'auto_class_weights': 'Balanced', 'bagging_temperature': 5.53024463263009}. Best is trial 33 with value: 0.8767123287671232.\u001B[0m\n",
      "\u001B[32m[I 2021-12-02 15:02:23,148]\u001B[0m Trial 61 finished with value: 0.8643835616438356 and parameters: {'iterations': 200, 'learning_rate': 0.1786012634767703, 'l2_leaf_reg': 3.8643699547426924, 'bootstrap_type': 'Bayesian', 'random_strength': 3, 'max_bin': 6, 'max_depth': 3, 'grow_policy': 'Lossguide', 'min_data_in_leaf': 8, 'one_hot_max_size': 12, 'auto_class_weights': 'Balanced', 'bagging_temperature': 2.632435340403025}. Best is trial 33 with value: 0.8767123287671232.\u001B[0m\n",
      "\u001B[32m[I 2021-12-02 15:02:29,982]\u001B[0m Trial 62 finished with value: 0.8712328767123287 and parameters: {'iterations': 200, 'learning_rate': 0.07696824086608908, 'l2_leaf_reg': 41.81904013629357, 'bootstrap_type': 'Bayesian', 'random_strength': 4, 'max_bin': 20, 'max_depth': 5, 'grow_policy': 'SymmetricTree', 'min_data_in_leaf': 9, 'one_hot_max_size': 12, 'auto_class_weights': 'Balanced', 'bagging_temperature': 3.2945698162092683}. Best is trial 33 with value: 0.8767123287671232.\u001B[0m\n",
      "\u001B[32m[I 2021-12-02 15:02:40,520]\u001B[0m Trial 63 finished with value: 0.8712328767123287 and parameters: {'iterations': 300, 'learning_rate': 0.04011167506192187, 'l2_leaf_reg': 91.65903518298106, 'bootstrap_type': 'Bayesian', 'random_strength': 10, 'max_bin': 30, 'max_depth': 6, 'grow_policy': 'SymmetricTree', 'min_data_in_leaf': 8, 'one_hot_max_size': 100, 'auto_class_weights': 'Balanced', 'bagging_temperature': 1.003090453617611}. Best is trial 33 with value: 0.8767123287671232.\u001B[0m\n",
      "\u001B[32m[I 2021-12-02 15:02:54,358]\u001B[0m Trial 64 finished with value: 0.873972602739726 and parameters: {'iterations': 1000, 'learning_rate': 0.06758692908935153, 'l2_leaf_reg': 8.62727851891395, 'bootstrap_type': 'Bayesian', 'random_strength': 2, 'max_bin': 4, 'max_depth': 2, 'grow_policy': 'Lossguide', 'min_data_in_leaf': 7, 'one_hot_max_size': 12, 'auto_class_weights': 'Balanced', 'bagging_temperature': 4.0098914100938305}. Best is trial 33 with value: 0.8767123287671232.\u001B[0m\n",
      "\u001B[32m[I 2021-12-02 15:03:19,268]\u001B[0m Trial 65 finished with value: 0.8698630136986302 and parameters: {'iterations': 1000, 'learning_rate': 0.07020484408351195, 'l2_leaf_reg': 9.243971246457848, 'bootstrap_type': 'Bayesian', 'random_strength': 2, 'max_bin': 4, 'max_depth': 2, 'grow_policy': 'Lossguide', 'min_data_in_leaf': 7, 'one_hot_max_size': 100, 'auto_class_weights': 'Balanced', 'bagging_temperature': 4.319950654617612}. Best is trial 33 with value: 0.8767123287671232.\u001B[0m\n",
      "\u001B[32m[I 2021-12-02 15:03:25,821]\u001B[0m Trial 66 finished with value: 0.8657534246575342 and parameters: {'iterations': 1000, 'learning_rate': 0.08775718143851621, 'l2_leaf_reg': 0.0026763455820354226, 'bootstrap_type': 'Bernoulli', 'random_strength': 1, 'max_bin': 4, 'max_depth': 2, 'grow_policy': 'SymmetricTree', 'min_data_in_leaf': 8, 'one_hot_max_size': 12, 'auto_class_weights': 'Balanced', 'subsample': 0.8386531480849306}. Best is trial 33 with value: 0.8767123287671232.\u001B[0m\n",
      "\u001B[32m[I 2021-12-02 15:03:29,198]\u001B[0m Trial 67 finished with value: 0.8712328767123287 and parameters: {'iterations': 1000, 'learning_rate': 0.22322572398176782, 'l2_leaf_reg': 28.6473362040279, 'bootstrap_type': 'Bayesian', 'random_strength': 2, 'max_bin': 4, 'max_depth': 4, 'grow_policy': 'SymmetricTree', 'min_data_in_leaf': 7, 'one_hot_max_size': 100, 'auto_class_weights': 'Balanced', 'bagging_temperature': 0.8517921664484476}. Best is trial 33 with value: 0.8767123287671232.\u001B[0m\n"
     ]
    },
    {
     "name": "stdout",
     "output_type": "stream",
     "text": [
      "Number of finished trials: 68\n",
      "Best trial:\n",
      "  Value: 0.8767123287671232\n",
      "  Params: \n",
      "    iterations: 300\n",
      "    learning_rate: 0.04922586124412725\n",
      "    l2_leaf_reg: 1.7549284900699275e-05\n",
      "    bootstrap_type: MVS\n",
      "    random_strength: 4\n",
      "    max_bin: 8\n",
      "    max_depth: 3\n",
      "    grow_policy: Depthwise\n",
      "    min_data_in_leaf: 8\n",
      "    one_hot_max_size: 10\n",
      "    auto_class_weights: Balanced\n",
      "    subsample: 0.6141662871526945\n"
     ]
    }
   ],
   "source": [
    "# Instantiate a \"trial\" object and specify we want to MAXIMIZE the value being returned by the obj function\n",
    "study = optuna.create_study(direction=\"maximize\")\n",
    "\n",
    "# Running 100 trials, setting a timeout value of 15 minutes to prevent my computer from exploding.\n",
    "study.optimize(objective, n_trials=100, timeout=900)\n",
    "\n",
    "print(\"Number of finished trials: {}\".format(len(study.trials)))\n",
    "trial = study.best_trial\n",
    "\n",
    "# \"Prettify\" our trial results\n",
    "print(\"Best trial:\")\n",
    "\n",
    "# Print metric value achieved from best trial\n",
    "print(\"  Value: {}\".format(trial.value))\n",
    "\n",
    "# Print all parameters from best trial\n",
    "print(\"  Params: \")\n",
    "for key, value in trial.params.items():\n",
    "    print(\"    {}: {}\".format(key, value))"
   ],
   "metadata": {
    "collapsed": false,
    "pycharm": {
     "name": "#%%\n"
    }
   }
  },
  {
   "cell_type": "code",
   "execution_count": 19,
   "outputs": [
    {
     "data": {
      "text/plain": "<catboost.core.CatBoostClassifier at 0x12a9f1310>"
     },
     "execution_count": 19,
     "metadata": {},
     "output_type": "execute_result"
    }
   ],
   "source": [
    "# Create a model with the parameters from our best trial\n",
    "final_model = CatBoostClassifier(verbose=False, **trial.params)\n",
    "final_model.fit(X_train, y_train)"
   ],
   "metadata": {
    "collapsed": false,
    "pycharm": {
     "name": "#%%\n"
    }
   }
  },
  {
   "cell_type": "code",
   "execution_count": 20,
   "outputs": [
    {
     "name": "stdout",
     "output_type": "stream",
     "text": [
      "Model Results\n",
      "Accuracy: 0.89\n",
      "Precision: 0.44\n",
      "Recall: 0.88\n",
      "F1: 0.59\n",
      "ROC AUC: 0.95\n"
     ]
    }
   ],
   "source": [
    "# Show custom metrics\n",
    "final_results = custom_metric(X_test, y_test, final_model)"
   ],
   "metadata": {
    "collapsed": false,
    "pycharm": {
     "name": "#%%\n"
    }
   }
  },
  {
   "cell_type": "code",
   "execution_count": 21,
   "outputs": [],
   "source": [
    "X_val = pd.read_csv('../Data/val/X_val_alt.csv', index_col=0)\n",
    "y_val = pd.read_csv('../Data/val/y_val_alt.csv', index_col=0)"
   ],
   "metadata": {
    "collapsed": false,
    "pycharm": {
     "name": "#%%\n"
    }
   }
  },
  {
   "cell_type": "code",
   "execution_count": 22,
   "outputs": [
    {
     "name": "stdout",
     "output_type": "stream",
     "text": [
      "Model Results\n",
      "Accuracy: 0.88\n",
      "Precision: 0.43\n",
      "Recall: 0.89\n",
      "F1: 0.58\n",
      "ROC AUC: 0.95\n"
     ]
    },
    {
     "data": {
      "text/plain": "{'Accuracy': 0.8840688107703815,\n 'Precision': 0.43286573146292584,\n 'Recall': 0.8888888888888888,\n 'F1': 0.5822102425876011,\n 'ROCAUC': 0.9540164507484769}"
     },
     "execution_count": 22,
     "metadata": {},
     "output_type": "execute_result"
    }
   ],
   "source": [
    "custom_metric(X_val, y_val, final_model)"
   ],
   "metadata": {
    "collapsed": false,
    "pycharm": {
     "name": "#%%\n"
    }
   }
  },
  {
   "cell_type": "markdown",
   "source": [
    "## Analysis\n",
    "This performs almost the same as the oversampling. It loses 1 point of recall."
   ],
   "metadata": {
    "collapsed": false,
    "pycharm": {
     "name": "#%% md\n"
    }
   }
  },
  {
   "cell_type": "code",
   "execution_count": null,
   "outputs": [],
   "source": [],
   "metadata": {
    "collapsed": false,
    "pycharm": {
     "name": "#%%\n"
    }
   }
  }
 ],
 "metadata": {
  "kernelspec": {
   "display_name": "Python 3",
   "language": "python",
   "name": "python3"
  },
  "language_info": {
   "codemirror_mode": {
    "name": "ipython",
    "version": 2
   },
   "file_extension": ".py",
   "mimetype": "text/x-python",
   "name": "python",
   "nbconvert_exporter": "python",
   "pygments_lexer": "ipython2",
   "version": "2.7.6"
  }
 },
 "nbformat": 4,
 "nbformat_minor": 0
}