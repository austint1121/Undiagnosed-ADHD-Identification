{
 "cells": [
  {
   "cell_type": "markdown",
   "source": [
    "# Introduction\n",
    "\n",
    "ADHD is a developmental disorder associated with an ongoing pattern of inattention, hyperactivity, and/or impulsivity.\n",
    "The symptoms of ADHD can interfere significantly with an individual’s daily activities and relationships.\n",
    "ADHD symptoms begin in childhood [and worsen in the teen years and adulthood](https://www.nimh.nih.gov/health/publications/adhd-what-you-need-to-know#part_6209).\n",
    "\n",
    "People with ADHD experience an ongoing pattern of the following types of symptoms:\n",
    "\n",
    "- Inattention–having difficulty paying attention\n",
    "- Hyperactivity–having too much energy or moving and talking too much\n",
    "- Impulsivity–acting without thinking or having difficulty with self-control\n",
    "\n",
    "Some people with ADHD mainly have symptoms of inattention. Others mostly have symptoms of hyperactivity-impulsivity.\n",
    "Some people have both types of symptoms.\n",
    "\n",
    "ADHD comes in many forms and severities, and teenagers and adults who are undiagnosed often don't even consider they may\n",
    "have ADHD if their symptoms don't perfectly match stereotypes of ADHD in the media."
   ],
   "metadata": {
    "collapsed": false,
    "pycharm": {
     "name": "#%% md\n"
    }
   }
  },
  {
   "cell_type": "markdown",
   "source": [
    "## Problem\n",
    "\n",
    "As established above, Undiagnosed ADHD can be difficult for those with it. But why is it [so common](https://www.singlecare.com/blog/news/adhd-statistics/#adult-adhd-statistics) for ADHD to go undiagnosed?\n",
    "\n",
    "Personally, I think this is a multi-pronged issue:\n",
    "\n",
    "**ADHD is not well understood.**\n",
    "ADHD is still a [subject of heavy research](https://www.cdc.gov/ncbddd/adhd/research.html) in the science/medical field. Currently, we do not know what causes ADHD, but we know there is some genetic component involved. There is no blood test or any kind of empirical way to test for ADHD; it can only be diagnosed through observation of its symptoms.\n",
    "\n",
    "**The way ADHD is Diagnosed.**\n",
    "To be diagnosed with ADHD, you would have to specifically bring it up with your doctor; this means that if you don't suspect you have it, you may never bring it up to your doctor on your own. ADHD is diagnosed by a doctor [asking a series of questions](https://www.cdc.gov/ncbddd/adhd/diagnosis.html) relating to long-term behavioral patterns at home, so it would be difficult for a doctor to notice ADHD symptoms during a regular visit.\n",
    "\n",
    "**The way ADHD is portrayed**\n",
    "People with ADHD are typically portrayed as young kids, who are extremely hyper-active and disobedient. However, hyperactivity is only one component of ADHD, and it expresses itself in various ways. Especially as kids grow older, hyperactivity can [look very different](https://www.nytimes.com/2010/12/14/health/14klass.html) from what is portrayed in media/pop culture. This results in individuals rejecting the idea that they, or someone they know, has ADHD because their symptoms don't look like stereotypical ADHD symptoms.\n",
    "\n",
    "So, is there a solution that can be reliably used that **doesn't require a deep understanding of ADHD**, and could help spread awareness that a person may have ADHD regardless of any **personal** or **societal** bias towards what ADHD looks like?\n",
    "\n",
    "\n",
    "Such a solution would greatly benefit individuals with undiagnosed ADHD, and help push people towards getting a diagnoses. There are lots of \"ADHD self-tests\" on the internet, but they are questionable at best, and misleading at worst. If our hypothetical solution also used **real data** from those diagnosed with ADHD, it would definitely give it more weight as a solution.\n",
    "\n",
    "Where human perception fails, a machine can excel. Machine learning is the perfect solution for this kind of problem. An AI **doesn't need a deep understanding** of a subject to recognize underlying patterns, and **it doesn't care** about any personal bias, or what ADHD \"should\" look like according to society. The nature of machine learning also means it would **need to use real data**, But does a data source like that even exist?"
   ],
   "metadata": {
    "collapsed": false
   }
  },
  {
   "cell_type": "markdown",
   "source": [
    "## Data\n",
    "\n",
    "The [NSCH](https://www.census.gov/programs-surveys/nsch/data/datasets.html) is a household survey that produces national and state-level data on the physical and emotional health of children 0 - 17 years old in the United States. Since 2016, the NSCH has been an annual survey. The survey supports national estimates every year and state-level estimates by combining 2 or 3 years of data. In this project I would primarily look at the 2020 data.\n",
    "\n",
    "The survey collects information related to the health and well-being of children, including access to and use of health care, family interactions, parental health, school and after-school experiences, and neighborhood characteristics. A parent or other adult caregiver with knowledge of the sampled child’s health and health care filled out the topical questionnaire.\n",
    "\n",
    "Survey topics include:\n",
    "- Child and family characteristics\n",
    "- **Physical and mental health status, including current conditions and functional difficulties**\n",
    "- Health insurance status, type, and adequacy\n",
    "- Access and use of health care services\n",
    "- Medical, dental, and specialty care needed and received\n",
    "- Family health and activities\n",
    "- Impact of child’s health on family\n",
    "- Neighborhood characteristics"
   ],
   "metadata": {
    "collapsed": false
   }
  },
  {
   "cell_type": "markdown",
   "metadata": {
    "pycharm": {
     "name": "#%% md\n"
    }
   },
   "source": [
    "## Goal\n",
    "In the NSCH data is a question that asks:\n",
    "- Has a doctor or other health care provider EVER told you that this child has…\n",
    "   Attention Deficit Disorder or Attention-Deficit/Hyperactivity Disorder, that is, ADD or ADHD?\n",
    "\n",
    "For this project, I'm going create a tool that can give the probability that a child from the survey has ADHD, **but is undiagnosed**.\n",
    "\n",
    "One distinction I'd like to make: **This project is not about diagnosing kids with ADHD**. Only a trained medical professional can diagnose someone with ADHD. This project and it's results are about spreading awareness.\n"
   ]
  },
  {
   "cell_type": "markdown",
   "metadata": {
    "pycharm": {
     "name": "#%% md\n"
    }
   },
   "source": [
    "## Exploratory Data Analysis\n",
    "The following section is a shortened version of this [notebook](/Notebooks/EDA.ipynb).\n",
    "\n",
    "Lets investigate and visualize some aspects of our data to help our understanding:\n",
    "\n",
    "- Distribution of kids Diagnosed with ADHD\n",
    "- Distribution of gender/sex among children diagnosed with ADHD\n",
    "- Distribution of race/ethnicity of children diagnosed with ADHD\n",
    "- Age/age groups of kids diagnosed with ADHD"
   ]
  },
  {
   "cell_type": "markdown",
   "metadata": {},
   "source": [
    "\n",
    "### Loading and Exploring the Data\n",
    "Lets first load and explore the data, and confirm its size and shape."
   ]
  },
  {
   "cell_type": "code",
   "execution_count": 2,
   "metadata": {
    "pycharm": {
     "name": "#%%\n"
    }
   },
   "outputs": [],
   "source": [
    "# Import statements\n",
    "import pandas as pd\n",
    "import matplotlib.pyplot as plt\n",
    "import seaborn as sns\n",
    "\n",
    "# Setting Seaborn's visual style\n",
    "sns.set_style('white')"
   ]
  },
  {
   "cell_type": "code",
   "execution_count": 3,
   "metadata": {
    "pycharm": {
     "name": "#%%\n"
    }
   },
   "outputs": [
    {
     "name": "stderr",
     "output_type": "stream",
     "text": [
      "/Users/matthewturner/opt/anaconda3/envs/Capstone/lib/python3.9/site-packages/pandas/io/sas/sas7bdat.py:800: PerformanceWarning: DataFrame is highly fragmented.  This is usually the result of calling `frame.insert` many times, which has poor performance.  Consider joining all columns at once using pd.concat(axis=1) instead.  To get a de-fragmented frame, use `newframe = frame.copy()`\n",
      "  rslt[name] = self._byte_chunk[jb, :].view(dtype=self.byte_order + \"d\")\n"
     ]
    }
   ],
   "source": [
    "# Loading data into pandas dateframe\n",
    "nsch20 = pd.read_sas('../Data/nsch_2020_topical_SAS/nsch_2020_topical.sas7bdat')\n",
    "# Joining all the data into one frame, keeping ONLY the columns that are present in all frames.\n",
    "nsch19 = pd.read_sas('../Data/nsch_2019_topical_SAS/nsch_2019_topical.sas7bdat')\n",
    "nsch18 = pd.read_sas('../Data/nsch_2018_topical_SAS/nsch_2018_topical.sas7bdat')\n",
    "nsch = pd.concat([nsch20, nsch19, nsch18], join='inner', ignore_index=True)"
   ]
  },
  {
   "cell_type": "markdown",
   "metadata": {
    "pycharm": {
     "name": "#%% md\n"
    }
   },
   "source": [
    "### Data Shape"
   ]
  },
  {
   "cell_type": "code",
   "execution_count": 4,
   "metadata": {
    "pycharm": {
     "name": "#%%\n"
    }
   },
   "outputs": [
    {
     "name": "stdout",
     "output_type": "stream",
     "text": [
      "There are 102740 completed surveys\n",
      "There are 428 questions in the survey\n"
     ]
    }
   ],
   "source": [
    "# Getting shape of data frame and assigning to variables\n",
    "total_rows, total_columns = nsch.shape\n",
    "\n",
    "print(f'There are {total_rows} completed surveys')\n",
    "print(f'There are {total_columns} questions in the survey')"
   ]
  },
  {
   "cell_type": "markdown",
   "metadata": {
    "pycharm": {
     "name": "#%% md\n"
    }
   },
   "source": [
    "The [Methodology Report](https://www2.census.gov/programs-surveys/nsch/technical-documentation/methodology/2020-NSCH-Methodology-Report.pdf) for this survey states that they ***reached out to 240,000 house holds, and 93,000 completed a screener survey**.\n",
    "\n",
    "They also state that **of those 93,000 households, 51,107 are included in the public use file**, however, of the 51,107 households **only 42,777 submitted a complete survey**. So our numbers match up with what is in the report."
   ]
  },
  {
   "cell_type": "markdown",
   "metadata": {},
   "source": [
    "### ADHD Distribution\n",
    "\n",
    "Our target column for prediction will be \"K2Q31B\", which says:\n",
    "\n",
    "\n",
    "> \"Does this child CURRENTLY have Attention Deficit Disorder or Attention-Deficit/Hyperactivity Disorder\n",
    "\n",
    "Lets visualize its distribution."
   ]
  },
  {
   "cell_type": "code",
   "execution_count": 5,
   "outputs": [
    {
     "data": {
      "text/plain": "2.0    93415\n1.0     9325\nName: K2Q31B, dtype: int64"
     },
     "execution_count": 5,
     "metadata": {},
     "output_type": "execute_result"
    }
   ],
   "source": [
    "nsch['K2Q31B'].isna().value_counts()\n",
    "replaced_nan = nsch['K2Q31B'].fillna(2)\n",
    "replaced_nan.value_counts()"
   ],
   "metadata": {
    "collapsed": false,
    "pycharm": {
     "name": "#%%\n"
    }
   }
  },
  {
   "cell_type": "code",
   "execution_count": 6,
   "metadata": {
    "pycharm": {
     "name": "#%%\n"
    }
   },
   "outputs": [
    {
     "name": "stderr",
     "output_type": "stream",
     "text": [
      "/Users/matthewturner/opt/anaconda3/envs/Capstone/lib/python3.9/site-packages/seaborn/_decorators.py:36: FutureWarning: Pass the following variable as a keyword arg: x. From version 0.12, the only valid positional argument will be `data`, and passing other arguments without an explicit keyword will result in an error or misinterpretation.\n",
      "  warnings.warn(\n"
     ]
    },
    {
     "name": "stdout",
     "output_type": "stream",
     "text": [
      "91% of kids in this sample have not been diagnosed ADHD.\n",
      "9% of kids in this sample have been diagnosed ADHD.\n"
     ]
    },
    {
     "data": {
      "text/plain": "<Figure size 576x432 with 1 Axes>",
      "image/png": "[encoded data removed]"
     },
     "metadata": {},
     "output_type": "display_data"
    }
   ],
   "source": [
    "# Replacing numbers with words for easier plotting\n",
    "adhd_yn = replaced_nan.replace({1: 'Yes', 2: 'No'})\n",
    "\n",
    "# Plotting\n",
    "fig, ax = plt.subplots(figsize=(8, 6))\n",
    "adhd_figure = sns.countplot(adhd_yn, ax=ax, edgecolor='black', order=['Yes', 'No'])\n",
    "plt.suptitle('Has a doctor diagnosed the child with ADHD?')\n",
    "adhd_figure.set(xlabel='Response')\n",
    "\n",
    "\n",
    "# Percentages of kids with ADHD\n",
    "no_adhd_p, yes_adhd_p = adhd_yn.value_counts(normalize=True)\n",
    "\n",
    "print(f'{no_adhd_p*100:.0f}% of kids in this sample have not been diagnosed ADHD.')\n",
    "print(f'{yes_adhd_p*100:.0f}% of kids in this sample have been diagnosed ADHD.')\n"
   ]
  },
  {
   "cell_type": "markdown",
   "metadata": {},
   "source": [
    "#### Analysis\n",
    "It is hard to try and compare this to an overall estimate of ADHD among the overall population, since most studies use this survey as a basis for estimation. It is important to note that kids with special health care needs have been super-sampled when the data was collected. The actual population of kids diagnosed with ADHD, most likely, does not look like this. We have an incredibly small amount of kida actually diagnosed with ADHD, and this lack of data may prove a challenge later when modeling.\n",
    "\n",
    "Now that we have this information, let's look into these 9325 kids and look at some relationships between other columns"
   ]
  },
  {
   "cell_type": "markdown",
   "metadata": {},
   "source": [
    "### ADHD Diagnoses and Gender\n",
    "Lets investigate the relationship between a child's sex and ADHD diagnoses"
   ]
  },
  {
   "cell_type": "code",
   "execution_count": 7,
   "metadata": {
    "pycharm": {
     "name": "#%%\n"
    }
   },
   "outputs": [
    {
     "name": "stderr",
     "output_type": "stream",
     "text": [
      "/var/folders/y8/vq429chs6djb0hl0y0zp5fg00000gn/T/ipykernel_90684/1265693889.py:5: SettingWithCopyWarning: \n",
      "A value is trying to be set on a copy of a slice from a DataFrame.\n",
      "Try using .loc[row_indexer,col_indexer] = value instead\n",
      "\n",
      "See the caveats in the documentation: https://pandas.pydata.org/pandas-docs/stable/user_guide/indexing.html#returning-a-view-versus-a-copy\n",
      "  adhd_df['SC_SEX'] = adhd_df['SC_SEX'].replace({1: 'Male', 2: 'Female'})\n",
      "/Users/matthewturner/opt/anaconda3/envs/Capstone/lib/python3.9/site-packages/seaborn/_decorators.py:36: FutureWarning: Pass the following variable as a keyword arg: x. From version 0.12, the only valid positional argument will be `data`, and passing other arguments without an explicit keyword will result in an error or misinterpretation.\n",
      "  warnings.warn(\n"
     ]
    },
    {
     "data": {
      "text/plain": "<Figure size 576x432 with 1 Axes>",
      "image/png": "[encoded data removed]"
     },
     "metadata": {},
     "output_type": "display_data"
    }
   ],
   "source": [
    "# Grab a dataframe with only ADHD diagnosed kids\n",
    "adhd_df = nsch[nsch['K2Q31B'] == 1]\n",
    "\n",
    "# Replace numbers with \"Male\" and \"Female\" for easier plotting\n",
    "adhd_df['SC_SEX'] = adhd_df['SC_SEX'].replace({1: 'Male', 2: 'Female'})\n",
    "\n",
    "# Plotting\n",
    "sex_fig, sex_ax = plt.subplots(figsize=(8, 6))\n",
    "adhd_sex_figure = sns.countplot(adhd_df['SC_SEX'], ax=sex_ax, edgecolor='black', order=['Male', 'Female'])\n",
    "plt.suptitle('Sex of Kids Diagnosed with ADHD')\n",
    "adhd_sex_figure.set(xlabel='Sex');"
   ]
  },
  {
   "cell_type": "code",
   "execution_count": 8,
   "metadata": {
    "pycharm": {
     "name": "#%%\n"
    }
   },
   "outputs": [
    {
     "name": "stdout",
     "output_type": "stream",
     "text": [
      " Of all the kids with ADHD in our sample 69% are male, and 31% are female\n"
     ]
    }
   ],
   "source": [
    "# Get normalized value counts of Sex\n",
    "male_p, female_p = adhd_df['SC_SEX'].value_counts(normalize=True)\n",
    "\n",
    "# Print percentages rounded to the nearest whole number.\n",
    "print(f' Of all the kids with ADHD in our sample {male_p*100:.0f}% are male, and {female_p*100:.0f}% are female')"
   ]
  },
  {
   "cell_type": "markdown",
   "metadata": {},
   "source": [
    "### Analysis\n",
    "These results match up with the Census Bueraus findings that males are more likley to be diagnosed with ADHD then females are. ADHD and sex is a subject of ongoing research, and I highly suggest reading [this](https://www.ncbi.nlm.nih.gov/pmc/articles/PMC6923191/) study on the subject matter for an in-depth look on the matter."
   ]
  },
  {
   "cell_type": "markdown",
   "metadata": {},
   "source": [
    "### ADHD and Age\n",
    "Now to investigate the ages of those with ADHD."
   ]
  },
  {
   "cell_type": "code",
   "execution_count": 9,
   "metadata": {
    "pycharm": {
     "name": "#%%\n"
    }
   },
   "outputs": [
    {
     "name": "stderr",
     "output_type": "stream",
     "text": [
      "/var/folders/y8/vq429chs6djb0hl0y0zp5fg00000gn/T/ipykernel_90684/2208899985.py:2: SettingWithCopyWarning: \n",
      "A value is trying to be set on a copy of a slice from a DataFrame.\n",
      "Try using .loc[row_indexer,col_indexer] = value instead\n",
      "\n",
      "See the caveats in the documentation: https://pandas.pydata.org/pandas-docs/stable/user_guide/indexing.html#returning-a-view-versus-a-copy\n",
      "  adhd_df['FORMTYPE'] = adhd_df['FORMTYPE'].astype('str').replace({\"b'T1'\": 'Group 1 (0-5)', \"b'T2'\": 'Group 2 (6-11)', \"b'T3'\": 'Group 3 (12-17)'})\n"
     ]
    },
    {
     "data": {
      "text/plain": "<Figure size 1296x720 with 2 Axes>",
      "image/png": "[encoded data removed]"
     },
     "metadata": {},
     "output_type": "display_data"
    }
   ],
   "source": [
    "# Replacing formtype category names for more readable graphs\n",
    "adhd_df['FORMTYPE'] = adhd_df['FORMTYPE'].astype('str').replace({\"b'T1'\": 'Group 1 (0-5)', \"b'T2'\": 'Group 2 (6-11)', \"b'T3'\": 'Group 3 (12-17)'})\n",
    "nsch['FORMTYPE'] = nsch['FORMTYPE'].astype('str').replace({\"b'T1'\": 'Group 1 (0-5)', \"b'T2'\": 'Group 2 (6-11)', \"b'T3'\": 'Group 3 (12-17)'})\n",
    "\n",
    "# Set figure and axis\n",
    "agefig, (ageax, realax) = plt.subplots(1, 2, figsize=(18, 10))\n",
    "\n",
    "# Plot figure with 18 bins (ages go from 1-17) with an extra bin for aesthetic reasons\n",
    "age_figure = sns.histplot(data=adhd_df, x='SC_AGE_YEARS', ax=ageax, bins=18, hue='FORMTYPE', hue_order=['Group 1 (0-5)', 'Group 2 (6-11)', 'Group 3 (12-17)'])\n",
    "real_figure = sns.histplot(data=nsch, x='SC_AGE_YEARS', ax=realax, bins=18, hue='FORMTYPE', hue_order=['Group 1 (0-5)', 'Group 2 (6-11)', 'Group 3 (12-17)'])\n",
    "\n",
    "# Setting labels, title, and ticks.\n",
    "age_figure.set(title='Ages of Kids Diagnosed with ADHD', xlabel='Age', xticks=list(range(1, 17)))\n",
    "real_figure.set(title='Ages of All Kids in Sample', xlabel='Age', xticks=list(range(1, 17)));\n"
   ]
  },
  {
   "cell_type": "markdown",
   "metadata": {},
   "source": [
    "#### Analysis\n",
    "The above graphs make sense to me in context of our data, ADHD is more easily noticeable as children are asked to perform more complex tasks in school. Though it will be important to remember that the resulting model will have a harder time with children in group 1 since there are far less of them."
   ]
  },
  {
   "cell_type": "markdown",
   "metadata": {},
   "source": [
    "### Racial Distribution of ADHD Diagnoses"
   ]
  },
  {
   "cell_type": "code",
   "execution_count": 10,
   "metadata": {
    "pycharm": {
     "name": "#%%\n"
    }
   },
   "outputs": [
    {
     "name": "stderr",
     "output_type": "stream",
     "text": [
      "/var/folders/y8/vq429chs6djb0hl0y0zp5fg00000gn/T/ipykernel_90684/2429262919.py:2: SettingWithCopyWarning: \n",
      "A value is trying to be set on a copy of a slice from a DataFrame.\n",
      "Try using .loc[row_indexer,col_indexer] = value instead\n",
      "\n",
      "See the caveats in the documentation: https://pandas.pydata.org/pandas-docs/stable/user_guide/indexing.html#returning-a-view-versus-a-copy\n",
      "  adhd_df['SC_RACE_R'] = adhd_df['SC_RACE_R'].replace({ 1: 'White', 2: 'Black', 3: 'Native Amer.', 4: 'Asian', 5:'Hawaiian', 6:'Other',  7: 'Mixed'})\n"
     ]
    },
    {
     "data": {
      "text/plain": "<Figure size 1296x720 with 2 Axes>",
      "image/png": "[encoded data removed]"
     },
     "metadata": {},
     "output_type": "display_data"
    }
   ],
   "source": [
    "# Replacing formtype category names for more readable graphs\n",
    "adhd_df['SC_RACE_R'] = adhd_df['SC_RACE_R'].replace({ 1: 'White', 2: 'Black', 3: 'Native Amer.', 4: 'Asian', 5:'Hawaiian', 6:'Other',  7: 'Mixed'})\n",
    "nsch['SC_RACE_R'] = nsch['SC_RACE_R'].replace({ 1: 'White', 2: 'Black', 3: 'Native Amer.', 4: 'Asian', 5:'Hawaiian', 6:'Other', 7: 'Mixed'})\n",
    "\n",
    "# Creating figure and axes\n",
    "racefig, (adhd_race_ax, sample_race_ax) = plt.subplots(1, 2, figsize=(18, 10))\n",
    "\n",
    "# Plotting racial distribution of kids diagnosed with ADHD\n",
    "adhd_race_figure = sns.histplot(adhd_df, x='SC_RACE_R', ax=adhd_race_ax, edgecolor='black')\n",
    "\n",
    "# Setting xlabel and title\n",
    "adhd_race_figure.set(xlabel='Race of Child', title='Race Distribution of Children Diagnosed ADHD')\n",
    "\n",
    "# Plotting racial distribution of sample\n",
    "sample_race_figure = sns.histplot(nsch, x='SC_RACE_R', ax=sample_race_ax, color='orange', edgecolor='black')\n",
    "\n",
    "# Setting xlabel and title\n",
    "sample_race_figure.set(xlabel='Race of Child', title='Race Distribution of All Children in Sample');"
   ]
  },
  {
   "cell_type": "markdown",
   "metadata": {},
   "source": [
    "#### Analysis\n",
    "The distributions seem to match except for one small quirk, there are only about half the amount of asian kids we would expect. I will refrain from simply guessing why this could be, but it will be important to note this aspect of the data. It is also important to note that the distribution of our overall data does not match the [overall estimates](https://www.census.gov/quickfacts/fact/table/US/PST045219) for the United States. This will be another limitation of my data."
   ]
  },
  {
   "cell_type": "markdown",
   "metadata": {},
   "source": [
    "\n",
    "### EDA Summary\n",
    "\n",
    "The limitations of this data are:\n",
    "\n",
    "There are **9325 children** in this sample have been **diagnosed** with ADHD.\n",
    "<br>\n",
    "\n",
    "**9%** of kids in this sample have been **diagnosed** ADHD.\n",
    "<br>\n",
    "\n",
    "Of these kids, **69% are male**, and **31% are female**\n",
    "<br>\n",
    "\n",
    "of the kids diagnosed with ADHD,\n",
    "   - **61%** are between the ages of **12-17**\n",
    "   - **36%** are between the ages of **6-11**\n",
    "   - **3%** are between the ages of **0-5**\n",
    "\n",
    "The Racial/Ethnic distribution of children with ADHD is:\n",
    "\n",
    "| Race        | Percentage  |\n",
    "| ----------- | ----------- |\n",
    "| White       | 81%         |\n",
    "| Black       | 8%          |\n",
    "| Asian       | 2%          |\n",
    "| Mixed       | 8%          |\n",
    "| Native Am.  | 0.009%      |\n",
    "| Hawaiian    | 0.003%      |\n",
    "| Other       | 0.004%      |\n",
    "\n",
    "<br>\n",
    "\n",
    "#### Why These Things Matter\n",
    "This data is important, because my model is only as good as my data. These are some clear, defined limitations of my data. When modeling it will be important to remember that my model will be good at diagnosing white males between the ages of 12-17. This is because that is what I have the most data for. My model may struggle to correctly classify female, or non-white kids when it comes to ADHD. It's important to be transparent about these things, and also to remember that using the data as it is will mean reinforcing any bias that is already present in the data."
   ]
  },
  {
   "cell_type": "markdown",
   "metadata": {},
   "source": [
    "# Data Cleaning\n",
    "Data file can specifically be found [here](https://www.census.gov/programs-surveys/nsch/data/datasets.html)\n",
    "\n",
    "To prepare the data for cleaning I will:\n",
    "- Remove columns related to ADHD\n",
    "- Ensure all NaN values present in the dataset are addressed\n",
    "- Perform a train-test split on the data and create a holdout set as well.\n",
    "- Save transformed/cleaned data as CSV files.\n",
    "\n",
    "The full cleaning notebook can be found [here](/Notebooks/Data_Cleaning.ipynb)"
   ]
  },
  {
   "cell_type": "code",
   "execution_count": 11,
   "metadata": {
    "pycharm": {
     "name": "#%%\n"
    }
   },
   "outputs": [],
   "source": [
    "# Imports for this section\n",
    "from sklearn.model_selection import train_test_split\n",
    "from sklearn.impute import SimpleImputer"
   ]
  },
  {
   "cell_type": "code",
   "execution_count": 12,
   "metadata": {
    "pycharm": {
     "name": "#%%\n"
    }
   },
   "outputs": [
    {
     "name": "stderr",
     "output_type": "stream",
     "text": [
      "/Users/matthewturner/opt/anaconda3/envs/Capstone/lib/python3.9/site-packages/pandas/io/sas/sas7bdat.py:800: PerformanceWarning: DataFrame is highly fragmented.  This is usually the result of calling `frame.insert` many times, which has poor performance.  Consider joining all columns at once using pd.concat(axis=1) instead.  To get a de-fragmented frame, use `newframe = frame.copy()`\n",
      "  rslt[name] = self._byte_chunk[jb, :].view(dtype=self.byte_order + \"d\")\n"
     ]
    },
    {
     "data": {
      "text/plain": "  FIPSST STRATUM         HHID FORMTYPE  TOTKIDS_R  TENURE  HHLANGUAGE  \\\n0  b'17'    b'1'  b'20000003'    b'T1'        2.0     1.0         1.0   \n1  b'29'   b'2A'  b'20000004'    b'T3'        1.0     1.0         1.0   \n2  b'47'    b'1'  b'20000005'    b'T1'        1.0     1.0         1.0   \n3  b'28'    b'1'  b'20000014'    b'T3'        2.0     1.0         1.0   \n4  b'55'    b'1'  b'20000015'    b'T3'        2.0     2.0         1.0   \n\n   SC_AGE_YEARS  SC_SEX  K2Q35A_1_YEARS  ...  BIRTH_YR_F  BMICLASS  \\\n0           3.0     1.0             NaN  ...         0.0       NaN   \n1          14.0     2.0             NaN  ...         0.0       2.0   \n2           1.0     2.0             NaN  ...         0.0       NaN   \n3          15.0     2.0             NaN  ...         0.0       2.0   \n4          16.0     2.0             NaN  ...         0.0       3.0   \n\n   HHCOUNT_IF  FPL_I1  FPL_I2  FPL_I3  FPL_I4  FPL_I5  FPL_I6          FWC  \n0         0.0   400.0   400.0   400.0   400.0   400.0   400.0  3296.080092  \n1         0.0   400.0   400.0   400.0   400.0   400.0   400.0  2888.545330  \n2         0.0   400.0   400.0   400.0   400.0   400.0   400.0  1016.682730  \n3         0.0   143.0   143.0   143.0   143.0   143.0   143.0  1042.091065  \n4         0.0   400.0   400.0   400.0   400.0   400.0   400.0   402.372392  \n\n[5 rows x 443 columns]",
      "text/html": "<div>\n<style scoped>\n    .dataframe tbody tr th:only-of-type {\n        vertical-align: middle;\n    }\n\n    .dataframe tbody tr th {\n        vertical-align: top;\n    }\n\n    .dataframe thead th {\n        text-align: right;\n    }\n</style>\n<table border=\"1\" class=\"dataframe\">\n  <thead>\n    <tr style=\"text-align: right;\">\n      <th></th>\n      <th>FIPSST</th>\n      <th>STRATUM</th>\n      <th>HHID</th>\n      <th>FORMTYPE</th>\n      <th>TOTKIDS_R</th>\n      <th>TENURE</th>\n      <th>HHLANGUAGE</th>\n      <th>SC_AGE_YEARS</th>\n      <th>SC_SEX</th>\n      <th>K2Q35A_1_YEARS</th>\n      <th>...</th>\n      <th>BIRTH_YR_F</th>\n      <th>BMICLASS</th>\n      <th>HHCOUNT_IF</th>\n      <th>FPL_I1</th>\n      <th>FPL_I2</th>\n      <th>FPL_I3</th>\n      <th>FPL_I4</th>\n      <th>FPL_I5</th>\n      <th>FPL_I6</th>\n      <th>FWC</th>\n    </tr>\n  </thead>\n  <tbody>\n    <tr>\n      <th>0</th>\n      <td>b'17'</td>\n      <td>b'1'</td>\n      <td>b'20000003'</td>\n      <td>b'T1'</td>\n      <td>2.0</td>\n      <td>1.0</td>\n      <td>1.0</td>\n      <td>3.0</td>\n      <td>1.0</td>\n      <td>NaN</td>\n      <td>...</td>\n      <td>0.0</td>\n      <td>NaN</td>\n      <td>0.0</td>\n      <td>400.0</td>\n      <td>400.0</td>\n      <td>400.0</td>\n      <td>400.0</td>\n      <td>400.0</td>\n      <td>400.0</td>\n      <td>3296.080092</td>\n    </tr>\n    <tr>\n      <th>1</th>\n      <td>b'29'</td>\n      <td>b'2A'</td>\n      <td>b'20000004'</td>\n      <td>b'T3'</td>\n      <td>1.0</td>\n      <td>1.0</td>\n      <td>1.0</td>\n      <td>14.0</td>\n      <td>2.0</td>\n      <td>NaN</td>\n      <td>...</td>\n      <td>0.0</td>\n      <td>2.0</td>\n      <td>0.0</td>\n      <td>400.0</td>\n      <td>400.0</td>\n      <td>400.0</td>\n      <td>400.0</td>\n      <td>400.0</td>\n      <td>400.0</td>\n      <td>2888.545330</td>\n    </tr>\n    <tr>\n      <th>2</th>\n      <td>b'47'</td>\n      <td>b'1'</td>\n      <td>b'20000005'</td>\n      <td>b'T1'</td>\n      <td>1.0</td>\n      <td>1.0</td>\n      <td>1.0</td>\n      <td>1.0</td>\n      <td>2.0</td>\n      <td>NaN</td>\n      <td>...</td>\n      <td>0.0</td>\n      <td>NaN</td>\n      <td>0.0</td>\n      <td>400.0</td>\n      <td>400.0</td>\n      <td>400.0</td>\n      <td>400.0</td>\n      <td>400.0</td>\n      <td>400.0</td>\n      <td>1016.682730</td>\n    </tr>\n    <tr>\n      <th>3</th>\n      <td>b'28'</td>\n      <td>b'1'</td>\n      <td>b'20000014'</td>\n      <td>b'T3'</td>\n      <td>2.0</td>\n      <td>1.0</td>\n      <td>1.0</td>\n      <td>15.0</td>\n      <td>2.0</td>\n      <td>NaN</td>\n      <td>...</td>\n      <td>0.0</td>\n      <td>2.0</td>\n      <td>0.0</td>\n      <td>143.0</td>\n      <td>143.0</td>\n      <td>143.0</td>\n      <td>143.0</td>\n      <td>143.0</td>\n      <td>143.0</td>\n      <td>1042.091065</td>\n    </tr>\n    <tr>\n      <th>4</th>\n      <td>b'55'</td>\n      <td>b'1'</td>\n      <td>b'20000015'</td>\n      <td>b'T3'</td>\n      <td>2.0</td>\n      <td>2.0</td>\n      <td>1.0</td>\n      <td>16.0</td>\n      <td>2.0</td>\n      <td>NaN</td>\n      <td>...</td>\n      <td>0.0</td>\n      <td>3.0</td>\n      <td>0.0</td>\n      <td>400.0</td>\n      <td>400.0</td>\n      <td>400.0</td>\n      <td>400.0</td>\n      <td>400.0</td>\n      <td>400.0</td>\n      <td>402.372392</td>\n    </tr>\n  </tbody>\n</table>\n<p>5 rows × 443 columns</p>\n</div>"
     },
     "execution_count": 12,
     "metadata": {},
     "output_type": "execute_result"
    }
   ],
   "source": [
    "# Loading data into pandas dateframe\n",
    "nsch20 = pd.read_sas('../Data/nsch_2020_topical_SAS/nsch_2020_topical.sas7bdat')\n",
    "nsch19 = pd.read_sas('../Data/nsch_2019_topical_SAS/nsch_2019_topical.sas7bdat')\n",
    "nsch18 = pd.read_sas('../Data/nsch_2018_topical_SAS/nsch_2018_topical.sas7bdat')\n",
    "\n",
    "# Joining all the data into one frame, keeping ONLY the columns that are present in all frames.\n",
    "nsch = pd.concat([nsch20, nsch19, nsch18], join='inner', ignore_index=True)"
   ]
  },
  {
   "cell_type": "markdown",
   "metadata": {},
   "source": [
    "## ADHD Columns\n",
    "\n",
    "Along with our target column, 'K2Q31A' there are multiple other columns that relate to ADHD that need to be removed. These columns are closely tied to ADHD so they need to be removed so the model doesn't take them into account when making predictions. Column descriptions can be found in the [EDA notebook](https://github.com/austint1121/Undiagnosed-ADHD-Identification/blob/main/Notebooks/EDA.ipynb). We will also save our target column, and remove any rows with null values in that column"
   ]
  },
  {
   "cell_type": "code",
   "execution_count": 13,
   "metadata": {
    "pycharm": {
     "name": "#%%\n"
    }
   },
   "outputs": [
    {
     "name": "stdout",
     "output_type": "stream",
     "text": [
      "<class 'pandas.core.frame.DataFrame'>\n",
      "RangeIndex: 42777 entries, 0 to 42776\n",
      "Columns: 426 entries, FIPSST to FWC\n",
      "dtypes: float64(422), object(4)\n",
      "memory usage: 139.0+ MB\n"
     ]
    }
   ],
   "source": [
    "# Creating list of columns to be dropped\n",
    "related_ADHD = [\n",
    "    'K2Q31A',\n",
    "    'K2Q31B',\n",
    "    'K2Q31C',\n",
    "    'K2Q31D',\n",
    "    'K4Q23',\n",
    "    'SC_K2Q10',\n",
    "    'SC_K2Q11',\n",
    "    'SC_K2Q12',\n",
    "    'ADDTREAT',\n",
    "    'SC_CSHCN',\n",
    "    'SC_K2Q22',\n",
    "    'SC_K2Q10',\n",
    "    'K4Q22_R',\n",
    "    'K6Q15',\n",
    "    'SC_K2Q20',\n",
    "    'K4Q36',\n",
    "    'TOTNONSHCN',\n",
    "    'K4Q28X04',\n",
    "]\n",
    "\n",
    "# Dropping rows with NAN values in target column\n",
    "\n",
    "# Saving Target column\n",
    "target = nsch['K2Q31B'].fillna(2)\n",
    "\n",
    "# Creating new dataframe without columns from above\n",
    "dropped_adhd = nsch.drop(columns=related_ADHD)\n",
    "\n",
    "# Confirming expected results\n",
    "dropped_adhd.info()"
   ]
  },
  {
   "cell_type": "markdown",
   "metadata": {},
   "source": [
    "### Binarizing Target Values\n",
    "Currently in our target column a \"1\" means that the child has been diagnosed with ADHD and a 2 means they haven't been. This will cause problems down the road later, so I'm going to manually replace them with 0's and 1's."
   ]
  },
  {
   "cell_type": "code",
   "execution_count": 14,
   "metadata": {
    "pycharm": {
     "name": "#%%\n"
    }
   },
   "outputs": [
    {
     "data": {
      "text/plain": "0.0    38886\n1.0     3891\nName: K2Q31B, dtype: int64"
     },
     "execution_count": 14,
     "metadata": {},
     "output_type": "execute_result"
    }
   ],
   "source": [
    "# Dictionary for replacement\n",
    "testing = {2: 0, 1: 1}\n",
    "\n",
    "# Preforming replacement\n",
    "target = target.replace(testing)\n",
    "\n",
    "# Visually confirming expected change\n",
    "target.value_counts()"
   ]
  },
  {
   "cell_type": "markdown",
   "metadata": {},
   "source": [
    "### Dropping Object Columns\n"
   ]
  },
  {
   "cell_type": "code",
   "execution_count": 15,
   "metadata": {
    "pycharm": {
     "name": "#%%\n"
    }
   },
   "outputs": [
    {
     "name": "stdout",
     "output_type": "stream",
     "text": [
      "<class 'pandas.core.frame.DataFrame'>\n",
      "RangeIndex: 42777 entries, 0 to 42776\n",
      "Columns: 426 entries, FIPSST to FWC\n",
      "dtypes: float64(422), object(4)\n",
      "memory usage: 139.0+ MB\n"
     ]
    }
   ],
   "source": [
    "# Checking the column types\n",
    "dropped_adhd.info()"
   ]
  },
  {
   "cell_type": "code",
   "execution_count": 16,
   "metadata": {
    "pycharm": {
     "name": "#%%\n"
    }
   },
   "outputs": [
    {
     "data": {
      "text/plain": "      FIPSST STRATUM         HHID FORMTYPE\n0      b'17'    b'1'  b'20000003'    b'T1'\n1      b'29'   b'2A'  b'20000004'    b'T3'\n2      b'47'    b'1'  b'20000005'    b'T1'\n3      b'28'    b'1'  b'20000014'    b'T3'\n4      b'55'    b'1'  b'20000015'    b'T3'\n...      ...     ...          ...      ...\n42772  b'26'    b'1'  b'20239975'    b'T3'\n42773  b'54'    b'1'  b'20239979'    b'T2'\n42774  b'54'    b'1'  b'20239980'    b'T3'\n42775  b'15'    b'1'  b'20239994'    b'T2'\n42776  b'28'    b'1'  b'20239999'    b'T3'\n\n[42777 rows x 4 columns]",
      "text/html": "<div>\n<style scoped>\n    .dataframe tbody tr th:only-of-type {\n        vertical-align: middle;\n    }\n\n    .dataframe tbody tr th {\n        vertical-align: top;\n    }\n\n    .dataframe thead th {\n        text-align: right;\n    }\n</style>\n<table border=\"1\" class=\"dataframe\">\n  <thead>\n    <tr style=\"text-align: right;\">\n      <th></th>\n      <th>FIPSST</th>\n      <th>STRATUM</th>\n      <th>HHID</th>\n      <th>FORMTYPE</th>\n    </tr>\n  </thead>\n  <tbody>\n    <tr>\n      <th>0</th>\n      <td>b'17'</td>\n      <td>b'1'</td>\n      <td>b'20000003'</td>\n      <td>b'T1'</td>\n    </tr>\n    <tr>\n      <th>1</th>\n      <td>b'29'</td>\n      <td>b'2A'</td>\n      <td>b'20000004'</td>\n      <td>b'T3'</td>\n    </tr>\n    <tr>\n      <th>2</th>\n      <td>b'47'</td>\n      <td>b'1'</td>\n      <td>b'20000005'</td>\n      <td>b'T1'</td>\n    </tr>\n    <tr>\n      <th>3</th>\n      <td>b'28'</td>\n      <td>b'1'</td>\n      <td>b'20000014'</td>\n      <td>b'T3'</td>\n    </tr>\n    <tr>\n      <th>4</th>\n      <td>b'55'</td>\n      <td>b'1'</td>\n      <td>b'20000015'</td>\n      <td>b'T3'</td>\n    </tr>\n    <tr>\n      <th>...</th>\n      <td>...</td>\n      <td>...</td>\n      <td>...</td>\n      <td>...</td>\n    </tr>\n    <tr>\n      <th>42772</th>\n      <td>b'26'</td>\n      <td>b'1'</td>\n      <td>b'20239975'</td>\n      <td>b'T3'</td>\n    </tr>\n    <tr>\n      <th>42773</th>\n      <td>b'54'</td>\n      <td>b'1'</td>\n      <td>b'20239979'</td>\n      <td>b'T2'</td>\n    </tr>\n    <tr>\n      <th>42774</th>\n      <td>b'54'</td>\n      <td>b'1'</td>\n      <td>b'20239980'</td>\n      <td>b'T3'</td>\n    </tr>\n    <tr>\n      <th>42775</th>\n      <td>b'15'</td>\n      <td>b'1'</td>\n      <td>b'20239994'</td>\n      <td>b'T2'</td>\n    </tr>\n    <tr>\n      <th>42776</th>\n      <td>b'28'</td>\n      <td>b'1'</td>\n      <td>b'20239999'</td>\n      <td>b'T3'</td>\n    </tr>\n  </tbody>\n</table>\n<p>42777 rows × 4 columns</p>\n</div>"
     },
     "execution_count": 16,
     "metadata": {},
     "output_type": "execute_result"
    }
   ],
   "source": [
    "# We have 422 float64 and 4 object types. Lets investigate those 4 objects\n",
    "dropped_adhd.select_dtypes('object')"
   ]
  },
  {
   "cell_type": "markdown",
   "metadata": {
    "pycharm": {
     "name": "#%% md\n"
    }
   },
   "source": [
    "**FIPSST** - State FIPS code\n",
    "**STRATUM** - Sampling Stratum\n",
    "**HHID** - Unique Household ID\n",
    "**FORMTYPE** - A proxy for age, kids are given a form base on age ranges (T1: 0-5, T2: 6-11, T3:12-17)\n",
    "\n",
    "All of these columns can be dropped as they should have an effect on whether a child has ADHD, or they are a proxy for an already present variable."
   ]
  },
  {
   "cell_type": "code",
   "execution_count": 17,
   "metadata": {
    "pycharm": {
     "name": "#%%\n"
    }
   },
   "outputs": [
    {
     "name": "stdout",
     "output_type": "stream",
     "text": [
      "<class 'pandas.core.frame.DataFrame'>\n",
      "RangeIndex: 42777 entries, 0 to 42776\n",
      "Columns: 422 entries, TOTKIDS_R to FWC\n",
      "dtypes: float64(422)\n",
      "memory usage: 137.7 MB\n"
     ]
    }
   ],
   "source": [
    "# Dropping object columns\n",
    "dropped_final = dropped_adhd.drop(columns=['FIPSST', 'STRATUM', 'HHID', 'FORMTYPE'])\n",
    "# Confirming expected column count\n",
    "dropped_final.info()"
   ]
  },
  {
   "cell_type": "markdown",
   "metadata": {},
   "source": [
    "## Train Test Split\n",
    "Before doing any transformations it will be necessary to perform the train test split beforehand to prevent data leakage."
   ]
  },
  {
   "cell_type": "code",
   "execution_count": 18,
   "metadata": {
    "pycharm": {
     "name": "#%%\n"
    }
   },
   "outputs": [
    {
     "name": "stdout",
     "output_type": "stream",
     "text": [
      "Training set is 32082 entries\n",
      "Testing set is 8021 entries\n",
      "Validation set is 2674 entries\n"
     ]
    }
   ],
   "source": [
    "# Split into train and test sets\n",
    "X_train, X_test, y_train, y_test = train_test_split(dropped_final, target, random_state=15, stratify=target)\n",
    "\n",
    "# Split test into a testing and final holdout/validation set\n",
    "X_test, X_val, y_test, y_val = train_test_split(X_test, y_test, random_state=15, stratify=y_test)\n",
    "\n",
    "# Printing total rows in each set\n",
    "print(f'Training set is {len(X_train)} entries')\n",
    "print(f'Testing set is {len(X_test)} entries')\n",
    "print(f'Validation set is {len(X_val)} entries')"
   ]
  },
  {
   "cell_type": "code",
   "execution_count": 19,
   "metadata": {
    "pycharm": {
     "name": "#%%\n"
    }
   },
   "outputs": [
    {
     "name": "stdout",
     "output_type": "stream",
     "text": [
      "There are 2918 kids with ADHD in the training set\n",
      "There are 730 kids with ADHD in the testing set\n",
      "There are 243 kids with ADHD in the validation set\n"
     ]
    }
   ],
   "source": [
    "# Printing the amount of kids diagnosed with ADHD in each split\n",
    "print(f'There are {y_train.value_counts().values[1]} kids with ADHD in the training set')\n",
    "print(f'There are {y_test.value_counts().values[1]} kids with ADHD in the testing set')\n",
    "print(f'There are {y_val.value_counts().values[1]} kids with ADHD in the validation set')"
   ]
  },
  {
   "cell_type": "markdown",
   "metadata": {},
   "source": [
    "## Handling Missing Values\n",
    "There are multiple strategies to handling missing values, normally I would love to use Sklearns experimental [Iterative Imputer](https://scikit-learn.org/stable/modules/generated/sklearn.impute.IterativeImputer.html) however, in this survey some questions are sub questions of others, and can be left blank as a result of the answer to the parent question.\n",
    "<br>\n",
    "An example of this is the \"ADDTREAT\" column we dropped earlier. This column is left blank if \"K2Q31A\" (our target) is answered \"No\". Instead, I'll use a simple imputer to fill in the null values with ones that will make it clear to the model that they are null values."
   ]
  },
  {
   "cell_type": "code",
   "execution_count": 20,
   "metadata": {
    "pycharm": {
     "name": "#%%\n"
    }
   },
   "outputs": [
    {
     "data": {
      "text/plain": "   TOTKIDS_R  TENURE  HHLANGUAGE  SC_AGE_YEARS  SC_SEX  K2Q35A_1_YEARS  \\\n0        2.0     1.0         1.0          11.0     1.0           999.0   \n1        2.0     1.0         1.0           8.0     2.0           999.0   \n2        1.0     1.0         1.0           3.0     2.0           999.0   \n3        2.0     3.0         1.0           7.0     2.0           999.0   \n4        2.0     1.0         1.0           1.0     1.0           999.0   \n\n   BIRTH_MO  BIRTH_YR  MOMAGE  K6Q41R_STILL  ...  BIRTH_YR_F  BMICLASS  \\\n0       8.0    2009.0    25.0         999.0  ...         0.0       2.0   \n1       3.0    2012.0   999.0         999.0  ...         0.0     999.0   \n2      11.0    2016.0    38.0           1.0  ...         0.0     999.0   \n3      10.0    2012.0    24.0         999.0  ...         0.0     999.0   \n4       5.0    2019.0    35.0         999.0  ...         0.0     999.0   \n\n   HHCOUNT_IF  FPL_I1  FPL_I2  FPL_I3  FPL_I4  FPL_I5  FPL_I6          FWC  \n0         0.0   209.0   209.0   209.0   209.0   209.0   209.0  2215.874536  \n1         0.0   366.0   366.0   366.0   366.0   366.0   366.0  1318.419908  \n2         0.0   301.0   301.0   301.0   301.0   301.0   301.0    59.905626  \n3         0.0    50.0    50.0    50.0    50.0    50.0    50.0   935.366044  \n4         0.0   400.0   400.0   400.0   400.0   400.0   400.0  1964.609575  \n\n[5 rows x 422 columns]",
      "text/html": "<div>\n<style scoped>\n    .dataframe tbody tr th:only-of-type {\n        vertical-align: middle;\n    }\n\n    .dataframe tbody tr th {\n        vertical-align: top;\n    }\n\n    .dataframe thead th {\n        text-align: right;\n    }\n</style>\n<table border=\"1\" class=\"dataframe\">\n  <thead>\n    <tr style=\"text-align: right;\">\n      <th></th>\n      <th>TOTKIDS_R</th>\n      <th>TENURE</th>\n      <th>HHLANGUAGE</th>\n      <th>SC_AGE_YEARS</th>\n      <th>SC_SEX</th>\n      <th>K2Q35A_1_YEARS</th>\n      <th>BIRTH_MO</th>\n      <th>BIRTH_YR</th>\n      <th>MOMAGE</th>\n      <th>K6Q41R_STILL</th>\n      <th>...</th>\n      <th>BIRTH_YR_F</th>\n      <th>BMICLASS</th>\n      <th>HHCOUNT_IF</th>\n      <th>FPL_I1</th>\n      <th>FPL_I2</th>\n      <th>FPL_I3</th>\n      <th>FPL_I4</th>\n      <th>FPL_I5</th>\n      <th>FPL_I6</th>\n      <th>FWC</th>\n    </tr>\n  </thead>\n  <tbody>\n    <tr>\n      <th>0</th>\n      <td>2.0</td>\n      <td>1.0</td>\n      <td>1.0</td>\n      <td>11.0</td>\n      <td>1.0</td>\n      <td>999.0</td>\n      <td>8.0</td>\n      <td>2009.0</td>\n      <td>25.0</td>\n      <td>999.0</td>\n      <td>...</td>\n      <td>0.0</td>\n      <td>2.0</td>\n      <td>0.0</td>\n      <td>209.0</td>\n      <td>209.0</td>\n      <td>209.0</td>\n      <td>209.0</td>\n      <td>209.0</td>\n      <td>209.0</td>\n      <td>2215.874536</td>\n    </tr>\n    <tr>\n      <th>1</th>\n      <td>2.0</td>\n      <td>1.0</td>\n      <td>1.0</td>\n      <td>8.0</td>\n      <td>2.0</td>\n      <td>999.0</td>\n      <td>3.0</td>\n      <td>2012.0</td>\n      <td>999.0</td>\n      <td>999.0</td>\n      <td>...</td>\n      <td>0.0</td>\n      <td>999.0</td>\n      <td>0.0</td>\n      <td>366.0</td>\n      <td>366.0</td>\n      <td>366.0</td>\n      <td>366.0</td>\n      <td>366.0</td>\n      <td>366.0</td>\n      <td>1318.419908</td>\n    </tr>\n    <tr>\n      <th>2</th>\n      <td>1.0</td>\n      <td>1.0</td>\n      <td>1.0</td>\n      <td>3.0</td>\n      <td>2.0</td>\n      <td>999.0</td>\n      <td>11.0</td>\n      <td>2016.0</td>\n      <td>38.0</td>\n      <td>1.0</td>\n      <td>...</td>\n      <td>0.0</td>\n      <td>999.0</td>\n      <td>0.0</td>\n      <td>301.0</td>\n      <td>301.0</td>\n      <td>301.0</td>\n      <td>301.0</td>\n      <td>301.0</td>\n      <td>301.0</td>\n      <td>59.905626</td>\n    </tr>\n    <tr>\n      <th>3</th>\n      <td>2.0</td>\n      <td>3.0</td>\n      <td>1.0</td>\n      <td>7.0</td>\n      <td>2.0</td>\n      <td>999.0</td>\n      <td>10.0</td>\n      <td>2012.0</td>\n      <td>24.0</td>\n      <td>999.0</td>\n      <td>...</td>\n      <td>0.0</td>\n      <td>999.0</td>\n      <td>0.0</td>\n      <td>50.0</td>\n      <td>50.0</td>\n      <td>50.0</td>\n      <td>50.0</td>\n      <td>50.0</td>\n      <td>50.0</td>\n      <td>935.366044</td>\n    </tr>\n    <tr>\n      <th>4</th>\n      <td>2.0</td>\n      <td>1.0</td>\n      <td>1.0</td>\n      <td>1.0</td>\n      <td>1.0</td>\n      <td>999.0</td>\n      <td>5.0</td>\n      <td>2019.0</td>\n      <td>35.0</td>\n      <td>999.0</td>\n      <td>...</td>\n      <td>0.0</td>\n      <td>999.0</td>\n      <td>0.0</td>\n      <td>400.0</td>\n      <td>400.0</td>\n      <td>400.0</td>\n      <td>400.0</td>\n      <td>400.0</td>\n      <td>400.0</td>\n      <td>1964.609575</td>\n    </tr>\n  </tbody>\n</table>\n<p>5 rows × 422 columns</p>\n</div>"
     },
     "execution_count": 20,
     "metadata": {},
     "output_type": "execute_result"
    }
   ],
   "source": [
    "# Simple Imputer filling values with something that vill obviously be a nan value, in this case, 999\n",
    "SI_imputer = SimpleImputer(strategy='constant', fill_value=999)\n",
    "# Fitting the imputer to training data / transforming the training data\n",
    "transformed_X_train = SI_imputer.fit_transform(X_train, y_train)\n",
    "\n",
    "# Creating a dataframe and re-adding the column names to the data\n",
    "transformed_X_train = pd.DataFrame(transformed_X_train, columns=X_train.columns)\n",
    "\n",
    "# Visually confirming transformation\n",
    "transformed_X_train.head()"
   ]
  },
  {
   "cell_type": "code",
   "execution_count": 21,
   "metadata": {
    "pycharm": {
     "name": "#%%\n"
    }
   },
   "outputs": [],
   "source": [
    "# Transforming test and validation set\n",
    "transformed_X_test = SI_imputer.transform(X_test)\n",
    "\n",
    "# Creating a dataframe and re-adding the column names to the data\n",
    "transformed_X_test= pd.DataFrame(transformed_X_test, columns=X_test.columns)\n",
    "\n",
    "# Transforming Validation set\n",
    "transformed_X_val = SI_imputer.transform(X_val)\n",
    "\n",
    "# Creating a dataframe and re-adding the column names to the data\n",
    "transformed_X_val= pd.DataFrame(transformed_X_val, columns=X_val.columns)"
   ]
  },
  {
   "cell_type": "markdown",
   "metadata": {},
   "source": [
    "## Saving the Clean Data"
   ]
  },
  {
   "cell_type": "code",
   "execution_count": 22,
   "metadata": {
    "pycharm": {
     "name": "#%%\n"
    }
   },
   "outputs": [],
   "source": [
    "# Saving the transformed dataframes\n",
    "\n",
    "# Training Data\n",
    "transformed_X_train.to_csv('../Data/train/X_train_combo.csv')\n",
    "y_train.to_csv('../Data/train/y_train_combo.csv')\n",
    "\n",
    "# Testing Data\n",
    "transformed_X_test.to_csv('../Data/test/X_test_combo.csv')\n",
    "y_test.to_csv('../Data/test/y_test_combo')\n",
    "\n",
    "# Validation Data\n",
    "transformed_X_val.to_csv('../Data/val/X_val_combo')\n",
    "y_val.to_csv('../Data/val/y_val_combo.csv')"
   ]
  },
  {
   "cell_type": "markdown",
   "metadata": {},
   "source": [
    "From this point forward, any more cleaning would be model specific. I could also clean the data more to improve the overall quality, but I think this will be a good “baseline” starting point for the modeling process. The next step is to begin the modeling process"
   ]
  },
  {
   "cell_type": "markdown",
   "metadata": {},
   "source": [
    "# Modeling\n",
    "Now its time to get modeling, I created 3 different types of models: [Sklearn decision tree](Notebooks/Modeling-Decision_Tree.ipynb), [Catboost](Notebooks/Modeling-Catboost.ipynb), and a [Keras neural network](Notebooks/Modeling-Keras.ipynb). To keep this notebook from being too long, I'm only going to go over the process of modeling my [final model](Notebooks/Modeling-Catboost-Tuning.ipynb): Catboost."
   ]
  },
  {
   "cell_type": "code",
   "execution_count": 23,
   "metadata": {
    "pycharm": {
     "name": "#%%\n"
    }
   },
   "outputs": [],
   "source": [
    "# Importing relevant package for this sections\n",
    "from catboost import CatBoostClassifier,metrics\n",
    "from functions import metrics as custom_score\n",
    "from sklearn.metrics import ConfusionMatrixDisplay\n",
    "from functions import improvement as custom_change\n",
    "from imblearn.over_sampling import RandomOverSampler, SMOTEN"
   ]
  },
  {
   "cell_type": "code",
   "execution_count": 26,
   "metadata": {
    "pycharm": {
     "name": "#%%\n"
    }
   },
   "outputs": [],
   "source": [
    "# Load in cleaned data.\n",
    "\n",
    "# Training Data\n",
    "X_train = pd.read_csv('../Data/train/X_train_combo.csv', index_col=0)\n",
    "y_train = pd.read_csv('../Data/train/y_train_combo.csv', index_col=0)\n",
    "\n",
    "# Testing Data\n",
    "X_test = pd.read_csv('../Data/test/X_test_combo.csv', index_col=0)\n",
    "y_test = pd.read_csv('../Data/test/y_test_combo.csv', index_col=0)\n"
   ]
  },
  {
   "cell_type": "markdown",
   "metadata": {},
   "source": [
    "# First Simple Model\n",
    "I'll now create a first \"simple\" model to compare to, and iterate from moving forward. This model will be the simplest model I can make with Catboost; there will be no tuning at all."
   ]
  },
  {
   "cell_type": "code",
   "execution_count": 27,
   "metadata": {
    "pycharm": {
     "name": "#%%\n"
    }
   },
   "outputs": [
    {
     "ename": "CatBoostError",
     "evalue": "Length of label=7986 and length of data=8021 is different.",
     "output_type": "error",
     "traceback": [
      "\u001B[0;31m---------------------------------------------------------------------------\u001B[0m",
      "\u001B[0;31mCatBoostError\u001B[0m                             Traceback (most recent call last)",
      "\u001B[0;32m/var/folders/y8/vq429chs6djb0hl0y0zp5fg00000gn/T/ipykernel_90684/3264222551.py\u001B[0m in \u001B[0;36m<module>\u001B[0;34m\u001B[0m\n\u001B[1;32m      7\u001B[0m )\n\u001B[1;32m      8\u001B[0m \u001B[0;31m# Fitting the model to training data\u001B[0m\u001B[0;34m\u001B[0m\u001B[0;34m\u001B[0m\u001B[0m\n\u001B[0;32m----> 9\u001B[0;31m model.fit(\n\u001B[0m\u001B[1;32m     10\u001B[0m     \u001B[0mX_train\u001B[0m\u001B[0;34m,\u001B[0m \u001B[0my_train\u001B[0m\u001B[0;34m,\u001B[0m\u001B[0;34m\u001B[0m\u001B[0;34m\u001B[0m\u001B[0m\n\u001B[1;32m     11\u001B[0m     \u001B[0;31m# Using X/y test as eval set\u001B[0m\u001B[0;34m\u001B[0m\u001B[0;34m\u001B[0m\u001B[0m\n",
      "\u001B[0;32m~/opt/anaconda3/envs/Capstone/lib/python3.9/site-packages/catboost/core.py\u001B[0m in \u001B[0;36mfit\u001B[0;34m(self, X, y, cat_features, text_features, embedding_features, sample_weight, baseline, use_best_model, eval_set, verbose, logging_level, plot, column_description, verbose_eval, metric_period, silent, early_stopping_rounds, save_snapshot, snapshot_file, snapshot_interval, init_model, callbacks, log_cout, log_cerr)\u001B[0m\n\u001B[1;32m   4673\u001B[0m             \u001B[0mCatBoostClassifier\u001B[0m\u001B[0;34m.\u001B[0m\u001B[0m_check_is_compatible_loss\u001B[0m\u001B[0;34m(\u001B[0m\u001B[0mparams\u001B[0m\u001B[0;34m[\u001B[0m\u001B[0;34m'loss_function'\u001B[0m\u001B[0;34m]\u001B[0m\u001B[0;34m)\u001B[0m\u001B[0;34m\u001B[0m\u001B[0;34m\u001B[0m\u001B[0m\n\u001B[1;32m   4674\u001B[0m \u001B[0;34m\u001B[0m\u001B[0m\n\u001B[0;32m-> 4675\u001B[0;31m         self._fit(X, y, cat_features, text_features, embedding_features, None, sample_weight, None, None, None, None, baseline, use_best_model,\n\u001B[0m\u001B[1;32m   4676\u001B[0m                   \u001B[0meval_set\u001B[0m\u001B[0;34m,\u001B[0m \u001B[0mverbose\u001B[0m\u001B[0;34m,\u001B[0m \u001B[0mlogging_level\u001B[0m\u001B[0;34m,\u001B[0m \u001B[0mplot\u001B[0m\u001B[0;34m,\u001B[0m \u001B[0mcolumn_description\u001B[0m\u001B[0;34m,\u001B[0m \u001B[0mverbose_eval\u001B[0m\u001B[0;34m,\u001B[0m \u001B[0mmetric_period\u001B[0m\u001B[0;34m,\u001B[0m\u001B[0;34m\u001B[0m\u001B[0;34m\u001B[0m\u001B[0m\n\u001B[1;32m   4677\u001B[0m                   silent, early_stopping_rounds, save_snapshot, snapshot_file, snapshot_interval, init_model, callbacks, log_cout, log_cerr)\n",
      "\u001B[0;32m~/opt/anaconda3/envs/Capstone/lib/python3.9/site-packages/catboost/core.py\u001B[0m in \u001B[0;36m_fit\u001B[0;34m(self, X, y, cat_features, text_features, embedding_features, pairs, sample_weight, group_id, group_weight, subgroup_id, pairs_weight, baseline, use_best_model, eval_set, verbose, logging_level, plot, column_description, verbose_eval, metric_period, silent, early_stopping_rounds, save_snapshot, snapshot_file, snapshot_interval, init_model, callbacks, log_cout, log_cerr)\u001B[0m\n\u001B[1;32m   1979\u001B[0m             \u001B[0;32mraise\u001B[0m \u001B[0mCatBoostError\u001B[0m\u001B[0;34m(\u001B[0m\u001B[0;34m\"y may be None only when X is an instance of catboost.Pool or string\"\u001B[0m\u001B[0;34m)\u001B[0m\u001B[0;34m\u001B[0m\u001B[0;34m\u001B[0m\u001B[0m\n\u001B[1;32m   1980\u001B[0m \u001B[0;34m\u001B[0m\u001B[0m\n\u001B[0;32m-> 1981\u001B[0;31m         train_params = self._prepare_train_params(\n\u001B[0m\u001B[1;32m   1982\u001B[0m             \u001B[0mX\u001B[0m\u001B[0;34m=\u001B[0m\u001B[0mX\u001B[0m\u001B[0;34m,\u001B[0m \u001B[0my\u001B[0m\u001B[0;34m=\u001B[0m\u001B[0my\u001B[0m\u001B[0;34m,\u001B[0m \u001B[0mcat_features\u001B[0m\u001B[0;34m=\u001B[0m\u001B[0mcat_features\u001B[0m\u001B[0;34m,\u001B[0m \u001B[0mtext_features\u001B[0m\u001B[0;34m=\u001B[0m\u001B[0mtext_features\u001B[0m\u001B[0;34m,\u001B[0m \u001B[0membedding_features\u001B[0m\u001B[0;34m=\u001B[0m\u001B[0membedding_features\u001B[0m\u001B[0;34m,\u001B[0m\u001B[0;34m\u001B[0m\u001B[0;34m\u001B[0m\u001B[0m\n\u001B[1;32m   1983\u001B[0m             \u001B[0mpairs\u001B[0m\u001B[0;34m=\u001B[0m\u001B[0mpairs\u001B[0m\u001B[0;34m,\u001B[0m \u001B[0msample_weight\u001B[0m\u001B[0;34m=\u001B[0m\u001B[0msample_weight\u001B[0m\u001B[0;34m,\u001B[0m \u001B[0mgroup_id\u001B[0m\u001B[0;34m=\u001B[0m\u001B[0mgroup_id\u001B[0m\u001B[0;34m,\u001B[0m \u001B[0mgroup_weight\u001B[0m\u001B[0;34m=\u001B[0m\u001B[0mgroup_weight\u001B[0m\u001B[0;34m,\u001B[0m\u001B[0;34m\u001B[0m\u001B[0;34m\u001B[0m\u001B[0m\n",
      "\u001B[0;32m~/opt/anaconda3/envs/Capstone/lib/python3.9/site-packages/catboost/core.py\u001B[0m in \u001B[0;36m_prepare_train_params\u001B[0;34m(self, X, y, cat_features, text_features, embedding_features, pairs, sample_weight, group_id, group_weight, subgroup_id, pairs_weight, baseline, use_best_model, eval_set, verbose, logging_level, plot, column_description, verbose_eval, metric_period, silent, early_stopping_rounds, save_snapshot, snapshot_file, snapshot_interval, init_model, callbacks)\u001B[0m\n\u001B[1;32m   1933\u001B[0m                     \u001B[0;32mraise\u001B[0m \u001B[0mCatBoostError\u001B[0m\u001B[0;34m(\u001B[0m\u001B[0;34m\"'eval_set' tuple contains at least one None value\"\u001B[0m\u001B[0;34m)\u001B[0m\u001B[0;34m\u001B[0m\u001B[0;34m\u001B[0m\u001B[0m\n\u001B[1;32m   1934\u001B[0m                 eval_sets.append(\n\u001B[0;32m-> 1935\u001B[0;31m                     Pool(\n\u001B[0m\u001B[1;32m   1936\u001B[0m                         \u001B[0meval_set\u001B[0m\u001B[0;34m[\u001B[0m\u001B[0;36m0\u001B[0m\u001B[0;34m]\u001B[0m\u001B[0;34m,\u001B[0m\u001B[0;34m\u001B[0m\u001B[0;34m\u001B[0m\u001B[0m\n\u001B[1;32m   1937\u001B[0m                         \u001B[0meval_set\u001B[0m\u001B[0;34m[\u001B[0m\u001B[0;36m1\u001B[0m\u001B[0;34m]\u001B[0m\u001B[0;34m,\u001B[0m\u001B[0;34m\u001B[0m\u001B[0;34m\u001B[0m\u001B[0m\n",
      "\u001B[0;32m~/opt/anaconda3/envs/Capstone/lib/python3.9/site-packages/catboost/core.py\u001B[0m in \u001B[0;36m__init__\u001B[0;34m(self, data, label, cat_features, text_features, embedding_features, column_description, pairs, delimiter, has_header, ignore_csv_quoting, weight, group_id, group_weight, subgroup_id, pairs_weight, baseline, feature_names, thread_count, log_cout, log_cerr)\u001B[0m\n\u001B[1;32m    617\u001B[0m                     )\n\u001B[1;32m    618\u001B[0m \u001B[0;34m\u001B[0m\u001B[0m\n\u001B[0;32m--> 619\u001B[0;31m                 \u001B[0mself\u001B[0m\u001B[0;34m.\u001B[0m\u001B[0m_init\u001B[0m\u001B[0;34m(\u001B[0m\u001B[0mdata\u001B[0m\u001B[0;34m,\u001B[0m \u001B[0mlabel\u001B[0m\u001B[0;34m,\u001B[0m \u001B[0mcat_features\u001B[0m\u001B[0;34m,\u001B[0m \u001B[0mtext_features\u001B[0m\u001B[0;34m,\u001B[0m \u001B[0membedding_features\u001B[0m\u001B[0;34m,\u001B[0m \u001B[0mpairs\u001B[0m\u001B[0;34m,\u001B[0m \u001B[0mweight\u001B[0m\u001B[0;34m,\u001B[0m \u001B[0mgroup_id\u001B[0m\u001B[0;34m,\u001B[0m \u001B[0mgroup_weight\u001B[0m\u001B[0;34m,\u001B[0m \u001B[0msubgroup_id\u001B[0m\u001B[0;34m,\u001B[0m \u001B[0mpairs_weight\u001B[0m\u001B[0;34m,\u001B[0m \u001B[0mbaseline\u001B[0m\u001B[0;34m,\u001B[0m \u001B[0mfeature_names\u001B[0m\u001B[0;34m,\u001B[0m \u001B[0mthread_count\u001B[0m\u001B[0;34m)\u001B[0m\u001B[0;34m\u001B[0m\u001B[0;34m\u001B[0m\u001B[0m\n\u001B[0m\u001B[1;32m    620\u001B[0m         \u001B[0msuper\u001B[0m\u001B[0;34m(\u001B[0m\u001B[0mPool\u001B[0m\u001B[0;34m,\u001B[0m \u001B[0mself\u001B[0m\u001B[0;34m)\u001B[0m\u001B[0;34m.\u001B[0m\u001B[0m__init__\u001B[0m\u001B[0;34m(\u001B[0m\u001B[0;34m)\u001B[0m\u001B[0;34m\u001B[0m\u001B[0;34m\u001B[0m\u001B[0m\n\u001B[1;32m    621\u001B[0m \u001B[0;34m\u001B[0m\u001B[0m\n",
      "\u001B[0;32m~/opt/anaconda3/envs/Capstone/lib/python3.9/site-packages/catboost/core.py\u001B[0m in \u001B[0;36m_init\u001B[0;34m(self, data, label, cat_features, text_features, embedding_features, pairs, weight, group_id, group_weight, subgroup_id, pairs_weight, baseline, feature_names, thread_count)\u001B[0m\n\u001B[1;32m   1087\u001B[0m             \u001B[0;32mif\u001B[0m \u001B[0mlen\u001B[0m\u001B[0;34m(\u001B[0m\u001B[0mnp\u001B[0m\u001B[0;34m.\u001B[0m\u001B[0mshape\u001B[0m\u001B[0;34m(\u001B[0m\u001B[0mlabel\u001B[0m\u001B[0;34m)\u001B[0m\u001B[0;34m)\u001B[0m \u001B[0;34m==\u001B[0m \u001B[0;36m1\u001B[0m\u001B[0;34m:\u001B[0m\u001B[0;34m\u001B[0m\u001B[0;34m\u001B[0m\u001B[0m\n\u001B[1;32m   1088\u001B[0m                 \u001B[0mlabel\u001B[0m \u001B[0;34m=\u001B[0m \u001B[0mnp\u001B[0m\u001B[0;34m.\u001B[0m\u001B[0mexpand_dims\u001B[0m\u001B[0;34m(\u001B[0m\u001B[0mlabel\u001B[0m\u001B[0;34m,\u001B[0m \u001B[0;36m1\u001B[0m\u001B[0;34m)\u001B[0m\u001B[0;34m\u001B[0m\u001B[0;34m\u001B[0m\u001B[0m\n\u001B[0;32m-> 1089\u001B[0;31m             \u001B[0mself\u001B[0m\u001B[0;34m.\u001B[0m\u001B[0m_check_label_shape\u001B[0m\u001B[0;34m(\u001B[0m\u001B[0mlabel\u001B[0m\u001B[0;34m,\u001B[0m \u001B[0msamples_count\u001B[0m\u001B[0;34m)\u001B[0m\u001B[0;34m\u001B[0m\u001B[0;34m\u001B[0m\u001B[0m\n\u001B[0m\u001B[1;32m   1090\u001B[0m         \u001B[0;32mif\u001B[0m \u001B[0mfeature_names\u001B[0m \u001B[0;32mis\u001B[0m \u001B[0;32mnot\u001B[0m \u001B[0;32mNone\u001B[0m\u001B[0;34m:\u001B[0m\u001B[0;34m\u001B[0m\u001B[0;34m\u001B[0m\u001B[0m\n\u001B[1;32m   1091\u001B[0m             \u001B[0mself\u001B[0m\u001B[0;34m.\u001B[0m\u001B[0m_check_feature_names\u001B[0m\u001B[0;34m(\u001B[0m\u001B[0mfeature_names\u001B[0m\u001B[0;34m,\u001B[0m \u001B[0mfeatures_count\u001B[0m\u001B[0;34m)\u001B[0m\u001B[0;34m\u001B[0m\u001B[0;34m\u001B[0m\u001B[0m\n",
      "\u001B[0;32m~/opt/anaconda3/envs/Capstone/lib/python3.9/site-packages/catboost/core.py\u001B[0m in \u001B[0;36m_check_label_shape\u001B[0;34m(self, label, samples_count)\u001B[0m\n\u001B[1;32m    732\u001B[0m         \"\"\"\n\u001B[1;32m    733\u001B[0m         \u001B[0;32mif\u001B[0m \u001B[0mlen\u001B[0m\u001B[0;34m(\u001B[0m\u001B[0mlabel\u001B[0m\u001B[0;34m)\u001B[0m \u001B[0;34m!=\u001B[0m \u001B[0msamples_count\u001B[0m\u001B[0;34m:\u001B[0m\u001B[0;34m\u001B[0m\u001B[0;34m\u001B[0m\u001B[0m\n\u001B[0;32m--> 734\u001B[0;31m             \u001B[0;32mraise\u001B[0m \u001B[0mCatBoostError\u001B[0m\u001B[0;34m(\u001B[0m\u001B[0;34m\"Length of label={} and length of data={} is different.\"\u001B[0m\u001B[0;34m.\u001B[0m\u001B[0mformat\u001B[0m\u001B[0;34m(\u001B[0m\u001B[0mlen\u001B[0m\u001B[0;34m(\u001B[0m\u001B[0mlabel\u001B[0m\u001B[0;34m)\u001B[0m\u001B[0;34m,\u001B[0m \u001B[0msamples_count\u001B[0m\u001B[0;34m)\u001B[0m\u001B[0;34m)\u001B[0m\u001B[0;34m\u001B[0m\u001B[0;34m\u001B[0m\u001B[0m\n\u001B[0m\u001B[1;32m    735\u001B[0m \u001B[0;34m\u001B[0m\u001B[0m\n\u001B[1;32m    736\u001B[0m     \u001B[0;32mdef\u001B[0m \u001B[0m_check_baseline_type\u001B[0m\u001B[0;34m(\u001B[0m\u001B[0mself\u001B[0m\u001B[0;34m,\u001B[0m \u001B[0mbaseline\u001B[0m\u001B[0;34m)\u001B[0m\u001B[0;34m:\u001B[0m\u001B[0;34m\u001B[0m\u001B[0;34m\u001B[0m\u001B[0m\n",
      "\u001B[0;31mCatBoostError\u001B[0m: Length of label=7986 and length of data=8021 is different."
     ]
    }
   ],
   "source": [
    "\n",
    "# Setting up the model\n",
    "model = CatBoostClassifier(\n",
    "    # Adding Accuracy as a metric\n",
    "    custom_loss=[metrics.Accuracy()],\n",
    "    random_seed=15,\n",
    "    logging_level='Silent'\n",
    ")\n",
    "# Fitting the model to training data\n",
    "model.fit(\n",
    "    X_train, y_train,\n",
    "    # Using X/y test as eval set\n",
    "    eval_set=(X_test, y_test),\n",
    "    # Plot the learning of the model\n",
    "    plot=True\n",
    ");"
   ]
  },
  {
   "cell_type": "code",
   "execution_count": null,
   "metadata": {
    "pycharm": {
     "name": "#%%\n"
    }
   },
   "outputs": [],
   "source": [
    "# Printing training and testing scores.\n",
    "print(\"Training Scores\")\n",
    "custom_score(X_train, y_train, model)\n",
    "print('\\t')\n",
    "print('Testing Scores')\n",
    "FSM_results = custom_score(X_test, y_test, model)"
   ]
  },
  {
   "cell_type": "code",
   "execution_count": null,
   "metadata": {
    "pycharm": {
     "name": "#%%\n"
    }
   },
   "outputs": [],
   "source": [
    "# Creating a confusion matrix for the base model\n",
    "base_matrix = ConfusionMatrixDisplay.from_predictions(y_test, model.predict(X_test), display_labels=['Undiagnosed','Diagnosed' ])"
   ]
  },
  {
   "cell_type": "markdown",
   "metadata": {
    "pycharm": {
     "name": "#%% md\n"
    }
   },
   "source": [
    "#### Analysis\n",
    "Catboost has done quite well for a baseline model! The training set has higher scores then the test set, meaning there is some overfitting occurring here. There is a very large drop in recall between the training and test set.\n",
    "\n",
    "The model has a precision of 0.74 —in other words, **when it predicts a child is diagnosed with ADHD, it is correct 74% of the time**.\n",
    "\n",
    "Our model has a recall of 0.56—in other words, **it correctly identifies 56% of all children with ADHD**.\n",
    "\n",
    "The recall score, in particular needs to be improved. The class imbalance needs to be addressed before tuning. Some options:\n",
    "   - Class weights\n",
    "   - Over/Undersampling\n",
    "   - SMOTE (Make more samples)\n",
    "\n",
    "Catboost does support class weights, so that will be first since it is the simplest to implement."
   ]
  },
  {
   "cell_type": "markdown",
   "metadata": {
    "pycharm": {
     "name": "#%% md\n"
    }
   },
   "source": [
    "# Addressing Class Imbalance"
   ]
  },
  {
   "cell_type": "markdown",
   "metadata": {
    "pycharm": {
     "name": "#%% md\n"
    }
   },
   "source": [
    "## Catboost - Class Weights"
   ]
  },
  {
   "cell_type": "code",
   "execution_count": null,
   "metadata": {
    "pycharm": {
     "name": "#%%\n"
    }
   },
   "outputs": [],
   "source": [
    "# Setting up the model\n",
    "weighted_cat = CatBoostClassifier(\n",
    "    # Adding Accuracy as a metric\n",
    "    custom_loss=[metrics.Accuracy(), metrics.Recall(), metrics.Precision()],\n",
    "    random_seed=15,\n",
    "    logging_level='Silent',\n",
    "    # Setting class weights to 'balanced'\n",
    "    auto_class_weights='Balanced'\n",
    ")\n",
    "\n",
    "weighted_cat.fit(\n",
    "    X_train, y_train,\n",
    "    # Using X/y test as eval set\n",
    "    eval_set=(X_test, y_test),\n",
    "    # Uncomment below line to plot the learning of the model\n",
    "    # plot=True\n",
    ");\n",
    "# Results on test set\n",
    "weighted_results = custom_score(X_test, y_test, weighted_cat)"
   ]
  },
  {
   "cell_type": "code",
   "execution_count": null,
   "metadata": {
    "pycharm": {
     "name": "#%%\n"
    }
   },
   "outputs": [],
   "source": [
    "# Printing changes between base model and weighted model\n",
    "custom_change(FSM_results, weighted_results)"
   ]
  },
  {
   "cell_type": "markdown",
   "metadata": {},
   "source": [
    "### Analysis\n",
    "Adding the weights flipped our model around, now precision has dropped, and recall has improved significantly. For this project, I’d prefer recall over precision because I don’t want the model to be missing kids that may have, potentially, already been passed over/ignored by doctors. I think the gain in recall and ROC/AUC is well worth the loss of precision, but let’s see the results of the other methods."
   ]
  },
  {
   "cell_type": "markdown",
   "metadata": {
    "pycharm": {
     "name": "#%% md\n"
    }
   },
   "source": [
    "## Random Oversampling\n",
    "I’m going to use the imbalanced-learn library to perform oversampling/ SMOTE techniques."
   ]
  },
  {
   "cell_type": "code",
   "execution_count": null,
   "metadata": {
    "pycharm": {
     "name": "#%%\n"
    }
   },
   "outputs": [],
   "source": [
    "# Initiate Over sampler\n",
    "ros = RandomOverSampler(random_state=15)\n",
    "\n",
    "# Applying ONLY to training set to prevent data leakage.\n",
    "X_train_os, y_train_os = ros.fit_resample(X_train, y_train)"
   ]
  },
  {
   "cell_type": "code",
   "execution_count": null,
   "metadata": {
    "pycharm": {
     "name": "#%%\n"
    }
   },
   "outputs": [],
   "source": [
    "# Setting up the model\n",
    "over_cat = CatBoostClassifier(\n",
    "    # Adding Accuracy as a metric\n",
    "    custom_loss=[metrics.Accuracy(), metrics.Recall(), metrics.Precision()],\n",
    "    random_seed=15,\n",
    "    logging_level='Silent',\n",
    ")\n",
    "\n",
    "over_cat.fit(\n",
    "    X_train_os, y_train_os,\n",
    "    # Using X/y test as eval set\n",
    "    eval_set=(X_test, y_test),\n",
    "    # Uncomment below line to plot the learning of the model\n",
    "    # plot=True\n",
    ");"
   ]
  },
  {
   "cell_type": "code",
   "execution_count": null,
   "metadata": {
    "pycharm": {
     "name": "#%%\n"
    }
   },
   "outputs": [],
   "source": [
    "# Printing results on test set\n",
    "os_results = custom_score(X_test, y_test, over_cat)"
   ]
  },
  {
   "cell_type": "code",
   "execution_count": null,
   "metadata": {
    "pycharm": {
     "name": "#%%\n"
    }
   },
   "outputs": [],
   "source": [
    "# Printing the difference between BASE and os_results\n",
    "print('Difference between Base model and model with oversampling ')\n",
    "custom_change(FSM_results, os_results)"
   ]
  },
  {
   "cell_type": "code",
   "execution_count": null,
   "metadata": {
    "pycharm": {
     "name": "#%%\n"
    }
   },
   "outputs": [],
   "source": [
    "print('Difference between Weighted model and model with oversampling ')\n",
    "custom_change(weighted_results, os_results)"
   ]
  },
  {
   "cell_type": "markdown",
   "metadata": {
    "pycharm": {
     "name": "#%% md\n"
    }
   },
   "source": [
    "### Analysis\n",
    "This model seems to be a \"middle ground\" between the weighted model and the base model. Rather then having really high recall or precision, it has a decent score on both, and still manages to maintain a high ROC/AUC score. There is one more technique I'll try before iterating on one of these models"
   ]
  },
  {
   "cell_type": "markdown",
   "metadata": {},
   "source": [
    "## SMOTEN\n",
    "I'll be using the SMOTEN variant of SMOTE since it is designed specifically for categorical data."
   ]
  },
  {
   "cell_type": "code",
   "execution_count": null,
   "metadata": {
    "pycharm": {
     "name": "#%%\n"
    }
   },
   "outputs": [],
   "source": [
    "# Create SMOTE object\n",
    "smote = SMOTEN(random_state=15)\n",
    "\n",
    "# Smite that training data\n",
    "X_smote, y_smote = smote.fit_resample(X_train, y_train)"
   ]
  },
  {
   "cell_type": "code",
   "execution_count": null,
   "metadata": {
    "pycharm": {
     "name": "#%%\n"
    }
   },
   "outputs": [],
   "source": [
    "# Setting up the model\n",
    "smote_cat = CatBoostClassifier(\n",
    "    custom_loss=[metrics.Accuracy(), metrics.Recall(), metrics.Precision()],\n",
    "    random_seed=15,\n",
    "    logging_level='Silent',\n",
    ")\n",
    "\n",
    "smote_cat.fit(\n",
    "    X_smote, y_smote,\n",
    "    # Using X/y test as eval set\n",
    "    eval_set=(X_test, y_test),\n",
    "    # Uncomment below line to plot the learning of the model\n",
    "    # plot=True\n",
    ");"
   ]
  },
  {
   "cell_type": "code",
   "execution_count": null,
   "metadata": {
    "pycharm": {
     "name": "#%%\n"
    }
   },
   "outputs": [],
   "source": [
    "# Printing results on test set\n",
    "smote_results = custom_score(X_test, y_test, smote_cat)"
   ]
  },
  {
   "cell_type": "code",
   "execution_count": null,
   "metadata": {
    "pycharm": {
     "name": "#%%\n"
    }
   },
   "outputs": [],
   "source": [
    "# Printing the difference between FSM and os_results\n",
    "print('Difference between Base model and SMOTEN model ')\n",
    "custom_change(FSM_results, smote_results)"
   ]
  },
  {
   "cell_type": "code",
   "execution_count": null,
   "metadata": {
    "pycharm": {
     "name": "#%%\n"
    }
   },
   "outputs": [],
   "source": [
    "# Compare to Oversampling results\n",
    "print('Difference between random oversampling model and SMOTEN model')\n",
    "custom_change(os_results, smote_results)"
   ]
  },
  {
   "cell_type": "markdown",
   "metadata": {
    "pycharm": {
     "name": "#%% md\n"
    }
   },
   "source": [
    "## Smote Analysis\n",
    "Smote performs slightly worse then both of the other options, in almost every way. It even manages to do worse then our first simple model. it has an advantage in precision when compared to the oversampling model, but I think SMOTEN is struggling with creating survey data.\n",
    "# Class Imbalance Analysis\n",
    "After checking the three suggested methods: Class weights, oversampling, and SMOTE, I'm going to use **Class weights** since it gave the highest recall results. Now, before starting the process of tuning the model, there's one more thing I'd like to address."
   ]
  },
  {
   "cell_type": "markdown",
   "source": [
    "# Removing Features\n",
    "Currently, there are over 400 features in the dataset. While doing exploratory data analysis there were columns I saw that definitely won't have an affect on whether a child has ADHD or not. These irrelevant features are creating additional noise that will reduce the performance of the model. Rather then going through all 400+ features by hand and selecting one's I think are important, I can have Catboost select the most important features."
   ],
   "metadata": {
    "collapsed": false
   }
  },
  {
   "cell_type": "code",
   "execution_count": null,
   "outputs": [],
   "source": [
    "from catboost import EFeaturesSelectionAlgorithm\n",
    "from catboost import EShapCalcType\n",
    "\n",
    "# Instantiate model for selecting features\n",
    "feature_model = CatBoostClassifier(iterations=1000, random_seed=15)\n",
    "\n",
    "# Saves a dictictonary containing the lists of features selected and features removed\n",
    "summary = feature_model.select_features(\n",
    "    X_train,\n",
    "    y_train,\n",
    "    eval_set=(X_test, y_test),\n",
    "    features_for_select='0-406', # Feature indices to include in search\n",
    "    num_features_to_select=250, # Number of features to reduce to.\n",
    "    steps=3,\n",
    "    algorithm=EFeaturesSelectionAlgorithm.RecursiveByShapValues,\n",
    "    shap_calc_type=EShapCalcType.Regular,\n",
    "    train_final_model=True, # Also train a final model for scoring\n",
    "    logging='Silent'\n",
    ")"
   ],
   "metadata": {
    "collapsed": false,
    "pycharm": {
     "name": "#%%\n"
    }
   }
  },
  {
   "cell_type": "code",
   "execution_count": null,
   "outputs": [],
   "source": [
    "# Score the results\n",
    "feature_results = custom_score(X_test, y_test, feature_model)"
   ],
   "metadata": {
    "collapsed": false,
    "pycharm": {
     "name": "#%%\n"
    }
   }
  },
  {
   "cell_type": "code",
   "execution_count": null,
   "outputs": [],
   "source": [
    "custom_change(FSM_results, feature_results)"
   ],
   "metadata": {
    "collapsed": false,
    "pycharm": {
     "name": "#%%\n"
    }
   }
  },
  {
   "cell_type": "code",
   "execution_count": null,
   "outputs": [],
   "source": [
    "# Removing eliminated features from training and test sets.\n",
    "X_train.drop(columns=summary['eliminated_features_names'], inplace=True)\n",
    "X_test.drop(columns=summary['eliminated_features_names'], inplace=True)"
   ],
   "metadata": {
    "collapsed": false,
    "pycharm": {
     "name": "#%%\n"
    }
   }
  },
  {
   "cell_type": "markdown",
   "metadata": {
    "pycharm": {
     "name": "#%% md\n"
    }
   },
   "source": [
    "# Hyper-parameter tuning with Optima\n",
    "From here, I will be tuning our Catboost model using the [Optuna](https://optuna.readthedocs.io/en/stable/index.html) library. The library will allow me to easily test many hyper-parameters to find the optimal configuration."
   ]
  },
  {
   "cell_type": "code",
   "execution_count": null,
   "metadata": {
    "pycharm": {
     "name": "#%%\n"
    }
   },
   "outputs": [],
   "source": [
    "# Importing packages needed for this section\n",
    "from sklearn.metrics import roc_auc_score, f1_score, recall_score, accuracy_score\n",
    "import optuna"
   ]
  },
  {
   "cell_type": "code",
   "execution_count": null,
   "metadata": {
    "pycharm": {
     "name": "#%%\n"
    }
   },
   "outputs": [],
   "source": [
    "# Optuna requires us to define the \"objective function\". Which will be called upon each iteration during our \"trials\"\n",
    "def objective(trial):\n",
    "    # Dict of Parameters to check\n",
    "    param = {\n",
    "        # Metric used for model optimization\n",
    "        # 'loss_function': trial.suggest_categorical('loss_function', ['Logloss', 'CrossEntropy']),\n",
    "\n",
    "        # The maximum number of trees that can be built.\n",
    "        'iterations': trial.suggest_categorical('iterations', [100, 200, 300, 500, 1000]),\n",
    "\n",
    "        # learning rate for gradient descent calculations.\n",
    "        'learning_rate': trial.suggest_float(\"learning_rate\", 0.001, 0.3),\n",
    "\n",
    "        # Coefficient at the L2 regularization term of the cost function.\n",
    "        'l2_leaf_reg': trial.suggest_loguniform(\"l2_leaf_reg\", 1e-8, 100),\n",
    "\n",
    "        # Affects the speed and regularization of tree\n",
    "        'bootstrap_type': trial.suggest_categorical('bootstrap_type', ['Bayesian', 'Bernoulli', 'MVS']),\n",
    "\n",
    "        # The amount of randomness to use for scoring splits.\n",
    "        'random_strength': trial.suggest_int(\"random_strength\", 1, 10),\n",
    "\n",
    "        # The number of splits for numerical features.\n",
    "        'max_bin': trial.suggest_categorical('max_bin', [4, 5, 6, 8, 10, 20, 30]),\n",
    "\n",
    "        # Allowed depth of tree.\n",
    "        \"depth\": trial.suggest_int(\"max_depth\", 2, 16),\n",
    "\n",
    "        # Defines how to perform greedy tree construction.\n",
    "        'grow_policy': trial.suggest_categorical('grow_policy', ['SymmetricTree', 'Depthwise', 'Lossguide']),\n",
    "\n",
    "        # The minimum number of training samples in a leaf.\n",
    "        'min_data_in_leaf': trial.suggest_int(\"min_data_in_leaf\", 1, 10),\n",
    "\n",
    "        # Only OHE encodes features if the number of unique values will be <= the parameter vale.\n",
    "        'one_hot_max_size': trial.suggest_categorical('one_hot_max_size', [5, 10, 12, 100]),\n",
    "\n",
    "        # Class weights setting. Will also check if performance is better without weights\n",
    "        'auto_class_weights': trial.suggest_categorical('auto_class_weights', ['Balanced', 'SqrtBalanced', 'None'])\n",
    "    }\n",
    "\n",
    "    # Certain parameters are \"subparameters\" and can only be set if their parent parameter has a certain value.\n",
    "\n",
    "    # Bootstrap types\n",
    "    if param['bootstrap_type'] == \"Bayesian\":\n",
    "\n",
    "        # Use Baysesian bootstrapping to assign random weights to objects.\n",
    "        param['bagging_temperature'] = trial.suggest_float('bagging_temperature', 0, 10)\n",
    "\n",
    "    elif param['bootstrap_type'] in ['Bernoulli', 'MVS']:\n",
    "        # Sample rate for bagging using Bernoulli/MVS type\n",
    "        param['subsample'] = trial.suggest_float('subsample', 0.1, 1)\n",
    "\n",
    "    # Grow policy params\n",
    "    if param['grow_policy'] != 'SymmetricTree':\n",
    "\n",
    "        # The minimum number of training samples in a leaf.\n",
    "        param['min_data_in_leaf'] = trial.suggest_int('min_data_in_leaf', 1, 10)\n",
    "\n",
    "        if param['grow_policy'] == 'LossGuide':\n",
    "            # The maximum number of leafs in the tree.\n",
    "            param['max_leaves'] = trial.suggest_int('max_leaves', 16, 64)\n",
    "\n",
    "    # Creates the trial model with parameters specified above.\n",
    "    trial_model = CatBoostClassifier(**param)\n",
    "\n",
    "    # Fit the training model on training data\n",
    "    trial_model.fit(X_train,\n",
    "                    y_train,\n",
    "                    eval_set=[(X_test, y_test)],\n",
    "                    verbose=0,  # Stops Catboost from printing training results.\n",
    "                    early_stopping_rounds=10  # Specify rounds of no improvement needed before stopping\n",
    "                    )\n",
    "\n",
    "    # Create predictions for test set\n",
    "    preds = trial_model.predict(X_test)\n",
    "    # Calculate recall score\n",
    "    recall = recall_score(y_test, preds)\n",
    "\n",
    "    return recall\n"
   ]
  },
  {
   "cell_type": "code",
   "execution_count": null,
   "metadata": {
    "pycharm": {
     "name": "#%%\n"
    }
   },
   "outputs": [],
   "source": [
    "# Instantiate a \"trial\" object and specify we want to MAXIMIZE the value being returned by the obj function\n",
    "study = optuna.create_study(direction=\"maximize\")\n",
    "\n",
    "# Running 100 trials, setting a timeout value of 20 minutes to prevent my computer from exploding.\n",
    "study.optimize(objective, n_trials=100, timeout=1200)\n",
    "\n",
    "print(\"Number of finished trials: {}\".format(len(study.trials)))\n",
    "trial = study.best_trial\n",
    "\n",
    "# \"Prettify\" our trial results\n",
    "print(\"Best trial:\")\n",
    "\n",
    "# Print metric value achieved from best trial\n",
    "print(\"  Value: {}\".format(trial.value))\n",
    "\n",
    "# Print all parameters from best trial\n",
    "print(\"  Params: \")\n",
    "for key, value in trial.params.items():\n",
    "    print(\"    {}: {}\".format(key, value))"
   ]
  },
  {
   "cell_type": "code",
   "execution_count": null,
   "metadata": {
    "pycharm": {
     "name": "#%%\n"
    }
   },
   "outputs": [],
   "source": [
    "# Create a model with the parameters from our best trial\n",
    "final_model = CatBoostClassifier(verbose=False, **trial.params)\n",
    "final_model.fit(X_train, y_train)"
   ]
  },
  {
   "cell_type": "markdown",
   "metadata": {},
   "source": [
    "# Results\n",
    " Before performing analysis let's look at the results, the confusion matrix, and the ROC Curve."
   ]
  },
  {
   "cell_type": "code",
   "execution_count": null,
   "metadata": {
    "pycharm": {
     "name": "#%%\n"
    }
   },
   "outputs": [],
   "source": [
    "# Importing required packages for this section\n",
    "from sklearn.metrics import RocCurveDisplay"
   ]
  },
  {
   "cell_type": "code",
   "execution_count": null,
   "metadata": {
    "pycharm": {
     "name": "#%%\n"
    }
   },
   "outputs": [],
   "source": [
    "# Show custom metrics\n",
    "from functions import metrics as custom_score\n",
    "final_results = custom_score(X_test, y_test, final_model)"
   ]
  },
  {
   "cell_type": "code",
   "execution_count": null,
   "metadata": {
    "pycharm": {
     "name": "#%%\n"
    }
   },
   "outputs": [],
   "source": [
    "# Printing the difference between the oversample model, and the tuned oversample model.\n",
    "print('Difference between Tuned Model and Un-tuned Model')\n",
    "custom_change(FSM_results, final_results)"
   ]
  },
  {
   "cell_type": "code",
   "execution_count": null,
   "metadata": {
    "pycharm": {
     "name": "#%%\n"
    }
   },
   "outputs": [],
   "source": [
    "# Creating a confusion matrix for the final model\n",
    "final_matrix = ConfusionMatrixDisplay.from_predictions(y_test, final_model.predict(X_test), cmap='Reds')"
   ]
  },
  {
   "cell_type": "code",
   "execution_count": null,
   "outputs": [],
   "source": [
    "# Using sklearn function to plot ROC curve from model & data\n",
    "final_roc_curve = RocCurveDisplay.from_estimator(estimator=final_model, X=X_test, y=y_test)"
   ],
   "metadata": {
    "collapsed": false,
    "pycharm": {
     "name": "#%%\n"
    }
   }
  },
  {
   "cell_type": "markdown",
   "metadata": {
    "pycharm": {
     "name": "#%% md\n"
    }
   },
   "source": [
    "## Analysis\n",
    "I chose to optimize on ROC score here, since I'm planning on using the predicted probabilities that a person has undiagnosed ADHD. We gained recall and AUC, however we lost more precision after tuning. We can see that the test set only missed **133 kids** that were diagnosed with ADHD.\n",
    "\n",
    "I would say this is the prefered scenario. If a child is identified as having undiagnosed ADHD, and they don't, then the worst that would happen is they'd see a doctor and have their worries put to rest. However, if the model says a child doesn't have ADHD, and later they **do** have ADHD, then that means more time, frustration, and confusion before they get diagnosed. Not even to mention the frustration of being told that you don't have ADHD, only to find out later that you do.\n",
    "\n",
    "## Hold-out / Validation Dataset\n",
    "Now it's time to do the final test on our model. Time to score it on the validation set."
   ]
  },
  {
   "cell_type": "code",
   "execution_count": null,
   "metadata": {
    "pycharm": {
     "name": "#%%\n"
    }
   },
   "outputs": [],
   "source": [
    "X_val = pd.read_csv('../Data/val/X_val_combo.csv', index_col=0)\n",
    "y_val = pd.read_csv('../Data/val/y_val_combo.csv', index_col=0)\n",
    "\n",
    "X_val.drop(columns=summary['eliminated_features_names'], inplace=True)"
   ]
  },
  {
   "cell_type": "code",
   "execution_count": null,
   "metadata": {
    "pycharm": {
     "name": "#%%\n"
    }
   },
   "outputs": [],
   "source": [
    "validation_scores = custom_score(X_val, y_val, final_model)"
   ]
  },
  {
   "cell_type": "code",
   "execution_count": null,
   "outputs": [],
   "source": [
    "# Save the final model\n",
    "# final_model.save_model('../Model/final_model.cbm', format='cbm')"
   ],
   "metadata": {
    "collapsed": false,
    "pycharm": {
     "name": "#%%\n"
    }
   }
  },
  {
   "cell_type": "markdown",
   "metadata": {
    "pycharm": {
     "name": "#%% md\n"
    }
   },
   "source": [
    "The final model has an **accuracy of 0.90** -in other words, **the model correctly classifies all children in the set 90% of the time**\n",
    "\n",
    "The final model has a **precision of 0.47** —in other words, **when it predicts a child is diagnosed with ADHD, it is correct 47% of the time**.\n",
    "\n",
    "The final model has a **recall of 0.90** —in other words, **it correctly identifies 90% of all children diagnosed with ADHD**."
   ]
  },
  {
   "cell_type": "markdown",
   "metadata": {},
   "source": [
    "# Conclusion\n",
    "This final model could be used with the survey each year, and the kids who the model flagged as having a high chance of undiagnosed ADHD would then have an email sent to their primary caregiver. The email could then explain that their child shows many similarities with those who have been diagnosed with ADHD. Resources for ADHD and recommendations on next steps could be included in the email as well.\n",
    "\n",
    "If the survey administrators don't want this, there is still value in this model. I've shown that it's possible to use machine learning to accurately identify kids with ADHD. Not only this, but I've shown it's possible to do this with just survey data, and if you can identify ADHD using survey data, it could be possible to identify other conditions, like depression, anxiety, and autism as well.\n",
    "\n",
    "Finally, I've used real data to build this model. The model has learned what kids with ADHD may look like, and has used that knowledge to identify others. If this were to be deployed, it could serve as a tool for those seeking answers, but unable to see a doctor to get an offical diagnoses. Certainly better then a quiz on a random website that has no scientific basis at all.\n"
   ]
  },
  {
   "cell_type": "markdown",
   "metadata": {
    "pycharm": {
     "name": "#%% md\n"
    }
   },
   "source": [
    "# Next Steps\n",
    "Moving forward, I'd like to deploy this model in such a way that others can interact with it. Deploying this to a website and allowing people to answer the same questions on the survey would be a great way to show the capabilities of the model.\n",
    "\n",
    "I'm sure the model can be improved in other ways as well, as well as be adapted to identify other types of developmental disorders.\n",
    "\n",
    "Finally, if at all possible, I'd love to have the coroporation of the survey administrators and work on using this model with their next survey."
   ]
  }
 ],
 "metadata": {
  "kernelspec": {
   "display_name": "Python 3 (ipykernel)",
   "language": "python",
   "name": "python3"
  },
  "language_info": {
   "codemirror_mode": {
    "name": "ipython",
    "version": 3
   },
   "file_extension": ".py",
   "mimetype": "text/x-python",
   "name": "python",
   "nbconvert_exporter": "python",
   "pygments_lexer": "ipython3",
   "version": "3.9.7"
  }
 },
 "nbformat": 4,
 "nbformat_minor": 1
}