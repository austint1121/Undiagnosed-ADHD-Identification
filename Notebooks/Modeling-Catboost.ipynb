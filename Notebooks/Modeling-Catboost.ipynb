{
 "cells": [
  {
   "cell_type": "markdown",
   "metadata": {
    "collapsed": true,
    "pycharm": {
     "name": "#%% md\n"
    }
   },
   "source": [
    "# Catboost Modeling and Tuning\n",
    "## Summary\n",
    "In this notebook I will primarily address the class imbalance in the dataset. I'll explore the following techinques and explore how they affect the Catboost model:\n",
    "- Class weights\n",
    "- Random over sampling\n",
    "- SMOTE\n",
    "\n",
    "After checking each of them I'll select one that I feel best addresses the issue."
   ]
  },
  {
   "cell_type": "markdown",
   "metadata": {
    "pycharm": {
     "name": "#%% md\n"
    }
   },
   "source": [
    "# Modeling"
   ]
  },
  {
   "cell_type": "code",
   "execution_count": 2,
   "metadata": {
    "pycharm": {
     "name": "#%%\n"
    }
   },
   "outputs": [],
   "source": [
    "# Import statements\n",
    "import pandas as pd\n",
    "from catboost import CatBoostClassifier, metrics\n",
    "\n",
    "# Importing module for creating confusion matrices.\n",
    "from sklearn.metrics import ConfusionMatrixDisplay\n",
    "\n",
    "from imblearn.over_sampling import RandomOverSampler, SMOTEN\n",
    "\n",
    "# Created functions from functions.py\n",
    "from functions import metrics as custom_score\n",
    "from functions import improvement as custom_change"
   ]
  },
  {
   "cell_type": "code",
   "execution_count": 3,
   "metadata": {
    "pycharm": {
     "name": "#%%\n"
    }
   },
   "outputs": [],
   "source": [
    "# Load in cleaned data\n",
    "\n",
    "# Training Data\n",
    "X_train = pd.read_csv('../Data/train/X_train.csv', index_col=0)\n",
    "y_train = pd.read_csv('../Data/train/y_train.csv', index_col=0)\n",
    "\n",
    "# Testing Data\n",
    "X_test = pd.read_csv('../Data/test/X_test.csv', index_col=0)\n",
    "y_test = pd.read_csv('../Data/test/y_test.csv', index_col=0)"
   ]
  },
  {
   "cell_type": "code",
   "execution_count": 4,
   "metadata": {
    "pycharm": {
     "name": "#%%\n"
    }
   },
   "outputs": [],
   "source": [
    "# Currently the classes are labelled as \"1\" as dignosed ADHD and \"2\" as not diagnosed, but models seem to dislike this.\n",
    "testing = {2: 0, 1: 1}\n",
    "# Using sklearn LabelBinarizer to change classes to \"0\" and \"1\" so that Keras doesn't get confused.\n",
    "labels = y_train.replace(testing)\n",
    "test_labels = y_test.replace(testing)\n",
    "\n",
    "# This cell will be moved into the \"Data cleaning\" notebook in the future."
   ]
  },
  {
   "cell_type": "markdown",
   "metadata": {
    "pycharm": {
     "name": "#%% md\n"
    }
   },
   "source": [
    "## Base Catboost model\n",
    "Without changing anything, lets make the base catboost model again to use as a starting point."
   ]
  },
  {
   "cell_type": "code",
   "execution_count": 5,
   "metadata": {
    "pycharm": {
     "name": "#%%\n"
    }
   },
   "outputs": [],
   "source": [
    "# Setting up the model\n",
    "base = CatBoostClassifier(\n",
    "    # Adding Accuracy as a metric\n",
    "    custom_loss=[metrics.Accuracy()],\n",
    "    random_seed=15,\n",
    "    logging_level='Silent'\n",
    ")\n",
    "\n",
    "base.fit(\n",
    "    X_train, labels,\n",
    "    # Using X/y test as eval set\n",
    "    eval_set=(X_test, test_labels),\n",
    "    # Uncomment below line to plot the learning of the model\n",
    "    # plot=True\n",
    ");"
   ]
  },
  {
   "cell_type": "code",
   "execution_count": 6,
   "metadata": {
    "pycharm": {
     "name": "#%%\n"
    }
   },
   "outputs": [
    {
     "name": "stdout",
     "output_type": "stream",
     "text": [
      "Model Results\n",
      "Accuracy: 0.93\n",
      "Precision: 0.74\n",
      "Recall: 0.56\n",
      "F1: 0.63\n",
      "ROC AUC: 0.77\n"
     ]
    }
   ],
   "source": [
    "# Results on test set\n",
    "base_results = custom_score(test_labels, base.predict(X_test))"
   ]
  },
  {
   "cell_type": "code",
   "execution_count": 7,
   "metadata": {
    "pycharm": {
     "name": "#%%\n"
    }
   },
   "outputs": [
    {
     "data": {
      "text/plain": "<Figure size 432x288 with 2 Axes>",
      "image/png": "[encoded data removed]"
     },
     "metadata": {
      "needs_background": "light"
     },
     "output_type": "display_data"
    }
   ],
   "source": [
    "# Creating a confusion matrix for the base model\n",
    "base_matrix = ConfusionMatrixDisplay.from_predictions(test_labels, base.predict(X_test), display_labels=['Undiagnosed','Diagnosed' ])"
   ]
  },
  {
   "cell_type": "markdown",
   "metadata": {
    "pycharm": {
     "name": "#%% md\n"
    }
   },
   "source": [
    "## Analysis\n",
    "This is a good start, but the model is still having a lot of trouble with the class imbalance.\n",
    "\n",
    "The model has a precision of 0.74 —in other words, **when it predicts a child is diagnosed with ADHD, it is correct 74% of the time**.\n",
    "\n",
    "Our model has a recall of 0.56—in other words, **it correctly identifies 56% of all children with ADHD**.\n",
    "\n",
    "The recall score, in paticular needs to be improved. The class imbalance needs to be addressed before tuning. Some options:\n",
    "   - Class weights\n",
    "   - Over/Undersampling\n",
    "   - SMOTE (Make more samples)\n",
    "\n",
    "Catboost does support class weights, so that will be first since it is the simplest to implement."
   ]
  },
  {
   "cell_type": "markdown",
   "metadata": {
    "pycharm": {
     "name": "#%% md\n"
    }
   },
   "source": [
    "## Class Weights"
   ]
  },
  {
   "cell_type": "code",
   "execution_count": 8,
   "metadata": {
    "pycharm": {
     "name": "#%%\n"
    }
   },
   "outputs": [],
   "source": [
    "# Setting up the model\n",
    "weighted_cat = CatBoostClassifier(\n",
    "    # Adding Accuracy as a metric\n",
    "    custom_loss=[metrics.Accuracy(), metrics.Recall(), metrics.Precision()],\n",
    "    random_seed=15,\n",
    "    logging_level='Silent',\n",
    "    # Setting class weights to 'balanced'\n",
    "    auto_class_weights='Balanced'\n",
    ")\n",
    "\n",
    "weighted_cat.fit(\n",
    "    X_train, labels,\n",
    "    # Using X/y test as eval set\n",
    "    eval_set=(X_test, test_labels),\n",
    "    # Uncomment below line to plot the learning of the model\n",
    "    # plot=True\n",
    ");"
   ]
  },
  {
   "cell_type": "code",
   "execution_count": 9,
   "metadata": {
    "pycharm": {
     "name": "#%%\n"
    }
   },
   "outputs": [
    {
     "name": "stdout",
     "output_type": "stream",
     "text": [
      "Model Results\n",
      "Accuracy: 0.89\n",
      "Precision: 0.49\n",
      "Recall: 0.84\n",
      "F1: 0.62\n",
      "ROC AUC: 0.87\n"
     ]
    }
   ],
   "source": [
    "# Results on test set\n",
    "weighted_results = custom_score(test_labels, weighted_cat.predict(X_test))"
   ]
  },
  {
   "cell_type": "code",
   "execution_count": 10,
   "metadata": {
    "pycharm": {
     "name": "#%%\n"
    }
   },
   "outputs": [
    {
     "name": "stdout",
     "output_type": "stream",
     "text": [
      "Change in Results\n",
      "Accuracy        -0.04\n",
      "Precision       -0.25\n",
      "Recall          +0.29\n",
      "F1              -0.02\n",
      "ROCAUC          +0.10\n"
     ]
    }
   ],
   "source": [
    "# Printing changes between base model and weighted model\n",
    "custom_change(base_results, weighted_results)"
   ]
  },
  {
   "cell_type": "markdown",
   "metadata": {
    "pycharm": {
     "name": "#%% md\n"
    }
   },
   "source": [
    "## Analysis\n",
    "Adding the weights flipped our model around, now precision has dropped, and recall has improved significantly. For this project, I'd prefer recall over precision. I don't want the model to be missing kids that may have, potentially, already been ignored by doctors. I think the gain in recall and ROC/AUC is well worth the loss of precision, but let's see if one of the other methods works better."
   ]
  },
  {
   "cell_type": "markdown",
   "metadata": {
    "pycharm": {
     "name": "#%% md\n"
    }
   },
   "source": [
    "## Random Oversampling\n",
    "I'm going to use the [imbalanced-learn](https://imbalanced-learn.org/stable/index.html) library to perform oversampling/ SMOTE techinques."
   ]
  },
  {
   "cell_type": "code",
   "execution_count": 11,
   "metadata": {
    "pycharm": {
     "name": "#%%\n"
    }
   },
   "outputs": [],
   "source": [
    "# Initiate Over sampler\n",
    "ros = RandomOverSampler(random_state=15)\n",
    "\n",
    "# Applying ONLY to training set to prevent data leakage.\n",
    "X_train_os, y_train_os = ros.fit_resample(X_train, labels)"
   ]
  },
  {
   "cell_type": "code",
   "execution_count": 12,
   "metadata": {
    "pycharm": {
     "name": "#%%\n"
    }
   },
   "outputs": [],
   "source": [
    "# Setting up the model\n",
    "over_cat = CatBoostClassifier(\n",
    "    # Adding Accuracy as a metric\n",
    "    custom_loss=[metrics.Accuracy(), metrics.Recall(), metrics.Precision()],\n",
    "    random_seed=15,\n",
    "    logging_level='Silent',\n",
    ")\n",
    "\n",
    "over_cat.fit(\n",
    "    X_train_os, y_train_os,\n",
    "    # Using X/y test as eval set\n",
    "    eval_set=(X_test, test_labels),\n",
    "    # Uncomment below line to plot the learning of the model\n",
    "    # plot=True\n",
    ");"
   ]
  },
  {
   "cell_type": "code",
   "execution_count": 13,
   "metadata": {
    "pycharm": {
     "name": "#%%\n"
    }
   },
   "outputs": [
    {
     "name": "stdout",
     "output_type": "stream",
     "text": [
      "Model Results\n",
      "Accuracy: 0.92\n",
      "Precision: 0.60\n",
      "Recall: 0.71\n",
      "F1: 0.65\n",
      "ROC AUC: 0.83\n"
     ]
    }
   ],
   "source": [
    "# Printing results on test set\n",
    "os_results = custom_score(test_labels, over_cat.predict(X_test))"
   ]
  },
  {
   "cell_type": "code",
   "execution_count": 14,
   "outputs": [
    {
     "name": "stdout",
     "output_type": "stream",
     "text": [
      "Difference between Base model and model with oversampling \n",
      "Change in Results\n",
      "Accuracy        -0.01\n",
      "Precision       -0.13\n",
      "Recall          +0.15\n",
      "F1              +0.02\n",
      "ROCAUC          +0.06\n"
     ]
    }
   ],
   "source": [
    "# Printing the difference between BASE and os_results\n",
    "print('Difference between Base model and model with oversampling ')\n",
    "custom_change(base_results, os_results)"
   ],
   "metadata": {
    "collapsed": false,
    "pycharm": {
     "name": "#%%\n"
    }
   }
  },
  {
   "cell_type": "code",
   "execution_count": 15,
   "outputs": [
    {
     "name": "stdout",
     "output_type": "stream",
     "text": [
      "Difference between Weighted model and model with oversampling \n",
      "Change in Results\n",
      "Accuracy        +0.03\n",
      "Precision       +0.12\n",
      "Recall          -0.14\n",
      "F1              +0.03\n",
      "ROCAUC          -0.04\n"
     ]
    }
   ],
   "source": [
    "print('Difference between Weighted model and model with oversampling ')\n",
    "custom_change(weighted_results, os_results)"
   ],
   "metadata": {
    "collapsed": false,
    "pycharm": {
     "name": "#%%\n"
    }
   }
  },
  {
   "cell_type": "markdown",
   "source": [
    "## Analysis\n",
    "This model seems to be a \"middle ground\" between the weighted model and the base model. Rather then having really high accuracy or precision, it has a decent score on both, and still manages to maintain a high ROC/AUC score. There is one more technique I'll try before sticking with one of these."
   ],
   "metadata": {
    "collapsed": false,
    "pycharm": {
     "name": "#%% md\n"
    }
   }
  },
  {
   "cell_type": "markdown",
   "source": [
    "# SMOTEN\n",
    "I'll be using SMOTEN since it is designed specifically for categorical data."
   ],
   "metadata": {
    "collapsed": false,
    "pycharm": {
     "name": "#%% md\n"
    }
   }
  },
  {
   "cell_type": "code",
   "execution_count": 16,
   "outputs": [],
   "source": [
    "# Create SMOTE object\n",
    "smote = SMOTEN(random_state=15)\n",
    "\n",
    "# Smite that training data\n",
    "X_smote, y_smote = smote.fit_resample(X_train, labels)"
   ],
   "metadata": {
    "collapsed": false,
    "pycharm": {
     "name": "#%%\n"
    }
   }
  },
  {
   "cell_type": "code",
   "execution_count": 24,
   "outputs": [],
   "source": [
    "# Setting up the model\n",
    "smote_cat = CatBoostClassifier(\n",
    "    custom_loss=[metrics.Accuracy(), metrics.Recall(), metrics.Precision()],\n",
    "    random_seed=15,\n",
    "    logging_level='Silent',\n",
    ")\n",
    "\n",
    "smote_cat.fit(\n",
    "    X_smote, y_smote,\n",
    "    # Using X/y test as eval set\n",
    "    eval_set=(X_test, test_labels),\n",
    "    # Uncomment below line to plot the learning of the model\n",
    "    # plot=True\n",
    ");"
   ],
   "metadata": {
    "collapsed": false,
    "pycharm": {
     "name": "#%%\n"
    }
   }
  },
  {
   "cell_type": "code",
   "execution_count": 25,
   "outputs": [
    {
     "name": "stdout",
     "output_type": "stream",
     "text": [
      "Model Results\n",
      "Accuracy: 0.93\n",
      "Precision: 0.70\n",
      "Recall: 0.57\n",
      "F1: 0.63\n",
      "ROC AUC: 0.77\n"
     ]
    }
   ],
   "source": [
    "# Printing results on test set\n",
    "smote_results = custom_score(test_labels, smote_cat.predict(X_test))"
   ],
   "metadata": {
    "collapsed": false,
    "pycharm": {
     "name": "#%%\n"
    }
   }
  },
  {
   "cell_type": "code",
   "execution_count": 26,
   "outputs": [
    {
     "name": "stdout",
     "output_type": "stream",
     "text": [
      "Change in Results\n",
      "Accuracy        +0.01\n",
      "Precision       +0.09\n",
      "Recall          -0.14\n",
      "F1              -0.03\n",
      "ROCAUC          -0.06\n"
     ]
    }
   ],
   "source": [
    "# Compare to Oversampling results\n",
    "custom_change(os_results, smote_results)"
   ],
   "metadata": {
    "collapsed": false,
    "pycharm": {
     "name": "#%%\n"
    }
   }
  },
  {
   "cell_type": "markdown",
   "source": [
    "## Analysis\n",
    "Smote performs slightly worse then both of the other options, in almost every way. Survey data does not seem to work well with SMOTE."
   ],
   "metadata": {
    "collapsed": false,
    "pycharm": {
     "name": "#%% md\n"
    }
   }
  },
  {
   "cell_type": "markdown",
   "source": [
    "# Conclusion\n",
    "After checking the three suggested methods: Class weights, oversampling, and SMOTE I think theres a clear winner here. I'm going to use **Random Over Sampling** since it gave the most balanced results. I could try playing with the class weights a bit more, but I think it would require a lot more time, and probably won't result in an equally large increase to performance. Now, I'll perform oversampling and start the process of tuning the model."
   ],
   "metadata": {
    "collapsed": false,
    "pycharm": {
     "name": "#%% md\n"
    }
   }
  },
  {
   "cell_type": "code",
   "execution_count": null,
   "outputs": [],
   "source": [],
   "metadata": {
    "collapsed": false,
    "pycharm": {
     "name": "#%%\n"
    }
   }
  }
 ],
 "metadata": {
  "kernelspec": {
   "display_name": "Python 3 (ipykernel)",
   "language": "python",
   "name": "python3"
  },
  "language_info": {
   "codemirror_mode": {
    "name": "ipython",
    "version": 3
   },
   "file_extension": ".py",
   "mimetype": "text/x-python",
   "name": "python",
   "nbconvert_exporter": "python",
   "pygments_lexer": "ipython3",
   "version": "3.9.7"
  }
 },
 "nbformat": 4,
 "nbformat_minor": 1
}