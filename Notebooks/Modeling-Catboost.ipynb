{
 "cells": [
  {
   "cell_type": "markdown",
   "metadata": {
    "collapsed": true,
    "pycharm": {
     "name": "#%% md\n"
    }
   },
   "source": [
    "# Catboost Modeling and Tuning\n",
    "## Summary\n",
    "In this notebook I do catboost and tuning"
   ]
  },
  {
   "cell_type": "markdown",
   "source": [
    "# Modeling"
   ],
   "metadata": {
    "collapsed": false,
    "pycharm": {
     "name": "#%% md\n"
    }
   }
  },
  {
   "cell_type": "code",
   "execution_count": 12,
   "outputs": [],
   "source": [
    "# Import statements\n",
    "import pandas as pd\n",
    "from catboost import CatBoostClassifier, Pool, metrics, cv\n",
    "from sklearn.preprocessing import LabelBinarizer\n",
    "from functions import metrics as custom_score\n",
    "from functions import improvement as custom_change"
   ],
   "metadata": {
    "collapsed": false,
    "pycharm": {
     "name": "#%%\n"
    }
   }
  },
  {
   "cell_type": "code",
   "execution_count": 13,
   "outputs": [],
   "source": [
    "# Load in cleaned data\n",
    "\n",
    "# Training Data\n",
    "X_train = pd.read_csv('../Data/train/X_train.csv', index_col=0)\n",
    "y_train = pd.read_csv('../Data/train/y_train.csv', index_col=0)\n",
    "\n",
    "# Testing Data\n",
    "X_test = pd.read_csv('../Data/test/X_test.csv', index_col=0)\n",
    "y_test = pd.read_csv('../Data/test/y_test.csv', index_col=0)"
   ],
   "metadata": {
    "collapsed": false,
    "pycharm": {
     "name": "#%%\n"
    }
   }
  },
  {
   "cell_type": "code",
   "execution_count": 14,
   "outputs": [],
   "source": [
    "# Currently the classes are labelled as \"1\" as dignosed ADHD and \"2\" as not diagnosed, but models seem to dislike this.\n",
    "lb = LabelBinarizer()\n",
    "# Using sklearn LabelBinarizer to change classes to \"0\" and \"1\" so that Keras doesn't get confused.\n",
    "labels = lb.fit_transform(y_train)\n",
    "test_labels = lb.transform(y_test)\n",
    "\n",
    "# This cell will be moved into the \"Data cleaning\" notebook in the future."
   ],
   "metadata": {
    "collapsed": false,
    "pycharm": {
     "name": "#%%\n"
    }
   }
  },
  {
   "cell_type": "markdown",
   "source": [
    "## Base Catboost model\n",
    "Without changing anything, lets make the base catboost model again to use as a starting point."
   ],
   "metadata": {
    "collapsed": false,
    "pycharm": {
     "name": "#%% md\n"
    }
   }
  },
  {
   "cell_type": "code",
   "execution_count": 15,
   "outputs": [],
   "source": [
    "# Setting up the model\n",
    "base = CatBoostClassifier(\n",
    "    # Adding Accuracy as a metric\n",
    "    custom_loss=[metrics.Accuracy()],\n",
    "    random_seed=15,\n",
    "    logging_level='Silent'\n",
    ")\n",
    "\n",
    "base.fit(\n",
    "    X_train, labels,\n",
    "    # Using X/y test as eval set\n",
    "    eval_set=(X_test, test_labels),\n",
    "    # Uncomment below line to plot the learning of the model\n",
    "    # plot=True\n",
    ");"
   ],
   "metadata": {
    "collapsed": false,
    "pycharm": {
     "name": "#%%\n"
    }
   }
  },
  {
   "cell_type": "code",
   "execution_count": 16,
   "outputs": [
    {
     "name": "stdout",
     "output_type": "stream",
     "text": [
      "Accuracy: 0.93\n",
      "Precision: 0.95\n",
      "Recall: 0.98\n",
      "F1: 0.96\n",
      "ROC AUC: 0.77\n"
     ]
    },
    {
     "data": {
      "text/plain": "{'Accuracy': 0.9341347357876284,\n 'Precision': 0.951534075481944,\n 'Recall': 0.9764558372805795,\n 'F1': 0.9638338833883388,\n 'ROCAUC': 0.7673120770561314}"
     },
     "execution_count": 16,
     "metadata": {},
     "output_type": "execute_result"
    }
   ],
   "source": [
    "custom_score(test_labels, base.predict(X_test))"
   ],
   "metadata": {
    "collapsed": false,
    "pycharm": {
     "name": "#%%\n"
    }
   }
  },
  {
   "cell_type": "code",
   "execution_count": 16,
   "outputs": [],
   "source": [
    "Accuracy: 0.93\n",
    "Precision: 0.73\n",
    "Recall: 0.56\n",
    "F1: 0.63"
   ],
   "metadata": {
    "collapsed": false,
    "pycharm": {
     "name": "#%%\n"
    }
   }
  }
 ],
 "metadata": {
  "kernelspec": {
   "display_name": "Python 3",
   "language": "python",
   "name": "python3"
  },
  "language_info": {
   "codemirror_mode": {
    "name": "ipython",
    "version": 2
   },
   "file_extension": ".py",
   "mimetype": "text/x-python",
   "name": "python",
   "nbconvert_exporter": "python",
   "pygments_lexer": "ipython2",
   "version": "2.7.6"
  }
 },
 "nbformat": 4,
 "nbformat_minor": 0
}