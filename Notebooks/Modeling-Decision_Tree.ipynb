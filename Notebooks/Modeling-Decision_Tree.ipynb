{
 "cells": [
  {
   "cell_type": "markdown",
   "metadata": {
    "collapsed": true,
    "pycharm": {
     "name": "#%% md\n"
    }
   },
   "source": [
    "# Modeling - Sklearn Decision Tree"
   ]
  },
  {
   "cell_type": "markdown",
   "source": [
    "## Summary\n",
    "If a simpler model can get results that are as good as a more complex model, it is better to use the simpler one, to maintain interpretability and keep computational costs low. In this notebook, I'm going to spend a little time seeing how good a base decision tree from sklearn can get."
   ],
   "metadata": {
    "collapsed": false,
    "pycharm": {
     "name": "#%% md\n"
    }
   }
  },
  {
   "cell_type": "markdown",
   "source": [
    "# DT Modeling"
   ],
   "metadata": {
    "collapsed": false,
    "pycharm": {
     "name": "#%% md\n"
    }
   }
  },
  {
   "cell_type": "code",
   "execution_count": 37,
   "outputs": [],
   "source": [
    "# Import statements\n",
    "import pandas as pd\n",
    "from sklearn.tree import DecisionTreeClassifier\n",
    "from sklearn.model_selection import GridSearchCV\n",
    "from sklearn.metrics import balanced_accuracy_score\n",
    "# Importing metrics function from functions.py\n",
    "from functions import metrics as custom_score\n",
    "from functions import improvement as custom_change\n"
   ],
   "metadata": {
    "collapsed": false,
    "pycharm": {
     "name": "#%%\n"
    }
   }
  },
  {
   "cell_type": "code",
   "execution_count": 17,
   "outputs": [],
   "source": [
    "# Load in cleaned data.\n",
    "\n",
    "# Training Data\n",
    "X_train = pd.read_csv('../Data/train/X_train.csv', index_col=0)\n",
    "y_train = pd.read_csv('../Data/train/y_train.csv', index_col=0)\n",
    "\n",
    "# Testing Data\n",
    "X_test = pd.read_csv('../Data/test/X_test.csv', index_col=0)\n",
    "y_test = pd.read_csv('../Data/test/y_test.csv', index_col=0)"
   ],
   "metadata": {
    "collapsed": false,
    "pycharm": {
     "name": "#%%\n"
    }
   }
  },
  {
   "cell_type": "markdown",
   "source": [
    "## Base DT Model\n",
    "Re-creating a base decision tree to compare our models too going forward"
   ],
   "metadata": {
    "collapsed": false,
    "pycharm": {
     "name": "#%% md\n"
    }
   }
  },
  {
   "cell_type": "code",
   "execution_count": 18,
   "outputs": [
    {
     "name": "stdout",
     "output_type": "stream",
     "text": [
      "Accuracy: 0.90\n",
      "Precision: 0.50\n",
      "Recall: 0.54\n",
      "F1: 0.52\n",
      "ROC AUC: 0.74\n"
     ]
    }
   ],
   "source": [
    "# Instantiating Tree\n",
    "FSM_DT = DecisionTreeClassifier(random_state=15)\n",
    "\n",
    "# Fitting Model\n",
    "FSM_DT.fit(X_train, y_train)\n",
    "\n",
    "# Score on the testing data.\n",
    "FSM_results = custom_score(y_test, FSM_DT.predict(X_test))"
   ],
   "metadata": {
    "collapsed": false,
    "pycharm": {
     "name": "#%%\n"
    }
   }
  },
  {
   "cell_type": "markdown",
   "source": [
    "### Analysis\n",
    "Remember that **guessing one class, a \"modeless baseline,\" would result in 90% accuracy**. There are some quick things we could do to improve this model's performance"
   ],
   "metadata": {
    "collapsed": false,
    "pycharm": {
     "name": "#%% md\n"
    }
   }
  },
  {
   "cell_type": "markdown",
   "source": [
    "## DT with Maximum Depth\n",
    "The model is dramatically overfitting to the training data, making it less generalizable when it comes to unseen data. Setting a maximum depth should help."
   ],
   "metadata": {
    "collapsed": false,
    "pycharm": {
     "name": "#%% md\n"
    }
   }
  },
  {
   "cell_type": "code",
   "execution_count": 19,
   "outputs": [
    {
     "data": {
      "text/plain": "36"
     },
     "execution_count": 19,
     "metadata": {},
     "output_type": "execute_result"
    }
   ],
   "source": [
    "# Checking depth of previous tree\n",
    "FSM_DT.get_depth()"
   ],
   "metadata": {
    "collapsed": false,
    "pycharm": {
     "name": "#%%\n"
    }
   }
  },
  {
   "cell_type": "code",
   "execution_count": 20,
   "outputs": [
    {
     "name": "stdout",
     "output_type": "stream",
     "text": [
      "Test results\n",
      "Accuracy: 0.92\n",
      "Precision: 0.62\n",
      "Recall: 0.52\n",
      "F1: 0.56\n",
      "ROC AUC: 0.74\n"
     ]
    }
   ],
   "source": [
    "# Let's start with 25, and see if that leads to improvement.\n",
    "DT_depth = DecisionTreeClassifier(max_depth=10, random_state=15)\n",
    "\n",
    "# Fitting on training data\n",
    "DT_depth.fit(X_train, y_train)\n",
    "\n",
    "# Printing training results\n",
    "print('Test results')\n",
    "DT_depth_results = custom_score(y_test, DT_depth.predict(X_test))"
   ],
   "metadata": {
    "collapsed": false,
    "pycharm": {
     "name": "#%%\n"
    }
   }
  },
  {
   "cell_type": "code",
   "execution_count": 21,
   "outputs": [
    {
     "name": "stdout",
     "output_type": "stream",
     "text": [
      "Accuracy        +0.02\n",
      "Precision       +0.12\n",
      "Recall          -0.02\n",
      "F1              +0.04\n",
      "ROCAUC          +0.00\n"
     ]
    }
   ],
   "source": [
    "# Printing the improvement\n",
    "custom_change(FSM_results, DT_depth_results)"
   ],
   "metadata": {
    "collapsed": false,
    "pycharm": {
     "name": "#%%\n"
    }
   }
  },
  {
   "cell_type": "markdown",
   "source": [
    "### Analysis\n",
    "An overall improvement, let's do a quick gridsearch to see what gives us the best results here."
   ],
   "metadata": {
    "collapsed": false,
    "pycharm": {
     "name": "#%% md\n"
    }
   }
  },
  {
   "cell_type": "markdown",
   "source": [
    "## Gridsearch Depth"
   ],
   "metadata": {
    "collapsed": false,
    "pycharm": {
     "name": "#%% md\n"
    }
   }
  },
  {
   "cell_type": "code",
   "execution_count": 28,
   "outputs": [
    {
     "data": {
      "text/plain": "GridSearchCV(estimator=DecisionTreeClassifier(random_state=15),\n             param_grid={'max_depth': [2, 4, 6, 8, 10, 12, 14, 16, 18, 20, 22,\n                                       24, 26, 28, 30]},\n             scoring='accuracy')"
     },
     "execution_count": 28,
     "metadata": {},
     "output_type": "execute_result"
    }
   ],
   "source": [
    "# Create search parameters, going up by 2, starting at 2 and going to 32\n",
    "depth_parameters = {\n",
    "    'max_depth': list(range(2, 32, 2))\n",
    "}\n",
    "# Creating the gridsearch object, using a DT as a classifier and accuracy as scoring metric\n",
    "depth_search = GridSearchCV(estimator=DecisionTreeClassifier(random_state=15),\n",
    "                            param_grid=depth_parameters,\n",
    "                            scoring='accuracy')\n",
    "\n",
    "depth_search.fit(X_train, y_train)"
   ],
   "metadata": {
    "collapsed": false,
    "pycharm": {
     "name": "#%%\n"
    }
   }
  },
  {
   "cell_type": "code",
   "execution_count": 30,
   "outputs": [
    {
     "data": {
      "text/plain": "DecisionTreeClassifier(max_depth=4, random_state=15)"
     },
     "execution_count": 30,
     "metadata": {},
     "output_type": "execute_result"
    }
   ],
   "source": [
    "# Finding best estimator\n",
    "depth_search.best_estimator_"
   ],
   "metadata": {
    "collapsed": false,
    "pycharm": {
     "name": "#%%\n"
    }
   }
  },
  {
   "cell_type": "code",
   "execution_count": 34,
   "outputs": [
    {
     "name": "stdout",
     "output_type": "stream",
     "text": [
      "Accuracy: 0.92\n",
      "Precision: 0.69\n",
      "Recall: 0.46\n",
      "F1: 0.55\n",
      "ROC AUC: 0.72\n"
     ]
    }
   ],
   "source": [
    "# Getting Score of gridsearch model\n",
    "depth_search_results = custom_score(y_test, depth_search.predict(X_test))"
   ],
   "metadata": {
    "collapsed": false,
    "pycharm": {
     "name": "#%%\n"
    }
   }
  },
  {
   "cell_type": "code",
   "execution_count": 35,
   "outputs": [
    {
     "name": "stdout",
     "output_type": "stream",
     "text": [
      "Accuracy        +0.01\n",
      "Precision       +0.07\n",
      "Recall          -0.06\n",
      "F1              -0.01\n",
      "ROCAUC          -0.02\n"
     ]
    }
   ],
   "source": [
    "# Comparing to previous model\n",
    "custom_change(DT_depth_results, depth_search_results)"
   ],
   "metadata": {
    "collapsed": false,
    "pycharm": {
     "name": "#%%\n"
    }
   }
  },
  {
   "cell_type": "markdown",
   "source": [
    "## Class Weights\n",
    "\n",
    "Initiating class weights would greatly help our model while requiring little effort implementing."
   ],
   "metadata": {
    "collapsed": false
   }
  },
  {
   "cell_type": "code",
   "execution_count": null,
   "outputs": [],
   "source": [
    "# Setting class weight to 'balanced' is equivalent to: n_samples / (n_classes * np.bincount(y))\n",
    "DT_weighted = DecisionTreeClassifier(max_depth=10, class_weight='balanced', random_state=15)\n",
    "\n",
    "# Fitting on training data\n",
    "DT_weighted.fit(X_train, y_train)\n",
    "\n",
    "# Printing training results\n",
    "print('Test results')\n",
    "DT_weighted_results = custom_score(y_test, DT_depth.predict(X_test))"
   ],
   "metadata": {
    "collapsed": false,
    "pycharm": {
     "name": "#%%\n"
    }
   }
  }
 ],
 "metadata": {
  "kernelspec": {
   "display_name": "Python 3",
   "language": "python",
   "name": "python3"
  },
  "language_info": {
   "codemirror_mode": {
    "name": "ipython",
    "version": 2
   },
   "file_extension": ".py",
   "mimetype": "text/x-python",
   "name": "python",
   "nbconvert_exporter": "python",
   "pygments_lexer": "ipython2",
   "version": "2.7.6"
  }
 },
 "nbformat": 4,
 "nbformat_minor": 0
}