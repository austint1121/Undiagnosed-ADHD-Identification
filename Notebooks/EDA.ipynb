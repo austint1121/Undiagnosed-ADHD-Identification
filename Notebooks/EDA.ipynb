{
 "cells": [
  {
   "cell_type": "markdown",
   "metadata": {
    "collapsed": true,
    "pycharm": {
     "name": "#%% md\n"
    }
   },
   "source": [
    "# Exploratory Data Analysis"
   ]
  },
  {
   "cell_type": "markdown",
   "source": [
    "## Notebook Summary\n",
    "In this notebook, I summarize where the data came from and some of its methodologies, and I look through some key columns in the dataset. I also explore important statistics for the project as a whole moving forward, and specifically examine distributions of various columns and how they relate to the target column."
   ],
   "metadata": {
    "collapsed": false,
    "pycharm": {
     "name": "#%% md\n"
    }
   }
  },
  {
   "cell_type": "markdown",
   "source": [
    "## Data Source and Methodologies\n",
    "The NSCH is a household survey that produces national and state-level data on the physical and emotional health of children 0 - 17 years old in the United States. Since 2016, the NSCH has been an annual survey. The survey supports national estimates every year and state-level estimates by combining 2 or 3 years of data. In this project I am looking at the 2020 data.\n",
    "\n",
    "The survey collects information related to the health and well-being of children, including access to and use of health care, family interactions, parental health, school and after-school experiences, and neighborhood characteristics. A parent or other adult caregiver with knowledge of the sampled child’s health and health care filled out the topical questionnaire.\n",
    "\n",
    "Survey topics include:\n",
    "- Child and family characteristics\n",
    "- **Physical and mental health status, including current conditions and functional difficulties**\n",
    "- Health insurance status, type, and adequacy\n",
    "- Access and use of health care services\n",
    "- Medical, dental, and specialty care needed and received\n",
    "- Family health and activities\n",
    "- Impact of child’s health on family\n",
    "- Neighborhood characteristics\n",
    "\n",
    "Please see [this document](https://www2.census.gov/programs-surveys/nsch/technical-documentation/methodology/2020-NSCH-Methodology-Report.pdf) for a full report on the methodologies used by the US Census Bureau when obtaining this data."
   ],
   "metadata": {
    "collapsed": false,
    "pycharm": {
     "name": "#%% md\n"
    }
   }
  },
  {
   "cell_type": "markdown",
   "source": [
    "## Loading and Exploring the Data\n",
    "Lets first load and explore the data, and confirm its size and shape."
   ],
   "metadata": {
    "collapsed": false,
    "pycharm": {
     "name": "#%% md\n"
    }
   }
  },
  {
   "cell_type": "code",
   "execution_count": 49,
   "outputs": [],
   "source": [
    "# Import statements\n",
    "import pandas as pd\n",
    "import matplotlib.pyplot as plt\n",
    "import seaborn as sns\n",
    "sns.set_style('white')"
   ],
   "metadata": {
    "collapsed": false,
    "pycharm": {
     "name": "#%%\n"
    }
   }
  },
  {
   "cell_type": "code",
   "execution_count": 50,
   "outputs": [
    {
     "name": "stderr",
     "output_type": "stream",
     "text": [
      "/Users/matthewturner/opt/anaconda3/envs/Capstone/lib/python3.9/site-packages/pandas/io/sas/sas7bdat.py:800: PerformanceWarning: DataFrame is highly fragmented.  This is usually the result of calling `frame.insert` many times, which has poor performance.  Consider joining all columns at once using pd.concat(axis=1) instead.  To get a de-fragmented frame, use `newframe = frame.copy()`\n",
      "  rslt[name] = self._byte_chunk[jb, :].view(dtype=self.byte_order + \"d\")\n"
     ]
    },
    {
     "data": {
      "text/plain": "  FIPSST STRATUM         HHID FORMTYPE  TOTKIDS_R  TENURE  HHLANGUAGE  \\\n0  b'17'    b'1'  b'20000003'    b'T1'        2.0     1.0         1.0   \n1  b'29'   b'2A'  b'20000004'    b'T3'        1.0     1.0         1.0   \n2  b'47'    b'1'  b'20000005'    b'T1'        1.0     1.0         1.0   \n3  b'28'    b'1'  b'20000014'    b'T3'        2.0     1.0         1.0   \n4  b'55'    b'1'  b'20000015'    b'T3'        2.0     2.0         1.0   \n\n   SC_AGE_YEARS  SC_SEX  K2Q35A_1_YEARS  ...  BIRTH_YR_F  BMICLASS  \\\n0           3.0     1.0             NaN  ...         0.0       NaN   \n1          14.0     2.0             NaN  ...         0.0       2.0   \n2           1.0     2.0             NaN  ...         0.0       NaN   \n3          15.0     2.0             NaN  ...         0.0       2.0   \n4          16.0     2.0             NaN  ...         0.0       3.0   \n\n   HHCOUNT_IF  FPL_I1  FPL_I2  FPL_I3  FPL_I4  FPL_I5  FPL_I6          FWC  \n0         0.0   400.0   400.0   400.0   400.0   400.0   400.0  3296.080092  \n1         0.0   400.0   400.0   400.0   400.0   400.0   400.0  2888.545330  \n2         0.0   400.0   400.0   400.0   400.0   400.0   400.0  1016.682730  \n3         0.0   143.0   143.0   143.0   143.0   143.0   143.0  1042.091065  \n4         0.0   400.0   400.0   400.0   400.0   400.0   400.0   402.372392  \n\n[5 rows x 443 columns]",
      "text/html": "<div>\n<style scoped>\n    .dataframe tbody tr th:only-of-type {\n        vertical-align: middle;\n    }\n\n    .dataframe tbody tr th {\n        vertical-align: top;\n    }\n\n    .dataframe thead th {\n        text-align: right;\n    }\n</style>\n<table border=\"1\" class=\"dataframe\">\n  <thead>\n    <tr style=\"text-align: right;\">\n      <th></th>\n      <th>FIPSST</th>\n      <th>STRATUM</th>\n      <th>HHID</th>\n      <th>FORMTYPE</th>\n      <th>TOTKIDS_R</th>\n      <th>TENURE</th>\n      <th>HHLANGUAGE</th>\n      <th>SC_AGE_YEARS</th>\n      <th>SC_SEX</th>\n      <th>K2Q35A_1_YEARS</th>\n      <th>...</th>\n      <th>BIRTH_YR_F</th>\n      <th>BMICLASS</th>\n      <th>HHCOUNT_IF</th>\n      <th>FPL_I1</th>\n      <th>FPL_I2</th>\n      <th>FPL_I3</th>\n      <th>FPL_I4</th>\n      <th>FPL_I5</th>\n      <th>FPL_I6</th>\n      <th>FWC</th>\n    </tr>\n  </thead>\n  <tbody>\n    <tr>\n      <th>0</th>\n      <td>b'17'</td>\n      <td>b'1'</td>\n      <td>b'20000003'</td>\n      <td>b'T1'</td>\n      <td>2.0</td>\n      <td>1.0</td>\n      <td>1.0</td>\n      <td>3.0</td>\n      <td>1.0</td>\n      <td>NaN</td>\n      <td>...</td>\n      <td>0.0</td>\n      <td>NaN</td>\n      <td>0.0</td>\n      <td>400.0</td>\n      <td>400.0</td>\n      <td>400.0</td>\n      <td>400.0</td>\n      <td>400.0</td>\n      <td>400.0</td>\n      <td>3296.080092</td>\n    </tr>\n    <tr>\n      <th>1</th>\n      <td>b'29'</td>\n      <td>b'2A'</td>\n      <td>b'20000004'</td>\n      <td>b'T3'</td>\n      <td>1.0</td>\n      <td>1.0</td>\n      <td>1.0</td>\n      <td>14.0</td>\n      <td>2.0</td>\n      <td>NaN</td>\n      <td>...</td>\n      <td>0.0</td>\n      <td>2.0</td>\n      <td>0.0</td>\n      <td>400.0</td>\n      <td>400.0</td>\n      <td>400.0</td>\n      <td>400.0</td>\n      <td>400.0</td>\n      <td>400.0</td>\n      <td>2888.545330</td>\n    </tr>\n    <tr>\n      <th>2</th>\n      <td>b'47'</td>\n      <td>b'1'</td>\n      <td>b'20000005'</td>\n      <td>b'T1'</td>\n      <td>1.0</td>\n      <td>1.0</td>\n      <td>1.0</td>\n      <td>1.0</td>\n      <td>2.0</td>\n      <td>NaN</td>\n      <td>...</td>\n      <td>0.0</td>\n      <td>NaN</td>\n      <td>0.0</td>\n      <td>400.0</td>\n      <td>400.0</td>\n      <td>400.0</td>\n      <td>400.0</td>\n      <td>400.0</td>\n      <td>400.0</td>\n      <td>1016.682730</td>\n    </tr>\n    <tr>\n      <th>3</th>\n      <td>b'28'</td>\n      <td>b'1'</td>\n      <td>b'20000014'</td>\n      <td>b'T3'</td>\n      <td>2.0</td>\n      <td>1.0</td>\n      <td>1.0</td>\n      <td>15.0</td>\n      <td>2.0</td>\n      <td>NaN</td>\n      <td>...</td>\n      <td>0.0</td>\n      <td>2.0</td>\n      <td>0.0</td>\n      <td>143.0</td>\n      <td>143.0</td>\n      <td>143.0</td>\n      <td>143.0</td>\n      <td>143.0</td>\n      <td>143.0</td>\n      <td>1042.091065</td>\n    </tr>\n    <tr>\n      <th>4</th>\n      <td>b'55'</td>\n      <td>b'1'</td>\n      <td>b'20000015'</td>\n      <td>b'T3'</td>\n      <td>2.0</td>\n      <td>2.0</td>\n      <td>1.0</td>\n      <td>16.0</td>\n      <td>2.0</td>\n      <td>NaN</td>\n      <td>...</td>\n      <td>0.0</td>\n      <td>3.0</td>\n      <td>0.0</td>\n      <td>400.0</td>\n      <td>400.0</td>\n      <td>400.0</td>\n      <td>400.0</td>\n      <td>400.0</td>\n      <td>400.0</td>\n      <td>402.372392</td>\n    </tr>\n  </tbody>\n</table>\n<p>5 rows × 443 columns</p>\n</div>"
     },
     "execution_count": 50,
     "metadata": {},
     "output_type": "execute_result"
    }
   ],
   "source": [
    "# Loading data into pandas dateframe\n",
    "nsch = pd.read_sas('../Data/nsch_2020_topical_SAS/nsch_2020_topical.sas7bdat')\n",
    "\n",
    "# Visually checking successful loading of dataframe\n",
    "nsch.head()"
   ],
   "metadata": {
    "collapsed": false,
    "pycharm": {
     "name": "#%%\n"
    }
   }
  },
  {
   "cell_type": "markdown",
   "source": [
    "### Shape"
   ],
   "metadata": {
    "collapsed": false,
    "pycharm": {
     "name": "#%% md\n"
    }
   }
  },
  {
   "cell_type": "code",
   "execution_count": 51,
   "outputs": [
    {
     "name": "stdout",
     "output_type": "stream",
     "text": [
      "There are 42777 completed surveys\n",
      "There are 443 questions in the survey\n"
     ]
    }
   ],
   "source": [
    "# Getting shape of data frame and assigning to variables\n",
    "total_rows, total_columns = nsch.shape\n",
    "\n",
    "print(f'There are {total_rows} completed surveys')\n",
    "print(f'There are {total_columns} questions in the survey')"
   ],
   "metadata": {
    "collapsed": false,
    "pycharm": {
     "name": "#%%\n"
    }
   }
  },
  {
   "cell_type": "markdown",
   "source": [
    "The [Methodology Report](https://www2.census.gov/programs-surveys/nsch/technical-documentation/methodology/2020-NSCH-Methodology-Report.pdf) for this survey states that they ***reached out to 240,000 house holds, and 93,000 completed a screener survey**.\n",
    "\n",
    "They also state that **of those 93,000 households, 51,107 are included in the public use file**, however, of the 51,107 households **only 42,777 submitted a complete survey**. So our numbers match up with what is in the report.\n",
    "\n",
    "Lets get quick overview of the data before moving on"
   ],
   "metadata": {
    "collapsed": false,
    "pycharm": {
     "name": "#%% md\n"
    }
   }
  },
  {
   "cell_type": "markdown",
   "source": [
    "### Data Types"
   ],
   "metadata": {
    "collapsed": false,
    "pycharm": {
     "name": "#%% md\n"
    }
   }
  },
  {
   "cell_type": "code",
   "execution_count": 52,
   "outputs": [
    {
     "data": {
      "text/plain": "float64    439\nobject       4\ndtype: int64"
     },
     "execution_count": 52,
     "metadata": {},
     "output_type": "execute_result"
    }
   ],
   "source": [
    "# Data Types in set\n",
    "nsch.dtypes.value_counts()"
   ],
   "metadata": {
    "collapsed": false,
    "pycharm": {
     "name": "#%%\n"
    }
   }
  },
  {
   "cell_type": "markdown",
   "source": [
    "Though most of these are floats, it is important to remember that this entire dataset is categorical data due to it being a survey."
   ],
   "metadata": {
    "collapsed": false,
    "pycharm": {
     "name": "#%% md\n"
    }
   }
  },
  {
   "cell_type": "markdown",
   "source": [],
   "metadata": {
    "collapsed": false,
    "pycharm": {
     "name": "#%% md\n"
    }
   }
  },
  {
   "cell_type": "code",
   "execution_count": 53,
   "outputs": [
    {
     "data": {
      "text/plain": "FIPSST                0\nSTRATUM               0\nHHID                  0\nFORMTYPE              0\nTOTKIDS_R             0\nTENURE                0\nHHLANGUAGE          154\nSC_AGE_YEARS          0\nSC_SEX                0\nK2Q35A_1_YEARS    41619\ndtype: int64"
     },
     "execution_count": 53,
     "metadata": {},
     "output_type": "execute_result"
    }
   ],
   "source": [
    "# Checking for NaN values\n",
    "nsch.isna().sum().head(10)"
   ],
   "metadata": {
    "collapsed": false,
    "pycharm": {
     "name": "#%%\n"
    }
   }
  },
  {
   "cell_type": "code",
   "execution_count": 54,
   "outputs": [
    {
     "name": "stdout",
     "output_type": "stream",
     "text": [
      "There are a total of 7658203 missing values in this data set.\n"
     ]
    }
   ],
   "source": [
    "# Printing the total amount of NAN values in the data frame\n",
    "print(f'There are a total of {nsch.isna().sum().sum()} missing values in this data set.')"
   ],
   "metadata": {
    "collapsed": false,
    "pycharm": {
     "name": "#%%\n"
    }
   }
  },
  {
   "cell_type": "markdown",
   "source": [
    "It is clear that there are a significant amount of missing values in this set, all of which will have to be dealt with for the modeling process. This can be dealt with when we begin data cleaning. For now, lets move onto visualizing our target and the relationships it has with other questions in the survey."
   ],
   "metadata": {
    "collapsed": false,
    "pycharm": {
     "name": "#%% md\n"
    }
   }
  },
  {
   "cell_type": "markdown",
   "source": [
    "\n",
    "# ADHD\n",
    "\n",
    "Our target column for prediction will be \"K2Q31A\", which says:\n",
    "\n",
    "\n",
    "> \"Has a doctor or other health care provider EVER told you that this child has Attention Deficit Disorder or Attention-Deficit/Hyperactivity Disorder, that is, ADD or ADHD?\"\n",
    "\n",
    "Lets visualize its distribution."
   ],
   "metadata": {
    "collapsed": false,
    "pycharm": {
     "name": "#%% md\n"
    }
   }
  },
  {
   "cell_type": "code",
   "execution_count": 55,
   "outputs": [
    {
     "name": "stdout",
     "output_type": "stream",
     "text": [
      "90% of kids in this sample have not been diagnosed ADHD.\n",
      "10% of kids in this sample have been diagnosed ADHD.\n"
     ]
    },
    {
     "data": {
      "text/plain": "<Figure size 576x432 with 1 Axes>",
      "image/png": "[encoded data removed]"
     },
     "metadata": {},
     "output_type": "display_data"
    }
   ],
   "source": [
    "# Replacing numbers with words for easier plotting\n",
    "adhd_yn = nsch['K2Q31A'].replace({1: 'Yes', 2: 'No'})\n",
    "\n",
    "# Plotting\n",
    "fig, ax = plt.subplots(figsize=(8, 6))\n",
    "sns.histplot(adhd_yn, ax=ax, edgecolor='black')\n",
    "plt.suptitle('Has a doctor diagnosed the child with ADHD?')\n",
    "plt.xlabel('Response')\n",
    "\n",
    "# Manually setting color\n",
    "ax.patches[0].set_color('orange')\n",
    "ax.patches[0].set_edgecolor('black');\n",
    "# Printing out numbers\n",
    "\n",
    "# Percentages of kids with ADHD\n",
    "no_adhd_p, yes_adhd_p = adhd_yn.value_counts(normalize=True)\n",
    "\n",
    "print(f'{no_adhd_p*100:.0f}% of kids in this sample have not been diagnosed ADHD.')\n",
    "print(f'{yes_adhd_p*100:.0f}% of kids in this sample have been diagnosed ADHD.')\n"
   ],
   "metadata": {
    "collapsed": false,
    "pycharm": {
     "name": "#%%\n"
    }
   }
  },
  {
   "cell_type": "code",
   "execution_count": 56,
   "outputs": [
    {
     "name": "stdout",
     "output_type": "stream",
     "text": [
      "There are 4306 kids out of 42777 in this sample that have been diagnosed with ADHD\n",
      "38283 out of 42777 kids in this sample have not been diagnosed with ADHD, leaving 188 NaN responses\n"
     ]
    }
   ],
   "source": [
    "no_adhd, yes_adhd = adhd_yn.value_counts()\n",
    "print(f'There are {yes_adhd} kids out of {total_rows} in this sample that have been diagnosed with ADHD')\n",
    "print(f'{no_adhd} out of {total_rows} kids in this sample have not been diagnosed with ADHD, leaving {total_rows-(yes_adhd+no_adhd)} NaN responses')"
   ],
   "metadata": {
    "collapsed": false,
    "pycharm": {
     "name": "#%%\n"
    }
   }
  },
  {
   "cell_type": "markdown",
   "source": [
    "### Analysis\n",
    "It is hard to try and compare this to an overall estimate of ADHD among the overall population, since most studies use this survey as a basis for estimation. It is important to note that kids with special health care needs have been super-sampled when the data was collected. The actual population of kids diagnosed with ADHD, most likely, does not look like this. We have an incredibly small amount of kida actually diagnosed with ADHD, and this lack of data may prove a challenge later when modeling.\n",
    "\n",
    "Now that we have this information, let's look into these 4306 kids and look at some relationships between other columns"
   ],
   "metadata": {
    "collapsed": false
   }
  },
  {
   "cell_type": "markdown",
   "source": [
    "# ADHD Diagnoses and Gender\n",
    "Lets investigate the relationship between a child's sex and ADHD diagnoses"
   ],
   "metadata": {
    "collapsed": false,
    "pycharm": {
     "name": "#%% md\n"
    }
   }
  },
  {
   "cell_type": "code",
   "execution_count": 57,
   "outputs": [
    {
     "name": "stderr",
     "output_type": "stream",
     "text": [
      "/var/folders/y8/vq429chs6djb0hl0y0zp5fg00000gn/T/ipykernel_33324/3479455659.py:5: SettingWithCopyWarning: \n",
      "A value is trying to be set on a copy of a slice from a DataFrame.\n",
      "Try using .loc[row_indexer,col_indexer] = value instead\n",
      "\n",
      "See the caveats in the documentation: https://pandas.pydata.org/pandas-docs/stable/user_guide/indexing.html#returning-a-view-versus-a-copy\n",
      "  adhd_df['SC_SEX'] = adhd_df['SC_SEX'].replace({1: 'Male', 2: 'Female'})\n"
     ]
    },
    {
     "data": {
      "text/plain": "<Figure size 576x432 with 1 Axes>",
      "image/png": "[encoded data removed]"
     },
     "metadata": {},
     "output_type": "display_data"
    }
   ],
   "source": [
    "# Grab a dataframe with only ADHD diagnosed kids\n",
    "adhd_df = nsch[nsch['K2Q31A'] == 1]\n",
    "\n",
    "# Replace numbers with \"Male\" and \"Female\" for easier plotting\n",
    "adhd_df['SC_SEX'] = adhd_df['SC_SEX'].replace({1: 'Male', 2: 'Female'})\n",
    "\n",
    "# Plotting\n",
    "sex_fig, sex_ax = plt.subplots(figsize=(8, 6))\n",
    "sns.histplot(adhd_df['SC_SEX'], ax=sex_ax, edgecolor='black')\n",
    "plt.suptitle('Sex of Kids Diagnosed with ADHD')\n",
    "plt.xlabel('Sex');\n",
    "\n",
    "# Setting color of \"female\" bar manually\n",
    "sex_ax.patches[0].set_color('pink')\n",
    "sex_ax.patches[0].set_edgecolor('black')\n"
   ],
   "metadata": {
    "collapsed": false,
    "pycharm": {
     "name": "#%%\n"
    }
   }
  },
  {
   "cell_type": "code",
   "execution_count": 58,
   "outputs": [
    {
     "name": "stdout",
     "output_type": "stream",
     "text": [
      " Of all the kids with ADHD in our sample 69% are male, and 31% are female\n"
     ]
    }
   ],
   "source": [
    "# Get normalized value counts of Sex\n",
    "male_p, female_p = adhd_df['SC_SEX'].value_counts(normalize=True)\n",
    "\n",
    "# Print percentages rounded to the nearest whole number.\n",
    "print(f' Of all the kids with ADHD in our sample {male_p*100:.0f}% are male, and {female_p*100:.0f}% are female')"
   ],
   "metadata": {
    "collapsed": false,
    "pycharm": {
     "name": "#%%\n"
    }
   }
  },
  {
   "cell_type": "markdown",
   "source": [
    "### Analysis\n",
    "These results match up with the Census Bueraus findings that males are more likley to be diagnosed with ADHD then females are. ADHD and sex is a subject of ongoing research, and I highly suggest reading [this](https://www.ncbi.nlm.nih.gov/pmc/articles/PMC6923191/) study on the subject matter for an in-depth look on the matter."
   ],
   "metadata": {
    "collapsed": false,
    "pycharm": {
     "name": "#%% md\n"
    }
   }
  },
  {
   "cell_type": "markdown",
   "source": [
    "# ADHD and Age\n",
    "Now to investigate the ages of those with ADHD."
   ],
   "metadata": {
    "collapsed": false,
    "pycharm": {
     "name": "#%% md\n"
    }
   }
  },
  {
   "cell_type": "code",
   "execution_count": 194,
   "outputs": [
    {
     "name": "stderr",
     "output_type": "stream",
     "text": [
      "/var/folders/y8/vq429chs6djb0hl0y0zp5fg00000gn/T/ipykernel_33324/641943562.py:2: SettingWithCopyWarning: \n",
      "A value is trying to be set on a copy of a slice from a DataFrame.\n",
      "Try using .loc[row_indexer,col_indexer] = value instead\n",
      "\n",
      "See the caveats in the documentation: https://pandas.pydata.org/pandas-docs/stable/user_guide/indexing.html#returning-a-view-versus-a-copy\n",
      "  adhd_df['FORMTYPE'] = adhd_df['FORMTYPE'].astype('str').replace({\"b'T1'\": 'Type1', \"b'T2'\": 'Type2', \"b'T3'\": 'Type3'})\n"
     ]
    }
   ],
   "source": [
    "# Replacing formtype category names for more readable graphs\n",
    "adhd_df['FORMTYPE'] = adhd_df['FORMTYPE'].astype('str').replace({\"b'T1'\": 'Type1', \"b'T2'\": 'Type2', \"b'T3'\": 'Type3'})\n",
    "nsch['FORMTYPE'] = nsch['FORMTYPE'].astype('str').replace({\"b'T1'\": 'Type1', \"b'T2'\": 'Type2', \"b'T3'\": 'Type3'})"
   ],
   "metadata": {
    "collapsed": false,
    "pycharm": {
     "name": "#%%\n"
    }
   }
  },
  {
   "cell_type": "code",
   "execution_count": 220,
   "outputs": [
    {
     "data": {
      "text/plain": "<Figure size 1296x720 with 2 Axes>",
      "image/png": "[encoded data removed]"
     },
     "metadata": {},
     "output_type": "display_data"
    }
   ],
   "source": [
    "# Set figure and axis\n",
    "agefig, (ageax, realax) = plt.subplots(1, 2, figsize=(18, 10))\n",
    "\n",
    "# Plot figure with 18 bins (ages go from 1-17) with an extra bin for aesthetic reasons\n",
    "age_figure = sns.histplot(data=adhd_df, x='SC_AGE_YEARS', ax=ageax, bins=18, hue='FORMTYPE', hue_order=['Type1', 'Type2', 'Type3'])\n",
    "real_figure = sns.histplot(data=nsch, x='SC_AGE_YEARS', ax=realax, bins=18, hue='FORMTYPE', hue_order=['Type1', 'Type2', 'Type3'])\n",
    "\n",
    "# Setting labels, title, legend etc\n",
    "age_figure.set(title='Ages of Kids Diagnosed with ADHD', xlabel='Age', xticks=list(range(1, 17)))\n",
    "real_figure.set(title='Ages of All Kids in Sample', xlabel='Age', xticks=list(range(1, 17)))\n",
    "\n",
    "# Changing labels and titles legends to make them more readable.\n",
    "age_figure.legend(title='Age Group' ,labels=['Group 1 (0-5)', 'Group 2 (6-11)', 'Group 3 (12-17)'])\n",
    "real_figure.legend(title='Age Group' ,labels=['Group 1 (0-5)', 'Group 2 (6-11)', 'Group 3 (12-17)']);\n"
   ],
   "metadata": {
    "collapsed": false,
    "pycharm": {
     "name": "#%%\n"
    }
   }
  },
  {
   "cell_type": "code",
   "execution_count": null,
   "outputs": [],
   "source": [],
   "metadata": {
    "collapsed": false,
    "pycharm": {
     "name": "#%%\n"
    }
   }
  }
 ],
 "metadata": {
  "kernelspec": {
   "display_name": "Python 3",
   "language": "python",
   "name": "python3"
  },
  "language_info": {
   "codemirror_mode": {
    "name": "ipython",
    "version": 2
   },
   "file_extension": ".py",
   "mimetype": "text/x-python",
   "name": "python",
   "nbconvert_exporter": "python",
   "pygments_lexer": "ipython2",
   "version": "2.7.6"
  }
 },
 "nbformat": 4,
 "nbformat_minor": 0
}