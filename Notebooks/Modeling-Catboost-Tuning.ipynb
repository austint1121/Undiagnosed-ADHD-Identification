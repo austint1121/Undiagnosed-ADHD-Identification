{
 "cells": [
  {
   "cell_type": "markdown",
   "metadata": {
    "collapsed": true,
    "pycharm": {
     "name": "#%% md\n"
    }
   },
   "source": [
    "# Catboost Tuning\n",
    "## Summary\n",
    "In this notebook I will primarily tune some models\n"
   ]
  },
  {
   "cell_type": "markdown",
   "source": [
    "### Importing Data and Required Packages"
   ],
   "metadata": {
    "collapsed": false,
    "pycharm": {
     "name": "#%% md\n"
    }
   }
  },
  {
   "cell_type": "code",
   "execution_count": 26,
   "outputs": [],
   "source": [
    "# Imports\n",
    "import pandas as pd\n",
    "from imblearn.over_sampling import RandomOverSampler\n",
    "from catboost import CatBoostClassifier, metrics, cv\n",
    "from sklearn.metrics import roc_auc_score, f1_score\n",
    "import optuna\n",
    "\n",
    "from functions import metrics as custom_metric"
   ],
   "metadata": {
    "collapsed": false,
    "pycharm": {
     "name": "#%%\n"
    }
   }
  },
  {
   "cell_type": "code",
   "execution_count": 27,
   "outputs": [],
   "source": [
    "# Training Data\n",
    "X_train = pd.read_csv('../Data/train/X_train.csv', index_col=0)\n",
    "y_train = pd.read_csv('../Data/train/y_train.csv', index_col=0)\n",
    "\n",
    "# Testing Data\n",
    "X_test = pd.read_csv('../Data/test/X_test.csv', index_col=0)\n",
    "y_test = pd.read_csv('../Data/test/y_test.csv', index_col=0)"
   ],
   "metadata": {
    "collapsed": false,
    "pycharm": {
     "name": "#%%\n"
    }
   }
  },
  {
   "cell_type": "code",
   "execution_count": 28,
   "outputs": [],
   "source": [
    "# Currently the classes are labelled as \"1\" as dignosed ADHD and \"2\" as not diagnosed, but models seem to dislike this.\n",
    "testing = {2: 0, 1: 1}\n",
    "labels = y_train.replace(testing)\n",
    "test_labels = y_test.replace(testing)\n",
    "\n",
    "# This cell will be moved into the \"Data cleaning\" notebook in the future."
   ],
   "metadata": {
    "collapsed": false,
    "pycharm": {
     "name": "#%%\n"
    }
   }
  },
  {
   "cell_type": "code",
   "execution_count": 29,
   "outputs": [],
   "source": [
    "# Initiate Over sampler\n",
    "ros = RandomOverSampler(random_state=15)\n",
    "\n",
    "# Applying ONLY to training set to prevent data leakage.\n",
    "X_train_os, y_train_os = ros.fit_resample(X_train, labels)"
   ],
   "metadata": {
    "collapsed": false,
    "pycharm": {
     "name": "#%%\n"
    }
   }
  },
  {
   "cell_type": "markdown",
   "source": [
    "## Optimizing with the Optuna\n",
    "For the hyperparameter tuning process, I'll be using the [Optuna](https://optuna.readthedocs.io/en/stable/index.html) library. I'll also be making use of Catboost's cross-validation in selecting the best model."
   ],
   "metadata": {
    "collapsed": false,
    "pycharm": {
     "name": "#%% md\n"
    }
   }
  },
  {
   "cell_type": "code",
   "execution_count": 30,
   "outputs": [],
   "source": [
    "# Optuna requires us to define the \"objective\" as a function. This is, essentially, where we define the parameters to check.\n",
    "def objective(trial):\n",
    "    # Parameters to check\n",
    "    param = {\n",
    "        'iterations':trial.suggest_categorical('iterations', [100,200,300,500,1000]),\n",
    "        'learning_rate':trial.suggest_float(\"learning_rate\", 0.001, 0.3),\n",
    "        'random_strength':trial.suggest_int(\"random_strength\", 1,10),\n",
    "        'bagging_temperature':trial.suggest_int(\"bagging_temperature\", 0,10),\n",
    "        'max_bin':trial.suggest_categorical('max_bin', [4,5,6,8,10,20,30]),\n",
    "        'grow_policy':trial.suggest_categorical('grow_policy', ['SymmetricTree', 'Depthwise', 'Lossguide']),\n",
    "        'min_data_in_leaf':trial.suggest_int(\"min_data_in_leaf\", 1,10),\n",
    "        \"depth\": trial.suggest_int(\"max_depth\", 2,10),\n",
    "        \"l2_leaf_reg\": trial.suggest_loguniform(\"l2_leaf_reg\", 1e-8, 100),\n",
    "        'one_hot_max_size':trial.suggest_categorical('one_hot_max_size', [5,10,12,100]),\n",
    "        'custom_metric' : ['AUC'],\n",
    "    }\n",
    "\n",
    "    trial_model = CatBoostClassifier(**param)\n",
    "\n",
    "    trial_model.fit(X_train_os,\n",
    "                    y_train_os,\n",
    "                    eval_set=[(X_test, test_labels)],\n",
    "                    verbose=0,\n",
    "                    early_stopping_rounds=100)\n",
    "\n",
    "    preds = trial_model.predict(X_test)\n",
    "    Fscore = f1_score(test_labels, preds)\n",
    "    return Fscore"
   ],
   "metadata": {
    "collapsed": false,
    "pycharm": {
     "name": "#%%\n"
    }
   }
  },
  {
   "cell_type": "code",
   "execution_count": null,
   "outputs": [
    {
     "name": "stderr",
     "output_type": "stream",
     "text": [
      "\u001B[32m[I 2021-11-29 17:50:03,845]\u001B[0m A new study created in memory with name: no-name-61f41af4-8c54-431a-80ba-7f8428e3cab8\u001B[0m\n",
      "\u001B[32m[I 2021-11-29 17:50:37,368]\u001B[0m Trial 0 finished with value: 0.5871006630500302 and parameters: {'iterations': 300, 'learning_rate': 0.14252531134014657, 'random_strength': 8, 'bagging_temperature': 9, 'max_bin': 6, 'grow_policy': 'SymmetricTree', 'min_data_in_leaf': 4, 'max_depth': 9, 'l2_leaf_reg': 0.0003216226621087834, 'one_hot_max_size': 12}. Best is trial 0 with value: 0.5871006630500302.\u001B[0m\n",
      "\u001B[32m[I 2021-11-29 17:51:26,274]\u001B[0m Trial 1 finished with value: 0.6287292817679557 and parameters: {'iterations': 200, 'learning_rate': 0.18193774591916695, 'random_strength': 1, 'bagging_temperature': 2, 'max_bin': 6, 'grow_policy': 'Lossguide', 'min_data_in_leaf': 5, 'max_depth': 10, 'l2_leaf_reg': 0.11825332582825888, 'one_hot_max_size': 100}. Best is trial 1 with value: 0.6287292817679557.\u001B[0m\n",
      "\u001B[32m[I 2021-11-29 17:52:13,441]\u001B[0m Trial 2 finished with value: 0.6139872842870118 and parameters: {'iterations': 300, 'learning_rate': 0.05273539197813873, 'random_strength': 3, 'bagging_temperature': 9, 'max_bin': 8, 'grow_policy': 'Lossguide', 'min_data_in_leaf': 1, 'max_depth': 4, 'l2_leaf_reg': 1.5967541471613415e-06, 'one_hot_max_size': 10}. Best is trial 1 with value: 0.6287292817679557.\u001B[0m\n",
      "\u001B[32m[I 2021-11-29 17:52:36,128]\u001B[0m Trial 3 finished with value: 0.5863418877772943 and parameters: {'iterations': 200, 'learning_rate': 0.00858527229308369, 'random_strength': 4, 'bagging_temperature': 1, 'max_bin': 5, 'grow_policy': 'SymmetricTree', 'min_data_in_leaf': 5, 'max_depth': 9, 'l2_leaf_reg': 4.1204617666675745, 'one_hot_max_size': 10}. Best is trial 1 with value: 0.6287292817679557.\u001B[0m\n",
      "\u001B[32m[I 2021-11-29 17:52:58,910]\u001B[0m Trial 4 finished with value: 0.6311111111111112 and parameters: {'iterations': 500, 'learning_rate': 0.2495646776270581, 'random_strength': 9, 'bagging_temperature': 8, 'max_bin': 5, 'grow_policy': 'SymmetricTree', 'min_data_in_leaf': 3, 'max_depth': 3, 'l2_leaf_reg': 0.32902540208253406, 'one_hot_max_size': 100}. Best is trial 4 with value: 0.6311111111111112.\u001B[0m\n",
      "\u001B[32m[I 2021-11-29 17:53:08,621]\u001B[0m Trial 5 finished with value: 0.6142017186793306 and parameters: {'iterations': 200, 'learning_rate': 0.25693740677588195, 'random_strength': 2, 'bagging_temperature': 9, 'max_bin': 8, 'grow_policy': 'SymmetricTree', 'min_data_in_leaf': 1, 'max_depth': 3, 'l2_leaf_reg': 26.776302600478864, 'one_hot_max_size': 5}. Best is trial 4 with value: 0.6311111111111112.\u001B[0m\n",
      "\u001B[32m[I 2021-11-29 17:53:22,530]\u001B[0m Trial 6 finished with value: 0.6255230125523012 and parameters: {'iterations': 200, 'learning_rate': 0.18133724258009865, 'random_strength': 9, 'bagging_temperature': 10, 'max_bin': 6, 'grow_policy': 'SymmetricTree', 'min_data_in_leaf': 10, 'max_depth': 6, 'l2_leaf_reg': 0.001527366550229069, 'one_hot_max_size': 12}. Best is trial 4 with value: 0.6311111111111112.\u001B[0m\n",
      "\u001B[32m[I 2021-11-29 17:55:16,259]\u001B[0m Trial 7 finished with value: 0.6295149638802889 and parameters: {'iterations': 500, 'learning_rate': 0.045749065262622825, 'random_strength': 4, 'bagging_temperature': 10, 'max_bin': 30, 'grow_policy': 'Lossguide', 'min_data_in_leaf': 10, 'max_depth': 5, 'l2_leaf_reg': 2.855099354982467e-07, 'one_hot_max_size': 10}. Best is trial 4 with value: 0.6311111111111112.\u001B[0m\n",
      "\u001B[32m[I 2021-11-29 17:55:41,164]\u001B[0m Trial 8 finished with value: 0.5852507374631268 and parameters: {'iterations': 300, 'learning_rate': 0.17367676943937813, 'random_strength': 7, 'bagging_temperature': 1, 'max_bin': 20, 'grow_policy': 'SymmetricTree', 'min_data_in_leaf': 3, 'max_depth': 8, 'l2_leaf_reg': 9.318509724799308e-06, 'one_hot_max_size': 100}. Best is trial 4 with value: 0.6311111111111112.\u001B[0m\n",
      "\u001B[32m[I 2021-11-29 17:56:06,270]\u001B[0m Trial 9 finished with value: 0.6043360433604337 and parameters: {'iterations': 100, 'learning_rate': 0.061918396518128145, 'random_strength': 2, 'bagging_temperature': 1, 'max_bin': 10, 'grow_policy': 'Lossguide', 'min_data_in_leaf': 5, 'max_depth': 6, 'l2_leaf_reg': 4.554356297991302e-06, 'one_hot_max_size': 5}. Best is trial 4 with value: 0.6311111111111112.\u001B[0m\n",
      "\u001B[32m[I 2021-11-29 17:56:34,775]\u001B[0m Trial 10 finished with value: 0.6172607879924953 and parameters: {'iterations': 500, 'learning_rate': 0.29489050757069524, 'random_strength': 6, 'bagging_temperature': 6, 'max_bin': 5, 'grow_policy': 'Depthwise', 'min_data_in_leaf': 8, 'max_depth': 2, 'l2_leaf_reg': 0.05710814965312394, 'one_hot_max_size': 100}. Best is trial 4 with value: 0.6311111111111112.\u001B[0m\n",
      "\u001B[32m[I 2021-11-29 17:57:26,799]\u001B[0m Trial 11 finished with value: 0.6284501061571126 and parameters: {'iterations': 500, 'learning_rate': 0.11035639076188056, 'random_strength': 10, 'bagging_temperature': 6, 'max_bin': 30, 'grow_policy': 'Depthwise', 'min_data_in_leaf': 8, 'max_depth': 4, 'l2_leaf_reg': 2.738321257474963e-08, 'one_hot_max_size': 10}. Best is trial 4 with value: 0.6311111111111112.\u001B[0m\n",
      "\u001B[32m[I 2021-11-29 17:58:31,241]\u001B[0m Trial 12 finished with value: 0.6175637393767704 and parameters: {'iterations': 500, 'learning_rate': 0.23091142504741877, 'random_strength': 5, 'bagging_temperature': 7, 'max_bin': 30, 'grow_policy': 'Lossguide', 'min_data_in_leaf': 7, 'max_depth': 5, 'l2_leaf_reg': 1.9834918350812584e-08, 'one_hot_max_size': 100}. Best is trial 4 with value: 0.6311111111111112.\u001B[0m\n"
     ]
    }
   ],
   "source": [
    "study = optuna.create_study(direction=\"maximize\")\n",
    "study.optimize(objective, n_trials=100, timeout=600)\n",
    "\n",
    "print(\"Number of finished trials: {}\".format(len(study.trials)))\n",
    "\n",
    "print(\"Best trial:\")\n",
    "trial = study.best_trial\n",
    "\n",
    "print(\"  Value: {}\".format(trial.value))\n",
    "\n",
    "print(\"  Params: \")\n",
    "for key, value in trial.params.items():\n",
    "    print(\"    {}: {}\".format(key, value))"
   ],
   "metadata": {
    "collapsed": false,
    "pycharm": {
     "name": "#%%\n",
     "is_executing": true
    }
   }
  },
  {
   "cell_type": "code",
   "execution_count": null,
   "outputs": [],
   "source": [
    "final_model = CatBoostClassifier(verbose=False,\n",
    "                                 **trial.params)"
   ],
   "metadata": {
    "collapsed": false,
    "pycharm": {
     "name": "#%%\n",
     "is_executing": true
    }
   }
  },
  {
   "cell_type": "code",
   "execution_count": null,
   "outputs": [],
   "source": [
    "final_model.fit(X_test, test_labels)"
   ],
   "metadata": {
    "collapsed": false,
    "pycharm": {
     "name": "#%%\n",
     "is_executing": true
    }
   }
  },
  {
   "cell_type": "code",
   "execution_count": null,
   "outputs": [],
   "source": [
    "custom_metric(test_labels, final_model.predict(X_test))"
   ],
   "metadata": {
    "collapsed": false,
    "pycharm": {
     "name": "#%%\n",
     "is_executing": true
    }
   }
  },
  {
   "cell_type": "code",
   "execution_count": null,
   "outputs": [],
   "source": [],
   "metadata": {
    "collapsed": false,
    "pycharm": {
     "name": "#%%\n",
     "is_executing": true
    }
   }
  }
 ],
 "metadata": {
  "kernelspec": {
   "display_name": "Python 3",
   "language": "python",
   "name": "python3"
  },
  "language_info": {
   "codemirror_mode": {
    "name": "ipython",
    "version": 2
   },
   "file_extension": ".py",
   "mimetype": "text/x-python",
   "name": "python",
   "nbconvert_exporter": "python",
   "pygments_lexer": "ipython2",
   "version": "2.7.6"
  }
 },
 "nbformat": 4,
 "nbformat_minor": 0
}