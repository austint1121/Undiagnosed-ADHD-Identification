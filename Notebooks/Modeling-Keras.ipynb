{
 "cells": [
  {
   "cell_type": "markdown",
   "metadata": {
    "collapsed": true,
    "pycharm": {
     "name": "#%% md\n"
    }
   },
   "source": [
    "# Keras Neural Net Modeling"
   ]
  },
  {
   "cell_type": "markdown",
   "source": [
    "## Summary\n",
    "Lets make some NN"
   ],
   "metadata": {
    "collapsed": false,
    "pycharm": {
     "name": "#%% md\n"
    }
   }
  },
  {
   "cell_type": "markdown",
   "source": [
    "## Baseline NN"
   ],
   "metadata": {
    "collapsed": false
   }
  },
  {
   "cell_type": "code",
   "execution_count": 24,
   "outputs": [],
   "source": [
    "# Import statements\n",
    "import keras\n",
    "from keras.layers import Dense\n",
    "import pandas as pd\n",
    "\n",
    "# Created functions from functions.py\n",
    "from functions import metrics as custom_score\n",
    "from functions import improvement as custom_change"
   ],
   "metadata": {
    "collapsed": false,
    "pycharm": {
     "name": "#%%\n"
    }
   }
  },
  {
   "cell_type": "code",
   "execution_count": 3,
   "outputs": [],
   "source": [
    "# Load in cleaned data\n",
    "\n",
    "# Training Data\n",
    "X_train = pd.read_csv('../Data/train/X_train.csv', index_col=0)\n",
    "y_train = pd.read_csv('../Data/train/y_train.csv', index_col=0)\n",
    "\n",
    "# Testing Data\n",
    "X_test = pd.read_csv('../Data/test/X_test.csv', index_col=0)\n",
    "y_test = pd.read_csv('../Data/test/y_test.csv', index_col=0)"
   ],
   "metadata": {
    "collapsed": false,
    "pycharm": {
     "name": "#%%\n"
    }
   }
  },
  {
   "cell_type": "code",
   "execution_count": 14,
   "outputs": [
    {
     "name": "stdout",
     "output_type": "stream",
     "text": [
      "Epoch 1/10\n",
      "100/100 [==============================] - 3s 14ms/step - loss: 37.6660 - acc: 0.8578 - precision: 0.2911 - recall: 0.2831 - auc: 0.6071 - val_loss: 10.4531 - val_acc: 0.8740 - val_precision: 0.3919 - val_recall: 0.4443 - val_auc: 0.6896\n",
      "Epoch 2/10\n",
      "100/100 [==============================] - 1s 7ms/step - loss: 8.3659 - acc: 0.8885 - precision: 0.4487 - recall: 0.4506 - auc: 0.7018 - val_loss: 6.6288 - val_acc: 0.8833 - val_precision: 0.4342 - val_recall: 0.5062 - val_auc: 0.7286\n",
      "Epoch 3/10\n",
      "100/100 [==============================] - 1s 9ms/step - loss: 5.9705 - acc: 0.8956 - precision: 0.4839 - recall: 0.4875 - auc: 0.7255 - val_loss: 4.7424 - val_acc: 0.8957 - val_precision: 0.4839 - val_recall: 0.4641 - val_auc: 0.7187\n",
      "Epoch 4/10\n",
      "100/100 [==============================] - 1s 7ms/step - loss: 4.3006 - acc: 0.8976 - precision: 0.4934 - recall: 0.4974 - auc: 0.7340 - val_loss: 5.4334 - val_acc: 0.9125 - val_precision: 0.7104 - val_recall: 0.2277 - val_auc: 0.6246\n",
      "Epoch 5/10\n",
      "100/100 [==============================] - 1s 5ms/step - loss: 5.1308 - acc: 0.8905 - precision: 0.4578 - recall: 0.4503 - auc: 0.7071 - val_loss: 6.2353 - val_acc: 0.9136 - val_precision: 0.7500 - val_recall: 0.2191 - val_auc: 0.6143\n",
      "Epoch 6/10\n",
      "100/100 [==============================] - 1s 6ms/step - loss: 3.5146 - acc: 0.9002 - precision: 0.5061 - recall: 0.5125 - auc: 0.7434 - val_loss: 2.9727 - val_acc: 0.9107 - val_precision: 0.5770 - val_recall: 0.4406 - val_auc: 0.7282\n",
      "Epoch 7/10\n",
      "100/100 [==============================] - 1s 5ms/step - loss: 3.3720 - acc: 0.8960 - precision: 0.4851 - recall: 0.4726 - auc: 0.7250 - val_loss: 12.9668 - val_acc: 0.5248 - val_precision: 0.1671 - val_recall: 0.9282 - val_auc: 0.7346\n",
      "Epoch 8/10\n",
      "100/100 [==============================] - 1s 5ms/step - loss: 6.8005 - acc: 0.8830 - precision: 0.4230 - recall: 0.4330 - auc: 0.6915 - val_loss: 4.4845 - val_acc: 0.9108 - val_precision: 0.5606 - val_recall: 0.5495 - val_auc: 0.7622\n",
      "Epoch 9/10\n",
      "100/100 [==============================] - 1s 5ms/step - loss: 3.6644 - acc: 0.9041 - precision: 0.5261 - recall: 0.5153 - auc: 0.7466 - val_loss: 5.8949 - val_acc: 0.7563 - val_precision: 0.2726 - val_recall: 0.8441 - val_auc: 0.8168\n",
      "Epoch 10/10\n",
      "100/100 [==============================] - 1s 6ms/step - loss: 3.1421 - acc: 0.8990 - precision: 0.5005 - recall: 0.5073 - auc: 0.7403 - val_loss: 3.6035 - val_acc: 0.8193 - val_precision: 0.3298 - val_recall: 0.7611 - val_auc: 0.8170\n"
     ]
    },
    {
     "data": {
      "text/plain": "<keras.callbacks.History at 0x146f0df10>"
     },
     "execution_count": 14,
     "metadata": {},
     "output_type": "execute_result"
    }
   ],
   "source": [
    " # Instantiating a NN\n",
    "FSM_NN = keras.Sequential()\n",
    "\n",
    "# Starting small with 30 neurons\n",
    "FSM_NN.add(Dense(30, 'relu', input_shape=(422,)))\n",
    "\n",
    "# 1 output\n",
    "FSM_NN.add(Dense(1, 'sigmoid'))\n",
    "\n",
    "# Compiling model with accuracy, precision, and recall metrics. Using \"Adam\" as an optimizer\n",
    "FSM_NN.compile('adam', 'binary_crossentropy', metrics=['acc', 'Precision', 'Recall','AUC'])\n",
    "\n",
    "FSM_NN.fit(X_train, y_train, epochs=10, steps_per_epoch=100, validation_data=(X_test, y_test))"
   ],
   "metadata": {
    "collapsed": false,
    "pycharm": {
     "name": "#%%\n"
    }
   }
  },
  {
   "cell_type": "code",
   "execution_count": 22,
   "outputs": [
    {
     "name": "stdout",
     "output_type": "stream",
     "text": [
      "250/250 [==============================] - 0s 2ms/step - loss: 3.6035 - acc: 0.8193 - precision: 0.3298 - recall: 0.7611 - auc: 0.8170\n"
     ]
    }
   ],
   "source": [
    "## Evaluating NN\n",
    "FSM_loss, FSM_acc, FSM_prec, FSM_recall, FSM_AUC = FSM_NN.evaluate(X_test, y_test)\n",
    "\n",
    "results_FSM = {\n",
    "    'Accuracy': FSM_acc,\n",
    "    'Precision': FSM_prec,\n",
    "    'Recall': FSM_recall,\n",
    "    'ROCAUC': FSM_AUC\n",
    "\n",
    "}"
   ],
   "metadata": {
    "collapsed": false,
    "pycharm": {
     "name": "#%%\n"
    }
   }
  },
  {
   "cell_type": "markdown",
   "source": [
    "### Conclusion\n",
    "The neural network is boasting some impressively bad precision here, but it is doing it's best with the 30 neurons I provided it. This can definitely be improved, so let's start by giving it more brain power."
   ],
   "metadata": {
    "collapsed": false,
    "pycharm": {
     "name": "#%% md\n"
    }
   }
  },
  {
   "cell_type": "markdown",
   "source": [
    "## 3 Layer NN and more Training Time\n",
    "I'll add some more layers, and give the model more time to train and see if that gives us an improvement."
   ],
   "metadata": {
    "collapsed": false
   }
  },
  {
   "cell_type": "code",
   "execution_count": 19,
   "outputs": [
    {
     "name": "stdout",
     "output_type": "stream",
     "text": [
      "Epoch 1/25\n",
      "100/100 [==============================] - 2s 11ms/step - loss: 14.4658 - acc: 0.8348 - precision: 0.1739 - recall: 0.1691 - auc: 0.5591 - val_loss: 0.8223 - val_acc: 0.8420 - val_precision: 0.2298 - val_recall: 0.2389 - val_auc: 0.6454\n",
      "Epoch 2/25\n",
      "100/100 [==============================] - 1s 8ms/step - loss: 0.9536 - acc: 0.8527 - precision: 0.2250 - recall: 0.1871 - auc: 0.6130 - val_loss: 0.5886 - val_acc: 0.8834 - val_precision: 0.3048 - val_recall: 0.1188 - val_auc: 0.6450\n",
      "Epoch 3/25\n",
      "100/100 [==============================] - 1s 9ms/step - loss: 0.6757 - acc: 0.8658 - precision: 0.2621 - recall: 0.1806 - auc: 0.6423 - val_loss: 0.4241 - val_acc: 0.8884 - val_precision: 0.3648 - val_recall: 0.1386 - val_auc: 0.6648\n",
      "Epoch 4/25\n",
      "100/100 [==============================] - 1s 11ms/step - loss: 0.5579 - acc: 0.8690 - precision: 0.2452 - recall: 0.1425 - auc: 0.6403 - val_loss: 0.3950 - val_acc: 0.8921 - val_precision: 0.3962 - val_recall: 0.1275 - val_auc: 0.6963\n",
      "Epoch 5/25\n",
      "100/100 [==============================] - 1s 11ms/step - loss: 0.3778 - acc: 0.8870 - precision: 0.3525 - recall: 0.1403 - auc: 0.6897 - val_loss: 0.3687 - val_acc: 0.8793 - val_precision: 0.3186 - val_recall: 0.1696 - val_auc: 0.7124\n",
      "Epoch 6/25\n",
      "100/100 [==============================] - 1s 12ms/step - loss: 0.3812 - acc: 0.8851 - precision: 0.3523 - recall: 0.1632 - auc: 0.6885 - val_loss: 0.3806 - val_acc: 0.8946 - val_precision: 0.4086 - val_recall: 0.0941 - val_auc: 0.7047\n",
      "Epoch 7/25\n",
      "100/100 [==============================] - 1s 7ms/step - loss: 0.3534 - acc: 0.8903 - precision: 0.3888 - recall: 0.1483 - auc: 0.7106 - val_loss: 0.3362 - val_acc: 0.8937 - val_precision: 0.4226 - val_recall: 0.1386 - val_auc: 0.7199\n",
      "Epoch 8/25\n",
      "100/100 [==============================] - 1s 7ms/step - loss: 0.3322 - acc: 0.8934 - precision: 0.4238 - recall: 0.1524 - auc: 0.7314 - val_loss: 0.3454 - val_acc: 0.8861 - val_precision: 0.3762 - val_recall: 0.1918 - val_auc: 0.7217\n",
      "Epoch 9/25\n",
      "100/100 [==============================] - 1s 7ms/step - loss: 0.3512 - acc: 0.8889 - precision: 0.3890 - recall: 0.1737 - auc: 0.7219 - val_loss: 0.3553 - val_acc: 0.9002 - val_precision: 0.5307 - val_recall: 0.1176 - val_auc: 0.7409\n",
      "Epoch 10/25\n",
      "100/100 [==============================] - 1s 7ms/step - loss: 0.3052 - acc: 0.8973 - precision: 0.4772 - recall: 0.1688 - auc: 0.7652 - val_loss: 0.3145 - val_acc: 0.9007 - val_precision: 0.5294 - val_recall: 0.1671 - val_auc: 0.7631\n",
      "Epoch 11/25\n",
      "100/100 [==============================] - 1s 7ms/step - loss: 0.2956 - acc: 0.8993 - precision: 0.5049 - recall: 0.1914 - auc: 0.7856 - val_loss: 0.4901 - val_acc: 0.8963 - val_precision: 0.4713 - val_recall: 0.2030 - val_auc: 0.7955\n",
      "Epoch 12/25\n",
      "100/100 [==============================] - 1s 8ms/step - loss: 0.3260 - acc: 0.8990 - precision: 0.5007 - recall: 0.2118 - auc: 0.7727 - val_loss: 0.3280 - val_acc: 0.8923 - val_precision: 0.4529 - val_recall: 0.3094 - val_auc: 0.7994\n",
      "Epoch 13/25\n",
      "100/100 [==============================] - 1s 7ms/step - loss: 0.2842 - acc: 0.8992 - precision: 0.5029 - recall: 0.2121 - auc: 0.8059 - val_loss: 0.2766 - val_acc: 0.8979 - val_precision: 0.4911 - val_recall: 0.2389 - val_auc: 0.8186\n",
      "Epoch 14/25\n",
      "100/100 [==============================] - 1s 8ms/step - loss: 0.2649 - acc: 0.9036 - precision: 0.5560 - recall: 0.2323 - auc: 0.8261 - val_loss: 0.3695 - val_acc: 0.8524 - val_precision: 0.3399 - val_recall: 0.4876 - val_auc: 0.8013\n",
      "Epoch 15/25\n",
      "100/100 [==============================] - 1s 10ms/step - loss: 0.2614 - acc: 0.9037 - precision: 0.5514 - recall: 0.2539 - auc: 0.8315 - val_loss: 0.2736 - val_acc: 0.8986 - val_precision: 0.4971 - val_recall: 0.2153 - val_auc: 0.8237\n",
      "Epoch 16/25\n",
      "100/100 [==============================] - 1s 9ms/step - loss: 0.2516 - acc: 0.9053 - precision: 0.5658 - recall: 0.2704 - auc: 0.8444 - val_loss: 0.2761 - val_acc: 0.8977 - val_precision: 0.4922 - val_recall: 0.3502 - val_auc: 0.8392\n",
      "Epoch 17/25\n",
      "100/100 [==============================] - 1s 9ms/step - loss: 0.2508 - acc: 0.9079 - precision: 0.5863 - recall: 0.3029 - auc: 0.8453 - val_loss: 0.2599 - val_acc: 0.9033 - val_precision: 0.5398 - val_recall: 0.3020 - val_auc: 0.8472\n",
      "Epoch 18/25\n",
      "100/100 [==============================] - 1s 9ms/step - loss: 0.2373 - acc: 0.9106 - precision: 0.6118 - recall: 0.3168 - auc: 0.8627 - val_loss: 0.2908 - val_acc: 0.9052 - val_precision: 0.6809 - val_recall: 0.1188 - val_auc: 0.8474\n",
      "Epoch 19/25\n",
      "100/100 [==============================] - 1s 9ms/step - loss: 0.2477 - acc: 0.9089 - precision: 0.5851 - recall: 0.3385 - auc: 0.8539 - val_loss: 0.2531 - val_acc: 0.9031 - val_precision: 0.5612 - val_recall: 0.1931 - val_auc: 0.8559\n",
      "Epoch 20/25\n",
      "100/100 [==============================] - 1s 8ms/step - loss: 0.2293 - acc: 0.9120 - precision: 0.6142 - recall: 0.3490 - auc: 0.8735 - val_loss: 0.2496 - val_acc: 0.9068 - val_precision: 0.5498 - val_recall: 0.4369 - val_auc: 0.8734\n",
      "Epoch 21/25\n",
      "100/100 [==============================] - 1s 7ms/step - loss: 0.2240 - acc: 0.9149 - precision: 0.6276 - recall: 0.3884 - auc: 0.8790 - val_loss: 0.2436 - val_acc: 0.9110 - val_precision: 0.6390 - val_recall: 0.2760 - val_auc: 0.8783\n",
      "Epoch 22/25\n",
      "100/100 [==============================] - 1s 7ms/step - loss: 0.2233 - acc: 0.9162 - precision: 0.6365 - recall: 0.3986 - auc: 0.8803 - val_loss: 0.2387 - val_acc: 0.9123 - val_precision: 0.6298 - val_recall: 0.3243 - val_auc: 0.8757\n",
      "Epoch 23/25\n",
      "100/100 [==============================] - 1s 7ms/step - loss: 0.2150 - acc: 0.9189 - precision: 0.6634 - recall: 0.4023 - auc: 0.8889 - val_loss: 0.2383 - val_acc: 0.9118 - val_precision: 0.5952 - val_recall: 0.4022 - val_auc: 0.8789\n",
      "Epoch 24/25\n",
      "100/100 [==============================] - 1s 6ms/step - loss: 0.2141 - acc: 0.9200 - precision: 0.6725 - recall: 0.4076 - auc: 0.8897 - val_loss: 0.2501 - val_acc: 0.9085 - val_precision: 0.5551 - val_recall: 0.4802 - val_auc: 0.8803\n",
      "Epoch 25/25\n",
      "100/100 [==============================] - 1s 7ms/step - loss: 0.2265 - acc: 0.9198 - precision: 0.6580 - recall: 0.4302 - auc: 0.8910 - val_loss: 0.2605 - val_acc: 0.9063 - val_precision: 0.6829 - val_recall: 0.1386 - val_auc: 0.8793\n"
     ]
    },
    {
     "data": {
      "text/plain": "<keras.callbacks.History at 0x148f2a490>"
     },
     "execution_count": 19,
     "metadata": {},
     "output_type": "execute_result"
    }
   ],
   "source": [
    "# Instantiating a NN\n",
    "NN = keras.Sequential()\n",
    "\n",
    "# 3 layers, double the size at each layer.\n",
    "NN.add(Dense(32, 'relu', input_shape=(422,)))\n",
    "NN.add(Dense(64, 'relu'))\n",
    "NN.add(Dense(128, 'relu'))\n",
    "\n",
    "# 1 output\n",
    "NN.add(Dense(1, 'sigmoid'))\n",
    "\n",
    "NN.compile('adam', 'binary_crossentropy', metrics=['acc', 'Precision', 'Recall','AUC'])\n",
    "\n",
    "NN.fit(X_train, y_train, epochs=25, steps_per_epoch=100, validation_data=(X_test, y_test))"
   ],
   "metadata": {
    "collapsed": false,
    "pycharm": {
     "name": "#%%\n"
    }
   }
  },
  {
   "cell_type": "code",
   "execution_count": 23,
   "outputs": [
    {
     "name": "stdout",
     "output_type": "stream",
     "text": [
      "250/250 [==============================] - 0s 2ms/step - loss: 0.2605 - acc: 0.9063 - precision: 0.6829 - recall: 0.1386 - auc: 0.8793\n"
     ]
    }
   ],
   "source": [
    "NN_loss, NN_acc, NN_prec, NN_recall, NN_AUC = NN.evaluate(X_test, y_test)\n",
    "results_NN = {\n",
    "    'Accuracy': NN_acc,\n",
    "    'Precision': NN_prec,\n",
    "    'Recall': NN_recall,\n",
    "    'ROCAUC': NN_AUC\n",
    "\n",
    "}"
   ],
   "metadata": {
    "collapsed": false,
    "pycharm": {
     "name": "#%%\n"
    }
   }
  },
  {
   "cell_type": "code",
   "execution_count": 25,
   "outputs": [
    {
     "name": "stdout",
     "output_type": "stream",
     "text": [
      "Change in Results\n",
      "Accuracy        +0.09\n",
      "Precision       +0.35\n",
      "Recall          -0.62\n",
      "ROCAUC          +0.06\n"
     ]
    }
   ],
   "source": [
    "custom_change(results_FSM, results_NN)"
   ],
   "metadata": {
    "collapsed": false,
    "pycharm": {
     "name": "#%%\n"
    }
   }
  },
  {
   "cell_type": "markdown",
   "source": [],
   "metadata": {
    "collapsed": false,
    "pycharm": {
     "name": "#%% md\n"
    }
   }
  }
 ],
 "metadata": {
  "kernelspec": {
   "display_name": "Python 3",
   "language": "python",
   "name": "python3"
  },
  "language_info": {
   "codemirror_mode": {
    "name": "ipython",
    "version": 2
   },
   "file_extension": ".py",
   "mimetype": "text/x-python",
   "name": "python",
   "nbconvert_exporter": "python",
   "pygments_lexer": "ipython2",
   "version": "2.7.6"
  }
 },
 "nbformat": 4,
 "nbformat_minor": 0
}