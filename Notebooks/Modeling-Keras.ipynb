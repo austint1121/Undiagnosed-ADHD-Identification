{
 "cells": [
  {
   "cell_type": "markdown",
   "metadata": {
    "collapsed": true,
    "pycharm": {
     "name": "#%% md\n"
    }
   },
   "source": [
    "# Keras Neural Net Modeling"
   ]
  },
  {
   "cell_type": "markdown",
   "source": [
    "## Summary\n",
    "Lets make some NN"
   ],
   "metadata": {
    "collapsed": false,
    "pycharm": {
     "name": "#%% md\n"
    }
   }
  },
  {
   "cell_type": "markdown",
   "source": [
    "## Baseline NN"
   ],
   "metadata": {
    "collapsed": false
   }
  },
  {
   "cell_type": "code",
   "execution_count": 26,
   "outputs": [],
   "source": [
    "# Import statements\n",
    "import keras\n",
    "from keras.layers import Dense\n",
    "import pandas as pd\n",
    "from imblearn.over_sampling import RandomOverSampler\n",
    "\n",
    "# Created functions from functions.py\n",
    "from functions import metrics as custom_score\n",
    "from functions import improvement as custom_change"
   ],
   "metadata": {
    "collapsed": false,
    "pycharm": {
     "name": "#%%\n"
    }
   }
  },
  {
   "cell_type": "code",
   "execution_count": 3,
   "outputs": [],
   "source": [
    "# Load in cleaned data\n",
    "\n",
    "# Training Data\n",
    "X_train = pd.read_csv('../Data/train/X_train.csv', index_col=0)\n",
    "y_train = pd.read_csv('../Data/train/y_train.csv', index_col=0)\n",
    "\n",
    "# Testing Data\n",
    "X_test = pd.read_csv('../Data/test/X_test.csv', index_col=0)\n",
    "y_test = pd.read_csv('../Data/test/y_test.csv', index_col=0)"
   ],
   "metadata": {
    "collapsed": false,
    "pycharm": {
     "name": "#%%\n"
    }
   }
  },
  {
   "cell_type": "code",
   "execution_count": 34,
   "outputs": [
    {
     "name": "stdout",
     "output_type": "stream",
     "text": [
      "Epoch 1/10\n",
      "100/100 [==============================] - 2s 8ms/step - loss: 17.5685 - acc: 0.8690 - precision: 0.3524 - recall: 0.3527 - auc: 0.6444 - val_loss: 8.7116 - val_acc: 0.8818 - val_precision: 0.4185 - val_recall: 0.4319 - val_auc: 0.6907\n",
      "Epoch 2/10\n",
      "100/100 [==============================] - 0s 5ms/step - loss: 7.4607 - acc: 0.8918 - precision: 0.4648 - recall: 0.4624 - auc: 0.7066 - val_loss: 9.9590 - val_acc: 0.7330 - val_precision: 0.2371 - val_recall: 0.7389 - val_auc: 0.7514\n",
      "Epoch 3/10\n",
      "100/100 [==============================] - 0s 5ms/step - loss: 5.9152 - acc: 0.8920 - precision: 0.4662 - recall: 0.4726 - auc: 0.7132 - val_loss: 4.5526 - val_acc: 0.8934 - val_precision: 0.4763 - val_recall: 0.5347 - val_auc: 0.7488\n",
      "Epoch 4/10\n",
      "100/100 [==============================] - 0s 5ms/step - loss: 4.1188 - acc: 0.9001 - precision: 0.5059 - recall: 0.5085 - auc: 0.7387 - val_loss: 3.7552 - val_acc: 0.8535 - val_precision: 0.3631 - val_recall: 0.5941 - val_auc: 0.7532\n",
      "Epoch 5/10\n",
      "100/100 [==============================] - 0s 5ms/step - loss: 6.4573 - acc: 0.8925 - precision: 0.4684 - recall: 0.4676 - auc: 0.7171 - val_loss: 3.2103 - val_acc: 0.8958 - val_precision: 0.4861 - val_recall: 0.5198 - val_auc: 0.7428\n",
      "Epoch 6/10\n",
      "100/100 [==============================] - 1s 6ms/step - loss: 2.6489 - acc: 0.9001 - precision: 0.5060 - recall: 0.5070 - auc: 0.7493 - val_loss: 3.2771 - val_acc: 0.9130 - val_precision: 0.6556 - val_recall: 0.2946 - val_auc: 0.6603\n",
      "Epoch 7/10\n",
      "100/100 [==============================] - 1s 6ms/step - loss: 4.6452 - acc: 0.8914 - precision: 0.4629 - recall: 0.4621 - auc: 0.7155 - val_loss: 2.7864 - val_acc: 0.9111 - val_precision: 0.5836 - val_recall: 0.4233 - val_auc: 0.7104\n",
      "Epoch 8/10\n",
      "100/100 [==============================] - 1s 7ms/step - loss: 2.6156 - acc: 0.8967 - precision: 0.4894 - recall: 0.4946 - auc: 0.7383 - val_loss: 4.8678 - val_acc: 0.9036 - val_precision: 0.6939 - val_recall: 0.0842 - val_auc: 0.5511\n",
      "Epoch 9/10\n",
      "100/100 [==============================] - 1s 7ms/step - loss: 3.7587 - acc: 0.8968 - precision: 0.4895 - recall: 0.4745 - auc: 0.7252 - val_loss: 2.2593 - val_acc: 0.8854 - val_precision: 0.4481 - val_recall: 0.5718 - val_auc: 0.7792\n",
      "Epoch 10/10\n",
      "100/100 [==============================] - 1s 7ms/step - loss: 3.8368 - acc: 0.8937 - precision: 0.4742 - recall: 0.4745 - auc: 0.7268 - val_loss: 2.1977 - val_acc: 0.8792 - val_precision: 0.4278 - val_recall: 0.5755 - val_auc: 0.7779\n"
     ]
    },
    {
     "data": {
      "text/plain": "<keras.callbacks.History at 0x148a29f10>"
     },
     "execution_count": 34,
     "metadata": {},
     "output_type": "execute_result"
    }
   ],
   "source": [
    " # Instantiating a NN\n",
    "FSM_NN = keras.Sequential()\n",
    "\n",
    "# Starting small with 30 neurons\n",
    "FSM_NN.add(Dense(30, 'relu', input_shape=(422,)))\n",
    "\n",
    "# 1 output\n",
    "FSM_NN.add(Dense(1, 'sigmoid'))\n",
    "\n",
    "# Compiling model with accuracy, precision, and recall metrics. Using \"Adam\" as an optimizer\n",
    "FSM_NN.compile('adam', 'binary_crossentropy', metrics=['acc', 'Precision', 'Recall','AUC'])\n",
    "\n",
    "FSM_NN.fit(X_train, y_train, epochs=10, steps_per_epoch=100, validation_data=(X_test, y_test))"
   ],
   "metadata": {
    "collapsed": false,
    "pycharm": {
     "name": "#%%\n"
    }
   }
  },
  {
   "cell_type": "code",
   "execution_count": 22,
   "outputs": [
    {
     "name": "stdout",
     "output_type": "stream",
     "text": [
      "250/250 [==============================] - 0s 2ms/step - loss: 3.6035 - acc: 0.8193 - precision: 0.3298 - recall: 0.7611 - auc: 0.8170\n"
     ]
    }
   ],
   "source": [
    "## Evaluating NN\n",
    "FSM_loss, FSM_acc, FSM_prec, FSM_recall, FSM_AUC = FSM_NN.evaluate(X_test, y_test)\n",
    "\n",
    "results_FSM = {\n",
    "    'Accuracy': FSM_acc,\n",
    "    'Precision': FSM_prec,\n",
    "    'Recall': FSM_recall,\n",
    "    'ROCAUC': FSM_AUC\n",
    "\n",
    "}"
   ],
   "metadata": {
    "collapsed": false,
    "pycharm": {
     "name": "#%%\n"
    }
   }
  },
  {
   "cell_type": "markdown",
   "source": [
    "### Conclusion\n",
    "The neural network is boasting some impressively bad precision here, but it is doing it's best with the 30 neurons I provided it. This can definitely be improved, so let's start by giving it more brain power."
   ],
   "metadata": {
    "collapsed": false,
    "pycharm": {
     "name": "#%% md\n"
    }
   }
  },
  {
   "cell_type": "markdown",
   "source": [
    "## 3 Layer NN and more Training Time\n",
    "I'll add some more layers, and give the model more time to train and see if that gives us an improvement."
   ],
   "metadata": {
    "collapsed": false
   }
  },
  {
   "cell_type": "code",
   "execution_count": 19,
   "outputs": [
    {
     "name": "stdout",
     "output_type": "stream",
     "text": [
      "Epoch 1/25\n",
      "100/100 [==============================] - 2s 11ms/step - loss: 14.4658 - acc: 0.8348 - precision: 0.1739 - recall: 0.1691 - auc: 0.5591 - val_loss: 0.8223 - val_acc: 0.8420 - val_precision: 0.2298 - val_recall: 0.2389 - val_auc: 0.6454\n",
      "Epoch 2/25\n",
      "100/100 [==============================] - 1s 8ms/step - loss: 0.9536 - acc: 0.8527 - precision: 0.2250 - recall: 0.1871 - auc: 0.6130 - val_loss: 0.5886 - val_acc: 0.8834 - val_precision: 0.3048 - val_recall: 0.1188 - val_auc: 0.6450\n",
      "Epoch 3/25\n",
      "100/100 [==============================] - 1s 9ms/step - loss: 0.6757 - acc: 0.8658 - precision: 0.2621 - recall: 0.1806 - auc: 0.6423 - val_loss: 0.4241 - val_acc: 0.8884 - val_precision: 0.3648 - val_recall: 0.1386 - val_auc: 0.6648\n",
      "Epoch 4/25\n",
      "100/100 [==============================] - 1s 11ms/step - loss: 0.5579 - acc: 0.8690 - precision: 0.2452 - recall: 0.1425 - auc: 0.6403 - val_loss: 0.3950 - val_acc: 0.8921 - val_precision: 0.3962 - val_recall: 0.1275 - val_auc: 0.6963\n",
      "Epoch 5/25\n",
      "100/100 [==============================] - 1s 11ms/step - loss: 0.3778 - acc: 0.8870 - precision: 0.3525 - recall: 0.1403 - auc: 0.6897 - val_loss: 0.3687 - val_acc: 0.8793 - val_precision: 0.3186 - val_recall: 0.1696 - val_auc: 0.7124\n",
      "Epoch 6/25\n",
      "100/100 [==============================] - 1s 12ms/step - loss: 0.3812 - acc: 0.8851 - precision: 0.3523 - recall: 0.1632 - auc: 0.6885 - val_loss: 0.3806 - val_acc: 0.8946 - val_precision: 0.4086 - val_recall: 0.0941 - val_auc: 0.7047\n",
      "Epoch 7/25\n",
      "100/100 [==============================] - 1s 7ms/step - loss: 0.3534 - acc: 0.8903 - precision: 0.3888 - recall: 0.1483 - auc: 0.7106 - val_loss: 0.3362 - val_acc: 0.8937 - val_precision: 0.4226 - val_recall: 0.1386 - val_auc: 0.7199\n",
      "Epoch 8/25\n",
      "100/100 [==============================] - 1s 7ms/step - loss: 0.3322 - acc: 0.8934 - precision: 0.4238 - recall: 0.1524 - auc: 0.7314 - val_loss: 0.3454 - val_acc: 0.8861 - val_precision: 0.3762 - val_recall: 0.1918 - val_auc: 0.7217\n",
      "Epoch 9/25\n",
      "100/100 [==============================] - 1s 7ms/step - loss: 0.3512 - acc: 0.8889 - precision: 0.3890 - recall: 0.1737 - auc: 0.7219 - val_loss: 0.3553 - val_acc: 0.9002 - val_precision: 0.5307 - val_recall: 0.1176 - val_auc: 0.7409\n",
      "Epoch 10/25\n",
      "100/100 [==============================] - 1s 7ms/step - loss: 0.3052 - acc: 0.8973 - precision: 0.4772 - recall: 0.1688 - auc: 0.7652 - val_loss: 0.3145 - val_acc: 0.9007 - val_precision: 0.5294 - val_recall: 0.1671 - val_auc: 0.7631\n",
      "Epoch 11/25\n",
      "100/100 [==============================] - 1s 7ms/step - loss: 0.2956 - acc: 0.8993 - precision: 0.5049 - recall: 0.1914 - auc: 0.7856 - val_loss: 0.4901 - val_acc: 0.8963 - val_precision: 0.4713 - val_recall: 0.2030 - val_auc: 0.7955\n",
      "Epoch 12/25\n",
      "100/100 [==============================] - 1s 8ms/step - loss: 0.3260 - acc: 0.8990 - precision: 0.5007 - recall: 0.2118 - auc: 0.7727 - val_loss: 0.3280 - val_acc: 0.8923 - val_precision: 0.4529 - val_recall: 0.3094 - val_auc: 0.7994\n",
      "Epoch 13/25\n",
      "100/100 [==============================] - 1s 7ms/step - loss: 0.2842 - acc: 0.8992 - precision: 0.5029 - recall: 0.2121 - auc: 0.8059 - val_loss: 0.2766 - val_acc: 0.8979 - val_precision: 0.4911 - val_recall: 0.2389 - val_auc: 0.8186\n",
      "Epoch 14/25\n",
      "100/100 [==============================] - 1s 8ms/step - loss: 0.2649 - acc: 0.9036 - precision: 0.5560 - recall: 0.2323 - auc: 0.8261 - val_loss: 0.3695 - val_acc: 0.8524 - val_precision: 0.3399 - val_recall: 0.4876 - val_auc: 0.8013\n",
      "Epoch 15/25\n",
      "100/100 [==============================] - 1s 10ms/step - loss: 0.2614 - acc: 0.9037 - precision: 0.5514 - recall: 0.2539 - auc: 0.8315 - val_loss: 0.2736 - val_acc: 0.8986 - val_precision: 0.4971 - val_recall: 0.2153 - val_auc: 0.8237\n",
      "Epoch 16/25\n",
      "100/100 [==============================] - 1s 9ms/step - loss: 0.2516 - acc: 0.9053 - precision: 0.5658 - recall: 0.2704 - auc: 0.8444 - val_loss: 0.2761 - val_acc: 0.8977 - val_precision: 0.4922 - val_recall: 0.3502 - val_auc: 0.8392\n",
      "Epoch 17/25\n",
      "100/100 [==============================] - 1s 9ms/step - loss: 0.2508 - acc: 0.9079 - precision: 0.5863 - recall: 0.3029 - auc: 0.8453 - val_loss: 0.2599 - val_acc: 0.9033 - val_precision: 0.5398 - val_recall: 0.3020 - val_auc: 0.8472\n",
      "Epoch 18/25\n",
      "100/100 [==============================] - 1s 9ms/step - loss: 0.2373 - acc: 0.9106 - precision: 0.6118 - recall: 0.3168 - auc: 0.8627 - val_loss: 0.2908 - val_acc: 0.9052 - val_precision: 0.6809 - val_recall: 0.1188 - val_auc: 0.8474\n",
      "Epoch 19/25\n",
      "100/100 [==============================] - 1s 9ms/step - loss: 0.2477 - acc: 0.9089 - precision: 0.5851 - recall: 0.3385 - auc: 0.8539 - val_loss: 0.2531 - val_acc: 0.9031 - val_precision: 0.5612 - val_recall: 0.1931 - val_auc: 0.8559\n",
      "Epoch 20/25\n",
      "100/100 [==============================] - 1s 8ms/step - loss: 0.2293 - acc: 0.9120 - precision: 0.6142 - recall: 0.3490 - auc: 0.8735 - val_loss: 0.2496 - val_acc: 0.9068 - val_precision: 0.5498 - val_recall: 0.4369 - val_auc: 0.8734\n",
      "Epoch 21/25\n",
      "100/100 [==============================] - 1s 7ms/step - loss: 0.2240 - acc: 0.9149 - precision: 0.6276 - recall: 0.3884 - auc: 0.8790 - val_loss: 0.2436 - val_acc: 0.9110 - val_precision: 0.6390 - val_recall: 0.2760 - val_auc: 0.8783\n",
      "Epoch 22/25\n",
      "100/100 [==============================] - 1s 7ms/step - loss: 0.2233 - acc: 0.9162 - precision: 0.6365 - recall: 0.3986 - auc: 0.8803 - val_loss: 0.2387 - val_acc: 0.9123 - val_precision: 0.6298 - val_recall: 0.3243 - val_auc: 0.8757\n",
      "Epoch 23/25\n",
      "100/100 [==============================] - 1s 7ms/step - loss: 0.2150 - acc: 0.9189 - precision: 0.6634 - recall: 0.4023 - auc: 0.8889 - val_loss: 0.2383 - val_acc: 0.9118 - val_precision: 0.5952 - val_recall: 0.4022 - val_auc: 0.8789\n",
      "Epoch 24/25\n",
      "100/100 [==============================] - 1s 6ms/step - loss: 0.2141 - acc: 0.9200 - precision: 0.6725 - recall: 0.4076 - auc: 0.8897 - val_loss: 0.2501 - val_acc: 0.9085 - val_precision: 0.5551 - val_recall: 0.4802 - val_auc: 0.8803\n",
      "Epoch 25/25\n",
      "100/100 [==============================] - 1s 7ms/step - loss: 0.2265 - acc: 0.9198 - precision: 0.6580 - recall: 0.4302 - auc: 0.8910 - val_loss: 0.2605 - val_acc: 0.9063 - val_precision: 0.6829 - val_recall: 0.1386 - val_auc: 0.8793\n"
     ]
    },
    {
     "data": {
      "text/plain": "<keras.callbacks.History at 0x148f2a490>"
     },
     "execution_count": 19,
     "metadata": {},
     "output_type": "execute_result"
    }
   ],
   "source": [
    "# Instantiating a NN\n",
    "NN = keras.Sequential()\n",
    "\n",
    "# 3 layers, double the size at each layer.\n",
    "NN.add(Dense(32, 'relu', input_shape=(422,)))\n",
    "NN.add(Dense(64, 'relu'))\n",
    "NN.add(Dense(128, 'relu'))\n",
    "\n",
    "# 1 output\n",
    "NN.add(Dense(1, 'sigmoid'))\n",
    "\n",
    "NN.compile('adam', 'binary_crossentropy', metrics=['acc', 'Precision', 'Recall','AUC'])\n",
    "\n",
    "NN.fit(X_train, y_train, epochs=25, steps_per_epoch=100, validation_data=(X_test, y_test))"
   ],
   "metadata": {
    "collapsed": false,
    "pycharm": {
     "name": "#%%\n"
    }
   }
  },
  {
   "cell_type": "code",
   "execution_count": 31,
   "outputs": [
    {
     "name": "stdout",
     "output_type": "stream",
     "text": [
      "250/250 [==============================] - 1s 3ms/step - loss: 0.2605 - acc: 0.9063 - precision: 0.6829 - recall: 0.1386 - auc: 0.8793\n"
     ]
    }
   ],
   "source": [
    "NN_loss, NN_acc, NN_prec, NN_recall, NN_AUC = NN.evaluate(X_test, y_test)\n",
    "results_NN = {\n",
    "    'Accuracy': NN_acc,\n",
    "    'Precision': NN_prec,\n",
    "    'Recall': NN_recall,\n",
    "    'ROCAUC': NN_AUC\n",
    "\n",
    "}"
   ],
   "metadata": {
    "collapsed": false,
    "pycharm": {
     "name": "#%%\n"
    }
   }
  },
  {
   "cell_type": "code",
   "execution_count": 25,
   "outputs": [
    {
     "name": "stdout",
     "output_type": "stream",
     "text": [
      "Change in Results\n",
      "Accuracy        +0.09\n",
      "Precision       +0.35\n",
      "Recall          -0.62\n",
      "ROCAUC          +0.06\n"
     ]
    }
   ],
   "source": [
    "custom_change(results_FSM, results_NN)"
   ],
   "metadata": {
    "collapsed": false,
    "pycharm": {
     "name": "#%%\n"
    }
   }
  },
  {
   "cell_type": "markdown",
   "source": [
    "### Analysis\n",
    "An improvement in accuracy, precision and ROCAUC, but a huge drop in Recall. This probably has to do with the data imbalance, I'll address it using oversampling, the same way I did with the Catboost model."
   ],
   "metadata": {
    "collapsed": false,
    "pycharm": {
     "name": "#%% md\n"
    }
   }
  },
  {
   "cell_type": "markdown",
   "source": [
    "# Oversample Nerual Network"
   ],
   "metadata": {
    "collapsed": false
   }
  },
  {
   "cell_type": "code",
   "execution_count": 35,
   "outputs": [],
   "source": [
    "# Initiate Over sampler\n",
    "ros = RandomOverSampler(random_state=15)\n",
    "\n",
    "# Applying ONLY to training set to prevent data leakage.\n",
    "X_train_os, y_train_os = ros.fit_resample(X_train, y_train)"
   ],
   "metadata": {
    "collapsed": false,
    "pycharm": {
     "name": "#%%\n"
    }
   }
  },
  {
   "cell_type": "code",
   "execution_count": 36,
   "outputs": [
    {
     "name": "stdout",
     "output_type": "stream",
     "text": [
      "Epoch 1/25\n",
      "100/100 [==============================] - 3s 13ms/step - loss: 7.3386 - acc: 0.6670 - precision: 0.6689 - recall: 0.6612 - auc: 0.7017 - val_loss: 1.9464 - val_acc: 0.6485 - val_precision: 0.1876 - val_recall: 0.7426 - val_auc: 0.7534\n",
      "Epoch 2/25\n",
      "100/100 [==============================] - 1s 8ms/step - loss: 1.2326 - acc: 0.7120 - precision: 0.7135 - recall: 0.7086 - auc: 0.7854 - val_loss: 2.2870 - val_acc: 0.4579 - val_precision: 0.1483 - val_recall: 0.9183 - val_auc: 0.7808\n",
      "Epoch 3/25\n",
      "100/100 [==============================] - 1s 8ms/step - loss: 0.9519 - acc: 0.7346 - precision: 0.7343 - recall: 0.7351 - auc: 0.8144 - val_loss: 0.5930 - val_acc: 0.8415 - val_precision: 0.3390 - val_recall: 0.5965 - val_auc: 0.8154\n",
      "Epoch 4/25\n",
      "100/100 [==============================] - 1s 8ms/step - loss: 0.6955 - acc: 0.7648 - precision: 0.7669 - recall: 0.7607 - auc: 0.8451 - val_loss: 1.2802 - val_acc: 0.5361 - val_precision: 0.1685 - val_recall: 0.9109 - val_auc: 0.8318\n",
      "Epoch 5/25\n",
      "100/100 [==============================] - 1s 8ms/step - loss: 0.6334 - acc: 0.7758 - precision: 0.7761 - recall: 0.7754 - auc: 0.8583 - val_loss: 0.4758 - val_acc: 0.8562 - val_precision: 0.3752 - val_recall: 0.6324 - val_auc: 0.8395\n",
      "Epoch 6/25\n",
      "100/100 [==============================] - 1s 7ms/step - loss: 0.5201 - acc: 0.7960 - precision: 0.7980 - recall: 0.7926 - auc: 0.8783 - val_loss: 0.4462 - val_acc: 0.8717 - val_precision: 0.4137 - val_recall: 0.6436 - val_auc: 0.8547\n",
      "Epoch 7/25\n",
      "100/100 [==============================] - 1s 11ms/step - loss: 0.5043 - acc: 0.8000 - precision: 0.8017 - recall: 0.7971 - auc: 0.8830 - val_loss: 0.8341 - val_acc: 0.7150 - val_precision: 0.2434 - val_recall: 0.8614 - val_auc: 0.8645\n",
      "Epoch 8/25\n",
      "100/100 [==============================] - 1s 12ms/step - loss: 0.4626 - acc: 0.8127 - precision: 0.8150 - recall: 0.8090 - auc: 0.8934 - val_loss: 0.4543 - val_acc: 0.8471 - val_precision: 0.3672 - val_recall: 0.7067 - val_auc: 0.8591\n",
      "Epoch 9/25\n",
      "100/100 [==============================] - 1s 12ms/step - loss: 0.4552 - acc: 0.8137 - precision: 0.8163 - recall: 0.8095 - auc: 0.8946 - val_loss: 0.8769 - val_acc: 0.6589 - val_precision: 0.2144 - val_recall: 0.8899 - val_auc: 0.8641\n",
      "Epoch 10/25\n",
      "100/100 [==============================] - 1s 11ms/step - loss: 0.4233 - acc: 0.8232 - precision: 0.8251 - recall: 0.8205 - auc: 0.9030 - val_loss: 0.4268 - val_acc: 0.8586 - val_precision: 0.3906 - val_recall: 0.7092 - val_auc: 0.8662\n",
      "Epoch 11/25\n",
      "100/100 [==============================] - 1s 12ms/step - loss: 0.4179 - acc: 0.8254 - precision: 0.8282 - recall: 0.8210 - auc: 0.9052 - val_loss: 0.5169 - val_acc: 0.8216 - val_precision: 0.3377 - val_recall: 0.7946 - val_auc: 0.8679\n",
      "Epoch 12/25\n",
      "100/100 [==============================] - 1s 8ms/step - loss: 0.3797 - acc: 0.8383 - precision: 0.8421 - recall: 0.8328 - auc: 0.9156 - val_loss: 0.4329 - val_acc: 0.8515 - val_precision: 0.3802 - val_recall: 0.7426 - val_auc: 0.8693\n",
      "Epoch 13/25\n",
      "100/100 [==============================] - 1s 7ms/step - loss: 0.3634 - acc: 0.8440 - precision: 0.8476 - recall: 0.8388 - auc: 0.9217 - val_loss: 0.3105 - val_acc: 0.9021 - val_precision: 0.5143 - val_recall: 0.5792 - val_auc: 0.8686\n",
      "Epoch 14/25\n",
      "100/100 [==============================] - 1s 7ms/step - loss: 0.3864 - acc: 0.8366 - precision: 0.8395 - recall: 0.8323 - auc: 0.9150 - val_loss: 0.8005 - val_acc: 0.6657 - val_precision: 0.2158 - val_recall: 0.8750 - val_auc: 0.8684\n",
      "Epoch 15/25\n",
      "100/100 [==============================] - 1s 7ms/step - loss: 0.3927 - acc: 0.8347 - precision: 0.8361 - recall: 0.8326 - auc: 0.9136 - val_loss: 0.4152 - val_acc: 0.8608 - val_precision: 0.3981 - val_recall: 0.7351 - val_auc: 0.8722\n",
      "Epoch 16/25\n",
      "100/100 [==============================] - 1s 8ms/step - loss: 0.3675 - acc: 0.8450 - precision: 0.8479 - recall: 0.8408 - auc: 0.9207 - val_loss: 0.7156 - val_acc: 0.7066 - val_precision: 0.2374 - val_recall: 0.8589 - val_auc: 0.8704\n",
      "Epoch 17/25\n",
      "100/100 [==============================] - 1s 9ms/step - loss: 0.3499 - acc: 0.8484 - precision: 0.8514 - recall: 0.8441 - auc: 0.9261 - val_loss: 0.3420 - val_acc: 0.8857 - val_precision: 0.4557 - val_recall: 0.6683 - val_auc: 0.8755\n",
      "Epoch 18/25\n",
      "100/100 [==============================] - 1s 12ms/step - loss: 0.3638 - acc: 0.8444 - precision: 0.8444 - recall: 0.8444 - auc: 0.9217 - val_loss: 0.3386 - val_acc: 0.8855 - val_precision: 0.4546 - val_recall: 0.6572 - val_auc: 0.8690\n",
      "Epoch 19/25\n",
      "100/100 [==============================] - 1s 9ms/step - loss: 0.3510 - acc: 0.8481 - precision: 0.8498 - recall: 0.8457 - auc: 0.9257 - val_loss: 0.4058 - val_acc: 0.8591 - val_precision: 0.3933 - val_recall: 0.7228 - val_auc: 0.8752\n",
      "Epoch 20/25\n",
      "100/100 [==============================] - 1s 8ms/step - loss: 0.3442 - acc: 0.8509 - precision: 0.8524 - recall: 0.8487 - auc: 0.9278 - val_loss: 0.4101 - val_acc: 0.8613 - val_precision: 0.3975 - val_recall: 0.7203 - val_auc: 0.8696\n",
      "Epoch 21/25\n",
      "100/100 [==============================] - 1s 13ms/step - loss: 0.3419 - acc: 0.8527 - precision: 0.8548 - recall: 0.8497 - auc: 0.9288 - val_loss: 0.3217 - val_acc: 0.8919 - val_precision: 0.4748 - val_recall: 0.6423 - val_auc: 0.8670\n",
      "Epoch 22/25\n",
      "100/100 [==============================] - 1s 10ms/step - loss: 0.3468 - acc: 0.8514 - precision: 0.8516 - recall: 0.8512 - auc: 0.9276 - val_loss: 0.6576 - val_acc: 0.7553 - val_precision: 0.2708 - val_recall: 0.8379 - val_auc: 0.8745\n",
      "Epoch 23/25\n",
      "100/100 [==============================] - 1s 7ms/step - loss: 0.3437 - acc: 0.8530 - precision: 0.8536 - recall: 0.8522 - auc: 0.9291 - val_loss: 0.4545 - val_acc: 0.8531 - val_precision: 0.3851 - val_recall: 0.7574 - val_auc: 0.8778\n",
      "Epoch 24/25\n",
      "100/100 [==============================] - 1s 7ms/step - loss: 0.3272 - acc: 0.8575 - precision: 0.8595 - recall: 0.8546 - auc: 0.9341 - val_loss: 0.3812 - val_acc: 0.8679 - val_precision: 0.4103 - val_recall: 0.6993 - val_auc: 0.8687\n",
      "Epoch 25/25\n",
      "100/100 [==============================] - 1s 7ms/step - loss: 0.3223 - acc: 0.8610 - precision: 0.8612 - recall: 0.8608 - auc: 0.9359 - val_loss: 0.3518 - val_acc: 0.8847 - val_precision: 0.4521 - val_recall: 0.6597 - val_auc: 0.8728\n"
     ]
    },
    {
     "data": {
      "text/plain": "<keras.callbacks.History at 0x147c09970>"
     },
     "execution_count": 36,
     "metadata": {},
     "output_type": "execute_result"
    }
   ],
   "source": [
    "# Instantiating a OS NN\n",
    "OS_NN = keras.Sequential()\n",
    "\n",
    "# 3 layers, double the size at each layer.\n",
    "OS_NN.add(Dense(32, 'relu', input_shape=(422,)))\n",
    "OS_NN.add(Dense(64, 'relu'))\n",
    "OS_NN.add(Dense(128, 'relu'))\n",
    "\n",
    "# 1 output\n",
    "OS_NN.add(Dense(1, 'sigmoid'))\n",
    "\n",
    "OS_NN.compile('adam', 'binary_crossentropy', metrics=['acc', 'Precision', 'Recall','AUC'])\n",
    "\n",
    "OS_NN.fit(X_train_os, y_train_os, epochs=25, steps_per_epoch=100, validation_data=(X_test, y_test))"
   ],
   "metadata": {
    "collapsed": false,
    "pycharm": {
     "name": "#%%\n"
    }
   }
  },
  {
   "cell_type": "code",
   "execution_count": 37,
   "outputs": [
    {
     "name": "stdout",
     "output_type": "stream",
     "text": [
      "250/250 [==============================] - 0s 1ms/step - loss: 0.3518 - acc: 0.8847 - precision: 0.4521 - recall: 0.6597 - auc: 0.8728\n"
     ]
    }
   ],
   "source": [
    "OS_NN_loss, OS_NN_acc, OS_NN_prec, OS_NN_recall, OS_NN_AUC = OS_NN.evaluate(X_test, y_test)\n",
    "results_OS_NN = {\n",
    "    'Accuracy': OS_NN_acc,\n",
    "    'Precision': OS_NN_prec,\n",
    "    'Recall': OS_NN_recall,\n",
    "    'ROCAUC': OS_NN_AUC\n",
    "\n",
    "}"
   ],
   "metadata": {
    "collapsed": false,
    "pycharm": {
     "name": "#%%\n"
    }
   }
  },
  {
   "cell_type": "code",
   "execution_count": 38,
   "outputs": [
    {
     "name": "stdout",
     "output_type": "stream",
     "text": [
      "Change in Results\n",
      "Accuracy        -0.02\n",
      "Precision       -0.23\n",
      "Recall          +0.52\n",
      "ROCAUC          -0.01\n"
     ]
    }
   ],
   "source": [
    "custom_change(results_NN, results_OS_NN)"
   ],
   "metadata": {
    "collapsed": false,
    "pycharm": {
     "name": "#%%\n"
    }
   }
  },
  {
   "cell_type": "markdown",
   "source": [
    "### Analysis\n",
    "The oversample seems to have balanced things out. We have decent AUC so we aren't far off the mark, but precision is now below 0.5 which is a bit rough. There is also a large difference between the training scores and testing scores, so our model is overfitting, let's just go ahead and adjust that now."
   ],
   "metadata": {
    "collapsed": false,
    "pycharm": {
     "name": "#%% md\n"
    }
   }
  },
  {
   "cell_type": "markdown",
   "source": [
    "# Stop Overfittingh."
   ],
   "metadata": {
    "collapsed": false,
    "pycharm": {
     "name": "#%% md\n"
    }
   }
  }
 ],
 "metadata": {
  "kernelspec": {
   "display_name": "Python 3",
   "language": "python",
   "name": "python3"
  },
  "language_info": {
   "codemirror_mode": {
    "name": "ipython",
    "version": 2
   },
   "file_extension": ".py",
   "mimetype": "text/x-python",
   "name": "python",
   "nbconvert_exporter": "python",
   "pygments_lexer": "ipython2",
   "version": "2.7.6"
  }
 },
 "nbformat": 4,
 "nbformat_minor": 0
}